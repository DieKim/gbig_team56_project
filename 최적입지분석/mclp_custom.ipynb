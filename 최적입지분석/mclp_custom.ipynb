{
 "cells": [
  {
   "cell_type": "code",
   "execution_count": 1,
   "metadata": {},
   "outputs": [],
   "source": [
    "import numpy as np\n",
    "from scipy.spatial import distance_matrix\n",
    "from gurobipy import *\n",
    "#from scipy.spatial import ConvexHull\n",
    "#from shapely.geometry import Polygon, Point\n",
    "from numpy import random\n",
    "import time\n",
    "import pandas as pd\n",
    "from itertools import zip_longest   # zip 함수 길이 다를 경우\n",
    "from haversine import haversine"
   ]
  },
  {
   "cell_type": "markdown",
   "metadata": {},
   "source": [
    "# 행정동 입력\n",
    "* 행정동: 후보 행정동 입력\n",
    "* 행정동리스트: 후보 행정동 인근 행정동 입력(후보 행정동 포함)"
   ]
  },
  {
   "cell_type": "code",
   "execution_count": 34,
   "metadata": {},
   "outputs": [],
   "source": [
    "행정동 = '장위2동'\n",
    "행정동리스트 = ['장위2동', '월곡2동', '석관동', '월계1동', '장위3동', '장위1동']"
   ]
  },
  {
   "cell_type": "code",
   "execution_count": 35,
   "metadata": {},
   "outputs": [],
   "source": [
    "# 행정동 = '역촌동'\n",
    "# 행정동리스트 = ['역촌동', '신사1동', '응암1동', '대조동', '구산동', '응암2동']"
   ]
  },
  {
   "cell_type": "code",
   "execution_count": 36,
   "metadata": {},
   "outputs": [],
   "source": [
    "# 행정동 = '홍제3동'\n",
    "# 행정동리스트 = ['홍제3동', '홍제2동', '홍제1동', '홍은2동', '홍은1동', '부암동']"
   ]
  },
  {
   "cell_type": "code",
   "execution_count": 37,
   "metadata": {},
   "outputs": [],
   "source": [
    "# 행정동 = '반포본동'\n",
    "# 행정동리스트 = ['반포본동', '방배본동', '사당2동', '반포2동', '반포4동']"
   ]
  },
  {
   "cell_type": "code",
   "execution_count": 38,
   "metadata": {},
   "outputs": [],
   "source": [
    "입지후보지 = pd.read_csv('수정_최종후보입지.csv', encoding='EUC-KR')\n",
    "입지후보지 = 입지후보지[입지후보지['행정동'] == 행정동]\n",
    "\n",
    "버스 = pd.read_csv('서울시_버스정류장_행정동추가.csv')\n",
    "버스 = 버스[버스['행정동'].isin(행정동리스트)]\n",
    "버스_points = np.array([list(i) for i in zip(버스['X좌표'], 버스['Y좌표'])])\n",
    "\n",
    "지하철 = pd.read_csv('서울시_지하철역_행정동추가.csv', encoding='EUC-KR', index_col=0)\n",
    "지하철 = 지하철[지하철['행정동'].isin(행정동리스트)]\n",
    "지하철_points = np.array([list(i) for i in zip(지하철['경도'], 지하철['위도'])])\n",
    "\n",
    "주차장 = pd.read_csv('서울시_주차장_행정동추가.csv', encoding='EUC-KR', index_col=0).drop('Unnamed: 0.1', axis=1)\n",
    "주차장 = 주차장[주차장['행정동'].isin(행정동리스트)]\n",
    "주차장_points = np.array([list(i) for i in zip(주차장['경도'], 주차장['위도'])])\n",
    "\n",
    "주택 = pd.read_csv('서울시주택_행정동추가.csv', encoding='EUC-KR', index_col=0).drop('Unnamed: 0.1', axis=1)\n",
    "주택 = 주택[주택['행정동'].isin(행정동리스트)]\n",
    "주택_points = np.array([list(i) for i in zip(주택['위도'], 주택['경도'])])   # 위도 경도 바뀜"
   ]
  },
  {
   "cell_type": "code",
   "execution_count": 39,
   "metadata": {},
   "outputs": [],
   "source": [
    "# 버스 = pd.read_csv('서울시_버스정류장_행정동추가.csv')\n",
    "# 버스['행정동'].nunique()"
   ]
  },
  {
   "cell_type": "code",
   "execution_count": 40,
   "metadata": {},
   "outputs": [],
   "source": [
    "# print(입지후보지.shape)\n",
    "# print(버스.shape)\n",
    "# print(지하철.shape)\n",
    "# print(주차장.shape)\n",
    "# print(주택.shape)"
   ]
  },
  {
   "cell_type": "code",
   "execution_count": 41,
   "metadata": {},
   "outputs": [],
   "source": [
    "X = list(버스['X좌표']) + list(지하철['경도']) + list(주차장['경도']) + list(주택['위도'])     # 주택 위도 경도 이름 바뀜\n",
    "Y = list(버스['Y좌표']) + list(지하철['위도']) + list(주차장['위도']) + list(주택['경도'])"
   ]
  },
  {
   "cell_type": "code",
   "execution_count": 42,
   "metadata": {},
   "outputs": [
    {
     "name": "stdout",
     "output_type": "stream",
     "text": [
      "(145, 2)\n"
     ]
    },
    {
     "data": {
      "text/plain": [
       "array([[127.06723071,  37.61506526],\n",
       "       [127.06700402,  37.61519435]])"
      ]
     },
     "execution_count": 42,
     "metadata": {},
     "output_type": "execute_result"
    }
   ],
   "source": [
    "points = np.array([list(i) for i in zip(X, Y)])\n",
    "print(points.shape)\n",
    "points[:2]"
   ]
  },
  {
   "cell_type": "markdown",
   "metadata": {},
   "source": [
    "# 가중치 수정\n",
    "* 가중치: (그 요소 제외 합) / (전체 합)"
   ]
  },
  {
   "cell_type": "code",
   "execution_count": 43,
   "metadata": {},
   "outputs": [],
   "source": [
    "전체w = points.shape[0]\n",
    "버스w = 버스.shape[0]\n",
    "지하철w = 지하철.shape[0]\n",
    "주차장w = 주차장.shape[0]\n",
    "주택w = 주택.shape[0]"
   ]
  },
  {
   "cell_type": "code",
   "execution_count": 44,
   "metadata": {},
   "outputs": [],
   "source": [
    "m1 = (전체w-버스w)/전체w\n",
    "m2 = (전체w-지하철w)/전체w\n",
    "m3 = (전체w-주차장w)/전체w\n",
    "m4 = (전체w-주택w)/전체w"
   ]
  },
  {
   "cell_type": "markdown",
   "metadata": {},
   "source": [
    "# 기본 MCLP"
   ]
  },
  {
   "cell_type": "code",
   "execution_count": 45,
   "metadata": {},
   "outputs": [],
   "source": [
    "# def mclp(points,K,radius):\n",
    "#     \"\"\"\n",
    "#     Solve maximum covering location problem\n",
    "#     Input:\n",
    "#         points: 버스정류장, 지하철역 위치 좌표 등 (기타 인근에 있으면 좋은 시설 좌표)\n",
    "#         K: 배치할 노인놀이터의 수\n",
    "#         radius: 반경 (노인들이 이동하기 적합한 거리)\n",
    "#         M: generate_candidate_sites 함수에서 생성할 random 좌표 수 (임의의 노인놀이터 수)\n",
    "#         the ConvexHull wrapped by the polygon\n",
    "#     Return:\n",
    "#         opt_sites: locations K optimal sites, Numpy array in shape of [K,2]\n",
    "#         f: the optimal value of the objective function\n",
    "#     \"\"\"\n",
    "#     print('  Number of points %g' % points.shape[0])\n",
    "#     print('  K %g' % K)\n",
    "#     print('  Radius %g' % radius)\n",
    "\n",
    "#     start = time.time()\n",
    "#     sites = np.array([list(i) for i in zip(입지후보지['x좌표'], 입지후보지['y좌표'])])\n",
    "#     J = sites.shape[0]                                         # 임의의 노인놀이터 좌표 개수\n",
    "#     I = points.shape[0]                                        # 버스정류장, 지하철역 위치 좌표 개수\n",
    "#     D = distance_matrix(points,sites)                          # 노인놀이터와 버스/지하철역 좌표 간 거리 계산\n",
    "#     mask1 = D<=radius\n",
    "#     D[mask1]=1                                                 # 버스/지하철역 좌표별로 노인놀이터의 반경 내 속하면 1, 아니면 0\n",
    "#     D[~mask1]=0\n",
    "#     # Build model\n",
    "#     m = Model()\n",
    "#     # Add variables\n",
    "#     x = {}\n",
    "#     y = {}\n",
    "#     for i in range(I):                                        # 버스/지하철역 좌표 개수만큼 반복\n",
    "#         y[i] = m.addVar(vtype=GRB.BINARY, name=\"y%d\" % i)     # 모델에 결정 변수 추가 (변수 유형은 BINARY. 위치별 인수, 변수 이름 y+숫자)\n",
    "#     for j in range(J):\n",
    "#         x[j] = m.addVar(vtype=GRB.BINARY, name=\"x%d\" % j)     # 노인놀이터 좌표 개수만큼 반복하여 변수 추가\n",
    "\n",
    "#     m.update()\n",
    "#     # Add constraints\n",
    "#     m.addConstr(quicksum(x[j] for j in range(J)) == K)\n",
    "\n",
    "#     for i in range(I):\n",
    "#         m.addConstr(quicksum(x[j] for j in np.where(D[i]==1)[0]) >= y[i])\n",
    "\n",
    "#     m.setObjective(quicksum(y[i] for i in range(I)),GRB.MAXIMIZE)\n",
    "#     m.setParam('OutputFlag', 0)\n",
    "#     m.optimize()\n",
    "#     end = time.time()\n",
    "#     print('----- Output -----')\n",
    "#     print('  Running time : %s seconds' % float(end-start))\n",
    "#     print('  Optimal coverage points: %g' % m.objVal)\n",
    "    \n",
    "#     print(quicksum(y[i] for i in range(I)))\n",
    "#     print(I) # 129개 -> 수정 후 106개..\n",
    "    \n",
    "#     solution = []\n",
    "#     if m.status == GRB.Status.OPTIMAL:\n",
    "#         for v in m.getVars():\n",
    "#             # print v.varName,v.x\n",
    "#             if v.x==1 and v.varName[0]==\"x\":\n",
    "#                 solution.append(int(v.varName[1:]))\n",
    "#     opt_sites = sites[solution]\n",
    "#     return opt_sites,m.objVal"
   ]
  },
  {
   "cell_type": "code",
   "execution_count": 46,
   "metadata": {},
   "outputs": [],
   "source": [
    "# opts_sites, mobjVal = mclp(points, 3, 0.0027)\n",
    "# opts_sites"
   ]
  },
  {
   "cell_type": "markdown",
   "metadata": {},
   "source": [
    "# MCLP + 목적함수 수정"
   ]
  },
  {
   "cell_type": "code",
   "execution_count": 47,
   "metadata": {},
   "outputs": [],
   "source": [
    "# def mclp2(버스_points, 지하철_points, 주차장_points, 주택_points, points, K, radius):\n",
    "#     \"\"\"\n",
    "#     Solve maximum covering location problem\n",
    "#     Input:\n",
    "#         points: 버스정류장, 지하철역 위치 좌표 등 (기타 인근에 있으면 좋은 시설 좌표)\n",
    "#         K: 배치할 노인놀이터의 수\n",
    "#         radius: 반경 (노인들이 이동하기 적합한 거리)\n",
    "#         M: generate_candidate_sites 함수에서 생성할 random 좌표 수 (임의의 노인놀이터 수)\n",
    "#         the ConvexHull wrapped by the polygon\n",
    "#     Return:\n",
    "#         opt_sites: locations K optimal sites, Numpy array in shape of [K,2]\n",
    "#         f: the optimal value of the objective function\n",
    "#     \"\"\"\n",
    "#     print('  Number of points %g' % points.shape[0])\n",
    "#     print('  K %g' % K)\n",
    "#     print('  Radius %g' % radius)\n",
    "\n",
    "#     start = time.time()\n",
    "#     sites = np.array([list(i) for i in zip(입지후보지['x좌표'], 입지후보지['y좌표'])])\n",
    "#     J = sites.shape[0]                                         # 후보지 수\n",
    "    \n",
    "#     # 수요지점 수\n",
    "#     A = 버스_points.shape[0]\n",
    "#     B = 지하철_points.shape[0]\n",
    "#     C = 주차장_points.shape[0]\n",
    "#     D = 주택_points.shape[0]\n",
    "    \n",
    "#     # 후보지와 수요지점 간 거리 계산\n",
    "#     D1 = distance_matrix(버스_points, sites)\n",
    "#     D2 = distance_matrix(지하철_points, sites)\n",
    "#     D3 = distance_matrix(주차장_points, sites)\n",
    "#     D4 = distance_matrix(주택_points, sites)\n",
    "    \n",
    "#     for i in [D1, D2, D3, D4]:\n",
    "#         mask1 = i<=radius\n",
    "#         i[mask1]=1                                                 # 반경 내 속하면 1, 아니면 0\n",
    "#         i[~mask1]=0\n",
    "\n",
    "#     m = Model()\n",
    "#     x1, x2, x3, x4 = {}, {}, {}, {}\n",
    "#     y = {}\n",
    "    \n",
    "#     # 수요지점 변수 추가\n",
    "#     for i in range(A):                                       \n",
    "#         x1[i] = m.addVar(vtype=GRB.BINARY, name=\"x1%d\" % i)\n",
    "#     for i in range(B):                                       \n",
    "#         x2[i] = m.addVar(vtype=GRB.BINARY, name=\"x2%d\" % i)\n",
    "#     for i in range(C):                                       \n",
    "#         x3[i] = m.addVar(vtype=GRB.BINARY, name=\"x3%d\" % i)\n",
    "#     for i in range(D):                                       \n",
    "#         x4[i] = m.addVar(vtype=GRB.BINARY, name=\"x4%d\" % i)\n",
    "    \n",
    "#     for j in range(J):\n",
    "#         y[j] = m.addVar(vtype=GRB.BINARY, name=\"y%d\" % j)     # 후보지 변수 추가\n",
    "\n",
    "#     m.update()\n",
    "#     m.addConstr(quicksum(y[j] for j in range(J)) == K)        # 후보지 제약 조건 (3개)\n",
    "\n",
    "#     # 수요지점 제약 조건\n",
    "#     for i in range(A): \n",
    "#         m.addConstr(quicksum(y[j] for j in np.where(D1[i]==1)[0]) >= x1[i])\n",
    "#     for i in range(B): \n",
    "#         m.addConstr(quicksum(y[j] for j in np.where(D2[i]==1)[0]) >= x2[i])\n",
    "#     for i in range(C): \n",
    "#         m.addConstr(quicksum(y[j] for j in np.where(D3[i]==1)[0]) >= x3[i])\n",
    "#     for i in range(D): \n",
    "#         m.addConstr(quicksum(y[j] for j in np.where(D4[i]==1)[0]) >= x4[i])\n",
    "\n",
    "#     # 목적함수 수정\n",
    "# #     m.setObjective(quicksum(1*x1[a] + 1*x2[b] + 1*x3[c] + 1*x4[d] \\\n",
    "# #                             for a,b,c,d in zip_longest(range(A),range(B),range(C),range(D), fillvalue=0)),\\\n",
    "# #                    GRB.MAXIMIZE)   # 제약조건 포함, 모든 수요지점 더하기\n",
    "\n",
    "#     res=[]\n",
    "#     for a,b,c,d in zip_longest(range(A),range(B),range(C),range(D), fillvalue=0):\n",
    "#         w1=1; w2=1; w3=1; w4=1\n",
    "#         if a==b==c==d==0:\n",
    "#             w1=1;w2=1;w3=1;w4=1\n",
    "#         else:\n",
    "#             if b==0:\n",
    "#                 w2=0\n",
    "#             if c==0:\n",
    "#                 w3=0\n",
    "#             if d==0:\n",
    "#                 w4=0\n",
    "#         res.append(w1*x1[a] + w2*x2[b] + w3*x3[c] + w4*x4[d])\n",
    "\n",
    "#     m.setObjective(quicksum(i for i in res),GRB.MAXIMIZE)\n",
    "#     m.setParam('OutputFlag', 0)\n",
    "#     m.optimize()\n",
    "#     end = time.time()\n",
    "#     print('----- Output -----')\n",
    "#     print('  Running time : %s seconds' % float(end-start))\n",
    "#     print('  Optimal coverage points: %g' % m.objVal)\n",
    "    \n",
    "#     #print(quicksum(i for i in res))\n",
    "#     #print(res)\n",
    "#     #print(len(res))\n",
    "    \n",
    "#     solution = []\n",
    "#     if m.status == GRB.Status.OPTIMAL:\n",
    "#         for v in m.getVars():\n",
    "#             # print v.varName,v.x\n",
    "#             if v.x==1 and v.varName[0]==\"y\":\n",
    "#                 solution.append(int(v.varName[1:]))\n",
    "#     opt_sites = sites[solution]\n",
    "#     return opt_sites, m.objVal"
   ]
  },
  {
   "cell_type": "code",
   "execution_count": 48,
   "metadata": {
    "scrolled": true
   },
   "outputs": [],
   "source": [
    "# opts_sites, mobjVal = mclp2(버스_points, 지하철_points, 주차장_points, 주택_points, points, 3, 0.0027)\n",
    "# opts_sites"
   ]
  },
  {
   "cell_type": "markdown",
   "metadata": {},
   "source": [
    "# MCLP + Haversine"
   ]
  },
  {
   "cell_type": "code",
   "execution_count": 49,
   "metadata": {},
   "outputs": [],
   "source": [
    "# haversine -> meter 단위로 수정\n",
    "def mclp3(버스_points, 지하철_points, 주차장_points, 주택_points, points, K, radius):\n",
    "    \n",
    "    \"\"\"\n",
    "    Solve maximum covering location problem\n",
    "    Input:\n",
    "        points: 버스정류장, 지하철역 위치 좌표 등 (기타 인근에 있으면 좋은 시설 좌표)\n",
    "        K: 배치할 노인놀이터의 수\n",
    "        radius: 반경 (노인들이 이동하기 적합한 거리)\n",
    "        M: generate_candidate_sites 함수에서 생성할 random 좌표 수 (임의의 노인놀이터 수)\n",
    "        the ConvexHull wrapped by the polygon\n",
    "    Return:\n",
    "        opt_sites: locations K optimal sites, Numpy array in shape of [K,2]\n",
    "        f: the optimal value of the objective function\n",
    "    \"\"\"\n",
    "    \n",
    "    print('  Number of points %g' % points.shape[0])\n",
    "    print('  K %g' % K)\n",
    "    print('  Radius %g' % radius)\n",
    "\n",
    "    start = time.time()\n",
    "    sites = np.array([list(i) for i in zip(입지후보지['x좌표'], 입지후보지['y좌표'])])\n",
    "    J = sites.shape[0]                                         # 후보지 수\n",
    "    \n",
    "    # 수요지점 수\n",
    "    A = 버스_points.shape[0]\n",
    "    B = 지하철_points.shape[0]\n",
    "    C = 주차장_points.shape[0]\n",
    "    D = 주택_points.shape[0]\n",
    "    \n",
    "    # 후보지와 수요지점 간 거리 계산\n",
    "    D1 = []\n",
    "    for i in 버스_points:\n",
    "        site = []\n",
    "        for j in sites:\n",
    "            site.append(haversine(i, j)*1000)\n",
    "        D1.append(site)\n",
    "    D1 = np.array(D1)\n",
    "    \n",
    "    D2 = []\n",
    "    for i in 지하철_points:\n",
    "        site = []\n",
    "        for j in sites:\n",
    "            site.append(haversine(i, j)*1000)\n",
    "        D2.append(site)\n",
    "    D2 = np.array(D2)    \n",
    "    \n",
    "    D3 = []\n",
    "    for i in 주차장_points:\n",
    "        site = []\n",
    "        for j in sites:\n",
    "            site.append(haversine(i, j)*1000)\n",
    "        D3.append(site)\n",
    "    D3 = np.array(D3)\n",
    "    \n",
    "    D4 = []\n",
    "    for i in 주택_points:\n",
    "        site = []\n",
    "        for j in sites:\n",
    "            site.append(haversine(i, j)*1000)\n",
    "        D4.append(site)\n",
    "    D4 = np.array(D4)\n",
    "    \n",
    "    for i in [D1, D2, D3, D4]:\n",
    "        mask1 = i<=radius\n",
    "        i[mask1]=1                                                 # 반경 내 속하면 1, 아니면 0\n",
    "        i[~mask1]=0\n",
    "\n",
    "    m = Model()\n",
    "    x1, x2, x3, x4 = {}, {}, {}, {}\n",
    "    y = {}\n",
    "    \n",
    "    # 수요지점 변수 추가\n",
    "    for i in range(A):                                       \n",
    "        x1[i] = m.addVar(vtype=GRB.BINARY, name=\"x1%d\" % i)\n",
    "    for i in range(B):                                       \n",
    "        x2[i] = m.addVar(vtype=GRB.BINARY, name=\"x2%d\" % i)\n",
    "    for i in range(C):                                       \n",
    "        x3[i] = m.addVar(vtype=GRB.BINARY, name=\"x3%d\" % i)\n",
    "    for i in range(D):                                       \n",
    "        x4[i] = m.addVar(vtype=GRB.BINARY, name=\"x4%d\" % i)\n",
    "    \n",
    "    for j in range(J):\n",
    "        y[j] = m.addVar(vtype=GRB.BINARY, name=\"y%d\" % j)     # 후보지 변수 추가\n",
    "\n",
    "    m.update()\n",
    "    m.addConstr(quicksum(y[j] for j in range(J)) == K)        # 후보지 제약 조건\n",
    "\n",
    "    # 수요지점 제약 조건\n",
    "    for i in range(A): \n",
    "        m.addConstr(quicksum(y[j] for j in np.where(D1[i]==1)[0]) >= x1[i])\n",
    "    for i in range(B): \n",
    "        m.addConstr(quicksum(y[j] for j in np.where(D2[i]==1)[0]) >= x2[i])\n",
    "    for i in range(C): \n",
    "        m.addConstr(quicksum(y[j] for j in np.where(D3[i]==1)[0]) >= x3[i])\n",
    "    for i in range(D): \n",
    "        m.addConstr(quicksum(y[j] for j in np.where(D4[i]==1)[0]) >= x4[i])\n",
    "    \n",
    "    # 목적함수 수정\n",
    "    res=[]\n",
    "    for a,b,c,d in zip_longest(range(A),range(B),range(C),range(D), fillvalue=0):\n",
    "        w1=m1;w2=m2;w3=m3;w4=m4\n",
    "        if a==b==c==d==0:\n",
    "            w1=m1;w2=m2;w3=m3;w4=m4\n",
    "        else:\n",
    "            if b==0:\n",
    "                w2=0\n",
    "            if c==0:\n",
    "                w3=0\n",
    "            if d==0:\n",
    "                w4=0\n",
    "        res.append(w1*x1[a] + w2*x2[b] + w3*x3[c] + w4*x4[d])\n",
    "\n",
    "    m.setObjective(quicksum(i for i in res),GRB.MAXIMIZE)\n",
    "    \n",
    "    m.setParam('OutputFlag', 0)\n",
    "    m.optimize()\n",
    "    end = time.time()\n",
    "    print('----- Output -----')\n",
    "    print('  Running time : %s seconds' % float(end-start))\n",
    "    print('  Optimal coverage points: %g' % m.objVal)\n",
    "    \n",
    "    solution = []\n",
    "    if m.status == GRB.Status.OPTIMAL:\n",
    "        for v in m.getVars():\n",
    "            # print v.varName,v.x\n",
    "            if v.x==1 and v.varName[0]==\"y\":\n",
    "                solution.append(int(v.varName[1:]))\n",
    "    opt_sites = sites[solution]\n",
    "    return opt_sites,m.objVal"
   ]
  },
  {
   "cell_type": "code",
   "execution_count": 50,
   "metadata": {},
   "outputs": [
    {
     "name": "stdout",
     "output_type": "stream",
     "text": [
      "  Number of points 145\n",
      "  K 3\n",
      "  Radius 300\n",
      "----- Output -----\n",
      "  Running time : 0.01595282554626465 seconds\n",
      "  Optimal coverage points: 8.41379\n"
     ]
    },
    {
     "data": {
      "text/plain": [
       "array([[127.054738 ,  37.612296 ],\n",
       "       [127.051625 ,  37.614919 ],\n",
       "       [127.052577 ,  37.6093012]])"
      ]
     },
     "execution_count": 50,
     "metadata": {},
     "output_type": "execute_result"
    }
   ],
   "source": [
    "opts_sites, mobjVal = mclp3(버스_points, 지하철_points, 주차장_points, 주택_points, points, 3, 300)\n",
    "opts_sites"
   ]
  },
  {
   "cell_type": "markdown",
   "metadata": {},
   "source": [
    "# 시각화\n",
    "* 단, meter 단위 아님\n",
    "* 0.0027 degrees ~= 300m"
   ]
  },
  {
   "cell_type": "code",
   "execution_count": 51,
   "metadata": {},
   "outputs": [],
   "source": [
    "def plot_input(points):\n",
    "    '''\n",
    "    Plot the result\n",
    "    Input:\n",
    "        points: input points, Numpy array in shape of [N,2]\n",
    "        opt_sites: locations K optimal sites, Numpy array in shape of [K,2]\n",
    "        radius: the radius of circle\n",
    "    '''\n",
    "    from matplotlib import pyplot as plt\n",
    "    fig = plt.figure(figsize=(8,8))\n",
    "    plt.scatter(points[:,0],points[:,1],c='C0')\n",
    "    ax = plt.gca()\n",
    "    ax.axis('equal')\n",
    "    ax.tick_params(axis='both',left=False, top=False, right=False,\n",
    "                       bottom=False, labelleft=False, labeltop=False,\n",
    "                       labelright=False, labelbottom=False)"
   ]
  },
  {
   "cell_type": "code",
   "execution_count": 30,
   "metadata": {},
   "outputs": [],
   "source": [
    "def plot_result(points,opt_sites,radius):\n",
    "    '''\n",
    "    Plot the result\n",
    "    Input:\n",
    "        points: input points, Numpy array in shape of [N,2]\n",
    "        opt_sites: locations K optimal sites, Numpy array in shape of [K,2]\n",
    "        radius: the radius of circle\n",
    "    '''\n",
    "    from matplotlib import pyplot as plt\n",
    "    fig = plt.figure(figsize=(8,8))\n",
    "    plt.scatter(points[:,0],points[:,1],c='C0')\n",
    "    ax = plt.gca()\n",
    "    plt.scatter(opt_sites[:,0],opt_sites[:,1],c='C1',marker='+')\n",
    "    for site in opt_sites:\n",
    "        circle = plt.Circle(site, radius, color='C1',fill=False,lw=2)\n",
    "        ax.add_artist(circle)\n",
    "    ax.axis('equal')\n",
    "    ax.tick_params(axis='both',left=False, top=False, right=False,\n",
    "                       bottom=False, labelleft=False, labeltop=False,\n",
    "                       labelright=False, labelbottom=False)"
   ]
  },
  {
   "cell_type": "code",
   "execution_count": 31,
   "metadata": {
    "scrolled": true
   },
   "outputs": [],
   "source": [
    "plot_result(points, opts_sites, 0.0027)"
   ]
  },
  {
   "cell_type": "markdown",
   "metadata": {},
   "source": [
    "# csv 파일 생성\n",
    "* 행정동은 바꿔주세요"
   ]
  },
  {
   "cell_type": "code",
   "execution_count": 85,
   "metadata": {},
   "outputs": [],
   "source": [
    "후보지 = pd.DataFrame(opts_sites, columns=['경도','위도'])\n",
    "후보지.to_csv('장위2동_후보지.csv', index=False, encoding='cp949')"
   ]
  },
  {
   "cell_type": "code",
   "execution_count": 84,
   "metadata": {},
   "outputs": [],
   "source": [
    "수요지점 = pd.DataFrame(points, columns=['경도','위도'])\n",
    "수요지점.to_csv('장위2동_수요지점.csv', index=False, encoding='cp949')"
   ]
  },
  {
   "cell_type": "code",
   "execution_count": 86,
   "metadata": {},
   "outputs": [],
   "source": [
    "버스_수요지점 = pd.DataFrame(버스_points, columns=['경도','위도'])\n",
    "버스_수요지점.to_csv('장위2동_버스수요지점.csv', index=False, encoding='cp949')"
   ]
  },
  {
   "cell_type": "code",
   "execution_count": 87,
   "metadata": {},
   "outputs": [],
   "source": [
    "지하철_수요지점 = pd.DataFrame(지하철_points, columns=['경도','위도'])\n",
    "지하철_수요지점.to_csv('장위2동_지하철수요지점.csv', index=False, encoding='cp949')"
   ]
  },
  {
   "cell_type": "code",
   "execution_count": 88,
   "metadata": {},
   "outputs": [],
   "source": [
    "주차장_수요지점 = pd.DataFrame(주차장_points, columns=['경도','위도'])\n",
    "주차장_수요지점.to_csv('장위2동_주차장수요지점.csv', index=False, encoding='cp949')"
   ]
  },
  {
   "cell_type": "code",
   "execution_count": 89,
   "metadata": {},
   "outputs": [],
   "source": [
    "주택_수요지점 = pd.DataFrame(주택_points, columns=['경도','위도'])\n",
    "주택_수요지점.to_csv('길동_주택수요지점.csv', index=False, encoding='cp949')"
   ]
  },
  {
   "cell_type": "code",
   "execution_count": null,
   "metadata": {},
   "outputs": [],
   "source": []
  }
 ],
 "metadata": {
  "kernelspec": {
   "display_name": "Python 3",
   "language": "python",
   "name": "python3"
  },
  "language_info": {
   "codemirror_mode": {
    "name": "ipython",
    "version": 3
   },
   "file_extension": ".py",
   "mimetype": "text/x-python",
   "name": "python",
   "nbconvert_exporter": "python",
   "pygments_lexer": "ipython3",
   "version": "3.7.3"
  }
 },
 "nbformat": 4,
 "nbformat_minor": 2
}
