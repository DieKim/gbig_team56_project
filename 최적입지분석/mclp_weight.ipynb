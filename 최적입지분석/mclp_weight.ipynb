{
 "cells": [
  {
   "cell_type": "code",
   "execution_count": 1,
   "metadata": {},
   "outputs": [],
   "source": [
    "import numpy as np\n",
    "from scipy.spatial import distance_matrix\n",
    "from gurobipy import *\n",
    "#from scipy.spatial import ConvexHull\n",
    "#from shapely.geometry import Polygon, Point\n",
    "from numpy import random\n",
    "import time\n",
    "import pandas as pd\n",
    "from itertools import zip_longest   # zip 함수 길이 다를 경우"
   ]
  },
  {
   "cell_type": "code",
   "execution_count": 26,
   "metadata": {},
   "outputs": [],
   "source": [
    "# 행정동 나중에 바꾸기\n",
    "입지후보지 = pd.read_csv('입지선정후보군_좌표추가.csv', encoding='EUC-KR')\n",
    "입지후보지 = 입지후보지[입지후보지['행정동'] == '석관동']\n",
    "\n",
    "버스 = pd.read_csv('서울시_버스정류장_행정동추가.csv')\n",
    "버스 = 버스[버스['행정동'].isin(['석관동','월곡2동','회기동','이문1동','이문2동','묵2동','공릉1동',\\\n",
    "                                 '월계3동','월계1동','장위1동','장위2동','장위3동'])]\n",
    "\n",
    "지하철 = pd.read_csv('서울시_지하철역_행정동추가.csv', encoding='EUC-KR', index_col=0)\n",
    "지하철 = 지하철[지하철['행정동'].isin(['석관동','월곡2동','회기동','이문1동','이문2동','묵2동','공릉1동',\\\n",
    "                                       '월계3동','월계1동','장위1동','장위2동','장위3동'])]\n",
    "\n",
    "주차장 = pd.read_csv('서울시_주차장_행정동추가.csv', encoding='EUC-KR', index_col=0).drop('Unnamed: 0.1', axis=1)\n",
    "주차장 = 주차장[주차장['행정동'].isin(['석관동','월곡2동','회기동','이문1동','이문2동','묵2동','공릉1동',\\\n",
    "                                       '월계3동','월계1동','장위1동','장위2동','장위3동'])]\n",
    "\n",
    "주택 = pd.read_csv('서울시주택_행정동추가.csv', encoding='EUC-KR', index_col=0).drop('Unnamed: 0.1', axis=1)\n",
    "주택 = 주택[주택['행정동'].isin(['석관동','월곡2동','회기동','이문1동','이문2동','묵2동','공릉1동',\\\n",
    "                                 '월계3동','월계1동','장위1동','장위2동','장위3동'])]"
   ]
  },
  {
   "cell_type": "code",
   "execution_count": 27,
   "metadata": {},
   "outputs": [],
   "source": [
    "# # 석관동\n",
    "# 입지후보지 = pd.read_csv('입지선정후보군_좌표추가.csv', encoding='EUC-KR')\n",
    "# 입지후보지 = 입지후보지[입지후보지['행정동'] == '석관동']\n",
    "# print(입지후보지.shape)\n",
    "# 입지후보지.head(2)"
   ]
  },
  {
   "cell_type": "code",
   "execution_count": 28,
   "metadata": {},
   "outputs": [],
   "source": [
    "# 버스 = pd.read_csv('서울시_버스정류장_행정동추가.csv')\n",
    "# 버스 = 버스[버스['행정동'].isin(['석관동','월곡2동','회기동','이문1동','이문2동','묵2동','공릉1동',\\\n",
    "#                                  '월계3동','월계1동','장위1동','장위2동','장위3동'])]\n",
    "# print(버스.shape)\n",
    "# 버스.head(2)"
   ]
  },
  {
   "cell_type": "code",
   "execution_count": 29,
   "metadata": {},
   "outputs": [],
   "source": [
    "# 지하철 = pd.read_csv('서울시_지하철역_행정동추가.csv', encoding='EUC-KR', index_col=0)\n",
    "# 지하철 = 지하철[지하철['행정동'].isin(['석관동','월곡2동','회기동','이문1동','이문2동','묵2동','공릉1동',\\\n",
    "#                                        '월계3동','월계1동','장위1동','장위2동','장위3동'])]\n",
    "# print(지하철.shape)\n",
    "# 지하철.head(2)"
   ]
  },
  {
   "cell_type": "code",
   "execution_count": 30,
   "metadata": {},
   "outputs": [],
   "source": [
    "# 주차장 = pd.read_csv('서울시_주차장_행정동추가.csv', encoding='EUC-KR', index_col=0).drop('Unnamed: 0.1', axis=1)\n",
    "# 주차장 = 주차장[주차장['행정동'].isin(['석관동','월곡2동','회기동','이문1동','이문2동','묵2동','공릉1동',\\\n",
    "#                                        '월계3동','월계1동','장위1동','장위2동','장위3동'])]\n",
    "# print(주차장.shape)\n",
    "# 주차장.head(2)"
   ]
  },
  {
   "cell_type": "code",
   "execution_count": 31,
   "metadata": {},
   "outputs": [],
   "source": [
    "# 주택 = pd.read_csv('서울시주택_행정동추가.csv', encoding='EUC-KR', index_col=0).drop('Unnamed: 0.1', axis=1)\n",
    "# 주택 = 주택[주택['행정동'].isin(['석관동','월곡2동','회기동','이문1동','이문2동','묵2동','공릉1동',\\\n",
    "#                                  '월계3동','월계1동','장위1동','장위2동','장위3동'])]\n",
    "# print(주택.shape)\n",
    "# 주택.head(2)"
   ]
  },
  {
   "cell_type": "code",
   "execution_count": 32,
   "metadata": {},
   "outputs": [
    {
     "name": "stdout",
     "output_type": "stream",
     "text": [
      "(197, 2)\n"
     ]
    },
    {
     "data": {
      "text/plain": [
       "array([[127.06723071,  37.61506526],\n",
       "       [127.069914  ,  37.61825517]])"
      ]
     },
     "execution_count": 32,
     "metadata": {},
     "output_type": "execute_result"
    }
   ],
   "source": [
    "버스_points = np.array([list(i) for i in zip(버스['X좌표'], 버스['Y좌표'])])\n",
    "print(버스_points.shape)\n",
    "버스_points[:2]"
   ]
  },
  {
   "cell_type": "code",
   "execution_count": 33,
   "metadata": {},
   "outputs": [
    {
     "name": "stdout",
     "output_type": "stream",
     "text": [
      "(12, 2)\n"
     ]
    },
    {
     "data": {
      "text/plain": [
       "array([[127.04118477,  37.60142105],\n",
       "       [127.04832662,  37.60626414]])"
      ]
     },
     "execution_count": 33,
     "metadata": {},
     "output_type": "execute_result"
    }
   ],
   "source": [
    "지하철_points = np.array([list(i) for i in zip(지하철['경도'], 지하철['위도'])])\n",
    "print(지하철_points.shape)\n",
    "지하철_points[:2]"
   ]
  },
  {
   "cell_type": "code",
   "execution_count": 34,
   "metadata": {
    "scrolled": true
   },
   "outputs": [
    {
     "name": "stdout",
     "output_type": "stream",
     "text": [
      "(27, 2)\n"
     ]
    },
    {
     "data": {
      "text/plain": [
       "array([[127.05578514,  37.59150199],\n",
       "       [127.05595939,  37.59134243]])"
      ]
     },
     "execution_count": 34,
     "metadata": {},
     "output_type": "execute_result"
    }
   ],
   "source": [
    "주차장_points = np.array([list(i) for i in zip(주차장['경도'], 주차장['위도'])])\n",
    "print(주차장_points.shape)\n",
    "주차장_points[:2]"
   ]
  },
  {
   "cell_type": "code",
   "execution_count": 35,
   "metadata": {
    "scrolled": true
   },
   "outputs": [
    {
     "name": "stdout",
     "output_type": "stream",
     "text": [
      "(18, 2)\n"
     ]
    },
    {
     "data": {
      "text/plain": [
       "array([[127.06985478,  37.62958967],\n",
       "       [127.05966412,  37.62924721]])"
      ]
     },
     "execution_count": 35,
     "metadata": {},
     "output_type": "execute_result"
    }
   ],
   "source": [
    "주택_points = np.array([list(i) for i in zip(주택['위도'], 주택['경도'])])   # 위도 경도 바뀜\n",
    "print(주택_points.shape)\n",
    "주택_points[:2]"
   ]
  },
  {
   "cell_type": "code",
   "execution_count": 36,
   "metadata": {},
   "outputs": [
    {
     "data": {
      "text/plain": [
       "[127.06723070700001, 127.0699139994]"
      ]
     },
     "execution_count": 36,
     "metadata": {},
     "output_type": "execute_result"
    }
   ],
   "source": [
    "X = list(버스['X좌표']) + list(지하철['경도']) + list(주차장['경도']) + list(주택['위도'])     # 주택 위도 경도 이름 바뀜\n",
    "X[:2]"
   ]
  },
  {
   "cell_type": "code",
   "execution_count": 37,
   "metadata": {},
   "outputs": [
    {
     "data": {
      "text/plain": [
       "[37.6150652627, 37.6182551734]"
      ]
     },
     "execution_count": 37,
     "metadata": {},
     "output_type": "execute_result"
    }
   ],
   "source": [
    "Y = list(버스['Y좌표']) + list(지하철['위도']) + list(주차장['위도']) + list(주택['경도'])\n",
    "Y[:2]"
   ]
  },
  {
   "cell_type": "code",
   "execution_count": 38,
   "metadata": {},
   "outputs": [
    {
     "name": "stdout",
     "output_type": "stream",
     "text": [
      "(254, 2)\n"
     ]
    },
    {
     "data": {
      "text/plain": [
       "array([[127.06723071,  37.61506526],\n",
       "       [127.069914  ,  37.61825517]])"
      ]
     },
     "execution_count": 38,
     "metadata": {},
     "output_type": "execute_result"
    }
   ],
   "source": [
    "points = np.array([list(i) for i in zip(X, Y)])\n",
    "print(points.shape)\n",
    "points[:2]"
   ]
  },
  {
   "cell_type": "code",
   "execution_count": 39,
   "metadata": {},
   "outputs": [],
   "source": [
    "# # 보유하고 있는 좌표(points)의 모양에 맞는 도형 생성\n",
    "# # 해당 도형 안에 포함되는 random한 좌표 생성 (임의의 노인놀이터 위치 좌표)\n",
    "# def generate_candidate_sites(points, M=100):\n",
    "#     '''\n",
    "#     Generate M candidate sites with the convex hull of a point set\n",
    "#     Input:\n",
    "#         points: 버스정류장, 지하철역 위치 좌표 등 (기타 인근에 있으면 좋은 시설 좌표)\n",
    "#         M: 생성할 random 좌표 수 (임의의 노인놀이터 수)\n",
    "#     Return:\n",
    "#         sites: a Numpy array with shape of (M,2)\n",
    "#     '''\n",
    "#     hull = ConvexHull(points)                                   # points 좌표들의 외곽선 생성\n",
    "#     polygon_points = points[hull.vertices]                      # 외곽선을 구성하는 직선 간 점(좌표) 반환\n",
    "#     poly = Polygon(polygon_points)                              # 외곽선 모양의 도형 생성\n",
    "#     min_x, min_y, max_x, max_y = poly.bounds                    # 도형의 x축과 y축 좌표 최소,최대\n",
    "#     sites = []\n",
    "#     while len(sites) < M:\n",
    "#         random_point = Point([random.uniform(min_x, max_x),     # x축 범위 내 random한 값\n",
    "#                               random.uniform(min_y, max_y)])    # y축 범위 내 random한 값\n",
    "#         if (random_point.within(poly)):                         # random한 좌표가 도형 안에 있다면 sites에 추가\n",
    "#             sites.append(random_point)\n",
    "#     return np.array([(p.x,p.y) for p in sites])"
   ]
  },
  {
   "cell_type": "code",
   "execution_count": null,
   "metadata": {},
   "outputs": [],
   "source": [
    "df ="
   ]
  },
  {
   "cell_type": "code",
   "execution_count": null,
   "metadata": {},
   "outputs": [],
   "source": [
    "# 행정동별 가중치 계산\n",
    "버스: 정류장 개수\n",
    "지하철"
   ]
  },
  {
   "cell_type": "code",
   "execution_count": null,
   "metadata": {},
   "outputs": [],
   "source": []
  },
  {
   "cell_type": "code",
   "execution_count": 40,
   "metadata": {},
   "outputs": [],
   "source": [
    "def mclp(버스_points, 지하철_points, 주차장_points, 주택_points, points, K, radius):\n",
    "    \"\"\"\n",
    "    Solve maximum covering location problem\n",
    "    Input:\n",
    "        points: 버스정류장, 지하철역 위치 좌표 등 (기타 인근에 있으면 좋은 시설 좌표)\n",
    "        K: 배치할 노인놀이터의 수\n",
    "        radius: 반경 (노인들이 이동하기 적합한 거리)\n",
    "        M: generate_candidate_sites 함수에서 생성할 random 좌표 수 (임의의 노인놀이터 수)\n",
    "        the ConvexHull wrapped by the polygon\n",
    "    Return:\n",
    "        opt_sites: locations K optimal sites, Numpy array in shape of [K,2]\n",
    "        f: the optimal value of the objective function\n",
    "    \"\"\"\n",
    "    print('  Number of points %g' % points.shape[0])\n",
    "    print('  K %g' % K)\n",
    "    print('  Radius %g' % radius)\n",
    "\n",
    "    start = time.time()\n",
    "    sites = np.array([list(i) for i in zip(입지후보지['x좌표'], 입지후보지['y좌표'])])\n",
    "    J = sites.shape[0]                                         # 후보지 수\n",
    "    \n",
    "    # 수요지점 수\n",
    "    A = 버스_points.shape[0]\n",
    "    B = 지하철_points.shape[0]\n",
    "    C = 주차장_points.shape[0]\n",
    "    D = 주택_points.shape[0]\n",
    "    \n",
    "    # 후보지와 수요지점 간 거리 계산\n",
    "    D1 = distance_matrix(버스_points, sites)\n",
    "    D2 = distance_matrix(지하철_points, sites)\n",
    "    D3 = distance_matrix(주차장_points, sites)\n",
    "    D4 = distance_matrix(주택_points, sites)\n",
    "    \n",
    "    for i in [D1, D2, D3, D4]:\n",
    "        mask1 = i<=radius\n",
    "        i[mask1]=1                                                 # 반경 내 속하면 1, 아니면 0\n",
    "        i[~mask1]=0\n",
    "\n",
    "    m = Model()\n",
    "    x1, x2, x3, x4 = {}, {}, {}, {}\n",
    "    y = {}\n",
    "    \n",
    "    # 수요지점 변수 추가\n",
    "    for i in range(A):                                       \n",
    "        x1[i] = m.addVar(vtype=GRB.BINARY, name=\"x1%d\" % i)\n",
    "    for i in range(B):                                       \n",
    "        x2[i] = m.addVar(vtype=GRB.BINARY, name=\"x2%d\" % i)\n",
    "    for i in range(C):                                       \n",
    "        x3[i] = m.addVar(vtype=GRB.BINARY, name=\"x3%d\" % i)\n",
    "    for i in range(D):                                       \n",
    "        x4[i] = m.addVar(vtype=GRB.BINARY, name=\"x4%d\" % i)\n",
    "    \n",
    "    for j in range(J):\n",
    "        y[j] = m.addVar(vtype=GRB.BINARY, name=\"y%d\" % j)     # 후보지 변수 추가\n",
    "\n",
    "    m.update()\n",
    "    m.addConstr(quicksum(y[j] for j in range(J)) == K)        # 후보지 제약 조건 (3개)\n",
    "\n",
    "    # 수요지점 제약 조건\n",
    "    for i in range(A): \n",
    "        m.addConstr(quicksum(y[j] for j in np.where(D1[i]==1)[0]) >= x1[i])\n",
    "    for i in range(B): \n",
    "        m.addConstr(quicksum(y[j] for j in np.where(D2[i]==1)[0]) >= x2[i])\n",
    "    for i in range(C): \n",
    "        m.addConstr(quicksum(y[j] for j in np.where(D3[i]==1)[0]) >= x3[i])\n",
    "    for i in range(D): \n",
    "        m.addConstr(quicksum(y[j] for j in np.where(D4[i]==1)[0]) >= x4[i])\n",
    "\n",
    "    # 목적함수 수정\n",
    "    m.setObjective(quicksum(0*x1[a] + 2*x2[b] + 0*x3[c] + 0*x4[d] \\\n",
    "                            for a,b,c,d in zip_longest(range(A),range(B),range(C),range(D), fillvalue=0)),\\\n",
    "                   GRB.MAXIMIZE)   # 제약조건 포함, 모든 수요지점 더하기\n",
    "    \n",
    "    m.setParam('OutputFlag', 0)\n",
    "    m.optimize()\n",
    "    end = time.time()\n",
    "    print('----- Output -----')\n",
    "    print('  Running time : %s seconds' % float(end-start))\n",
    "    print('  Optimal coverage points: %g' % m.objVal)\n",
    "    \n",
    "    solution = []\n",
    "    if m.status == GRB.Status.OPTIMAL:\n",
    "        for v in m.getVars():\n",
    "            # print v.varName,v.x\n",
    "            if v.x==1 and v.varName[0]==\"y\":\n",
    "                solution.append(int(v.varName[1:]))\n",
    "    opt_sites = sites[solution]\n",
    "    return opt_sites,m.objVal"
   ]
  },
  {
   "cell_type": "code",
   "execution_count": 41,
   "metadata": {},
   "outputs": [],
   "source": [
    "# def mclp(버스_points, 지하철_points, 주차장_points, 주택_points, points, K, radius):\n",
    "#     \"\"\"\n",
    "#     Solve maximum covering location problem\n",
    "#     Input:\n",
    "#         points: 버스정류장, 지하철역 위치 좌표 등 (기타 인근에 있으면 좋은 시설 좌표)\n",
    "#         K: 배치할 노인놀이터의 수\n",
    "#         radius: 반경 (노인들이 이동하기 적합한 거리)\n",
    "#         M: generate_candidate_sites 함수에서 생성할 random 좌표 수 (임의의 노인놀이터 수)\n",
    "#         the ConvexHull wrapped by the polygon\n",
    "#     Return:\n",
    "#         opt_sites: locations K optimal sites, Numpy array in shape of [K,2]\n",
    "#         f: the optimal value of the objective function\n",
    "#     \"\"\"\n",
    "#     print('  Number of points %g' % points.shape[0])\n",
    "#     print('  K %g' % K)\n",
    "#     print('  Radius %g' % radius)\n",
    "\n",
    "#     start = time.time()\n",
    "#     sites = np.array([list(i) for i in zip(입지후보지['x좌표'], 입지후보지['y좌표'])])\n",
    "#     J = sites.shape[0]                                         # 후보지 수\n",
    "    \n",
    "#     # 수요지점 수\n",
    "#     A = 버스_points.shape[0]\n",
    "#     B = 지하철_points.shape[0]\n",
    "#     C = 주차장_points.shape[0]\n",
    "#     D = 주택_points.shape[0]\n",
    "    \n",
    "#     # 후보지와 수요지점 간 거리 계산\n",
    "# #     D1 = distance_matrix(버스_points, sites)\n",
    "# #     D2 = distance_matrix(지하철_points, sites)\n",
    "# #     D3 = distance_matrix(주차장_points, sites)\n",
    "# #     D4 = distance_matrix(주택_points, sites)\n",
    "#     dist1 = sklearn.neighbors.DistanceMetric.get_metric('haversine')\n",
    "#     D1 = (dist1.pairwise\n",
    "#         (sites,\n",
    "#          버스_points)*3959\n",
    "#     )\n",
    "# #     D1 = (\n",
    "# #         pd.DataFrame(dist_matrix1, index=입지후보지['시설명'], \n",
    "# #                  columns=버스['정류소명'])\n",
    "# #     )\n",
    "\n",
    "#     dist2 = sklearn.neighbors.DistanceMetric.get_metric('haversine')\n",
    "#     D2 = (dist2.pairwise\n",
    "#         (sites,\n",
    "#          지하철_points)*3959\n",
    "#     )\n",
    "# #     D2 = (\n",
    "# #         pd.DataFrame(dist_matrix2, index=입지후보지['시설명'], \n",
    "# #                  columns=지하철['전철역명'])\n",
    "# #     )\n",
    "\n",
    "#     dist3 = sklearn.neighbors.DistanceMetric.get_metric('haversine')\n",
    "#     D3 = (dist3.pairwise\n",
    "#         (sites,\n",
    "#          주차장_points)*3959\n",
    "#     )\n",
    "# #     D3 = (\n",
    "# #         pd.DataFrame(dist_matrix3, index=입지후보지['시설명'], \n",
    "# #                  columns=주차장['주차장이름'])\n",
    "# #     )\n",
    "\n",
    "#     dist4 = sklearn.neighbors.DistanceMetric.get_metric('haversine')\n",
    "#     D4 = (dist4.pairwise\n",
    "#         (sites,\n",
    "#          주택_points)*3959\n",
    "#     )\n",
    "# #     D4 = (\n",
    "# #         pd.DataFrame(dist_matrix4, index=입지후보지['시설명'], \n",
    "# #                  columns=주택['단지명'])\n",
    "# #     )\n",
    "    \n",
    "    \n",
    "#     for i in [D1, D2, D3, D4]:\n",
    "#         mask1 = i<=radius\n",
    "#         i[mask1]=1                                                 # 반경 내 속하면 1, 아니면 0\n",
    "#         i[~mask1]=0\n",
    "\n",
    "\n",
    "#     m = Model()\n",
    "#     x1, x2, x3, x4 = {}, {}, {}, {}\n",
    "#     y = {}\n",
    "    \n",
    "#     # 수요지점 변수 추가\n",
    "#     for i in range(A):                                       \n",
    "#         x1[i] = m.addVar(vtype=GRB.BINARY, name=\"x1%d\" % i)\n",
    "#     for i in range(B):                                       \n",
    "#         x2[i] = m.addVar(vtype=GRB.BINARY, name=\"x2%d\" % i)\n",
    "#     for i in range(C):                                       \n",
    "#         x3[i] = m.addVar(vtype=GRB.BINARY, name=\"x3%d\" % i)\n",
    "#     for i in range(D):                                       \n",
    "#         x4[i] = m.addVar(vtype=GRB.BINARY, name=\"x4%d\" % i)\n",
    "    \n",
    "#     for j in range(J):\n",
    "#         y[j] = m.addVar(vtype=GRB.BINARY, name=\"y%d\" % j)     # 후보지 변수 추가\n",
    "\n",
    "#     m.update()\n",
    "#     m.addConstr(quicksum(y[j] for j in range(J)) == K)        # 후보지 제약 조건 (3개)\n",
    "\n",
    "# #     # 수요지점 제약 조건\n",
    "# #     for i in range(A): \n",
    "# #         m.addConstr(quicksum(y[j] for j in np.where(D1[i]==1)[0]) >= x1[i])\n",
    "# #     for i in range(B): \n",
    "# #         m.addConstr(quicksum(y[j] for j in np.where(D2[i]==1)[0]) >= x2[i])\n",
    "# #     for i in range(C): \n",
    "# #         m.addConstr(quicksum(y[j] for j in np.where(D3[i]==1)[0]) >= x3[i])\n",
    "# #     for i in range(D): \n",
    "# #         m.addConstr(quicksum(y[j] for j in np.where(D4[i]==1)[0]) >= x4[i])\n",
    "\n",
    "#     # 목적함수 수정\n",
    "#     m.setObjective(quicksum(0*x1[a] + 2*x2[b] + 0*x3[c] + 0*x4[d] \\\n",
    "#                             for a,b,c,d in zip_longest(range(A),range(B),range(C),range(D), fillvalue=0)),\\\n",
    "#                    GRB.MAXIMIZE)   # 제약조건 포함, 모든 수요지점 더하기\n",
    "    \n",
    "#     m.setParam('OutputFlag', 0)\n",
    "#     m.optimize()\n",
    "#     end = time.time()\n",
    "#     print('----- Output -----')\n",
    "#     print('  Running time : %s seconds' % float(end-start))\n",
    "#     print('  Optimal coverage points: %g' % m.objVal)\n",
    "  \n",
    "#     solution = []\n",
    "#     if m.status == GRB.Status.OPTIMAL:\n",
    "#         for v in m.getVars():\n",
    "#             # print v.varName,v.x\n",
    "#             if v.x==1 and v.varName[0]==\"y\":\n",
    "#                 solution.append(int(v.varName[1:]))\n",
    "#     opt_sites = sites[solution]\n",
    "#     return opt_sites,m.objVal"
   ]
  },
  {
   "cell_type": "code",
   "execution_count": 42,
   "metadata": {},
   "outputs": [
    {
     "name": "stdout",
     "output_type": "stream",
     "text": [
      "  Number of points 254\n",
      "  K 3\n",
      "  Radius 0.0028\n",
      "----- Output -----\n",
      "  Running time : 0.017952680587768555 seconds\n",
      "  Optimal coverage points: 4\n"
     ]
    },
    {
     "data": {
      "text/plain": [
       "array([[127.06414 ,  37.614111],\n",
       "       [127.063579,  37.614357],\n",
       "       [127.064186,  37.614016]])"
      ]
     },
     "execution_count": 42,
     "metadata": {},
     "output_type": "execute_result"
    }
   ],
   "source": [
    "opts_sites, mobjVal = mclp(버스_points, 지하철_points, 주차장_points, 주택_points, points, 3, 0.0028)\n",
    "opts_sites"
   ]
  },
  {
   "cell_type": "code",
   "execution_count": 43,
   "metadata": {},
   "outputs": [],
   "source": [
    "def plot_input(points):\n",
    "    '''\n",
    "    Plot the result\n",
    "    Input:\n",
    "        points: input points, Numpy array in shape of [N,2]\n",
    "        opt_sites: locations K optimal sites, Numpy array in shape of [K,2]\n",
    "        radius: the radius of circle\n",
    "    '''\n",
    "    from matplotlib import pyplot as plt\n",
    "    fig = plt.figure(figsize=(8,8))\n",
    "    plt.scatter(points[:,0],points[:,1],c='C0')\n",
    "    ax = plt.gca()\n",
    "    ax.axis('equal')\n",
    "    ax.tick_params(axis='both',left=False, top=False, right=False,\n",
    "                       bottom=False, labelleft=False, labeltop=False,\n",
    "                       labelright=False, labelbottom=False)"
   ]
  },
  {
   "cell_type": "code",
   "execution_count": 44,
   "metadata": {},
   "outputs": [],
   "source": [
    "def plot_result(points,opt_sites,radius):\n",
    "    '''\n",
    "    Plot the result\n",
    "    Input:\n",
    "        points: input points, Numpy array in shape of [N,2]\n",
    "        opt_sites: locations K optimal sites, Numpy array in shape of [K,2]\n",
    "        radius: the radius of circle\n",
    "    '''\n",
    "    from matplotlib import pyplot as plt\n",
    "    fig = plt.figure(figsize=(8,8))\n",
    "    plt.scatter(points[:,0],points[:,1],c='C0')\n",
    "    ax = plt.gca()\n",
    "    plt.scatter(opt_sites[:,0],opt_sites[:,1],c='C1',marker='+')\n",
    "    for site in opt_sites:\n",
    "        circle = plt.Circle(site, radius, color='C1',fill=False,lw=2)\n",
    "        ax.add_artist(circle)\n",
    "    ax.axis('equal')\n",
    "    ax.tick_params(axis='both',left=False, top=False, right=False,\n",
    "                       bottom=False, labelleft=False, labeltop=False,\n",
    "                       labelright=False, labelbottom=False)"
   ]
  },
  {
   "cell_type": "code",
   "execution_count": 46,
   "metadata": {
    "scrolled": false
   },
   "outputs": [
    {
     "data": {
      "image/png": "[encoded data removed]",
      "text/plain": [
       "<Figure size 576x576 with 1 Axes>"
      ]
     },
     "metadata": {},
     "output_type": "display_data"
    }
   ],
   "source": [
    "plot_result(points, opts_sites, 0.0028)"
   ]
  },
  {
   "cell_type": "code",
   "execution_count": 28,
   "metadata": {},
   "outputs": [],
   "source": [
    "수요지점 = pd.DataFrame(points, columns=['경도','위도'])\n",
    "수요지점.to_csv('석관동_수요지점.csv', index=False, encoding='cp949')"
   ]
  },
  {
   "cell_type": "code",
   "execution_count": 27,
   "metadata": {},
   "outputs": [],
   "source": [
    "후보지 = pd.DataFrame(opts_sites, columns=['경도','위도'])\n",
    "후보지.to_csv('석관동_후보지.csv', index=False, encoding='cp949')"
   ]
  },
  {
   "cell_type": "code",
   "execution_count": 33,
   "metadata": {},
   "outputs": [],
   "source": [
    "from haversine import haversine"
   ]
  },
  {
   "cell_type": "code",
   "execution_count": 35,
   "metadata": {},
   "outputs": [
    {
     "data": {
      "text/plain": [
       "0.04070979017782684"
      ]
     },
     "execution_count": 35,
     "metadata": {},
     "output_type": "execute_result"
    }
   ],
   "source": [
    "# 위경도 입력\n",
    "후보지 = (127.06414, 37.614111)  #Latitude, Longitude\n",
    "수요지점 = (127.064415, 37.614512) \n",
    "\n",
    "# 거리 계산\n",
    "haversine(후보지, 수요지점, unit = 'km')"
   ]
  },
  {
   "cell_type": "code",
   "execution_count": 18,
   "metadata": {},
   "outputs": [
    {
     "data": {
      "text/plain": [
       "0.3108"
      ]
     },
     "execution_count": 18,
     "metadata": {},
     "output_type": "execute_result"
    }
   ],
   "source": [
    "0.0028*111"
   ]
  },
  {
   "cell_type": "code",
   "execution_count": null,
   "metadata": {},
   "outputs": [],
   "source": []
  },
  {
   "cell_type": "code",
   "execution_count": null,
   "metadata": {},
   "outputs": [],
   "source": []
  },
  {
   "cell_type": "code",
   "execution_count": null,
   "metadata": {},
   "outputs": [],
   "source": []
  },
  {
   "cell_type": "code",
   "execution_count": null,
   "metadata": {},
   "outputs": [],
   "source": []
  }
 ],
 "metadata": {
  "kernelspec": {
   "display_name": "Python 3",
   "language": "python",
   "name": "python3"
  },
  "language_info": {
   "codemirror_mode": {
    "name": "ipython",
    "version": 3
   },
   "file_extension": ".py",
   "mimetype": "text/x-python",
   "name": "python",
   "nbconvert_exporter": "python",
   "pygments_lexer": "ipython3",
   "version": "3.7.3"
  }
 },
 "nbformat": 4,
 "nbformat_minor": 5
}
