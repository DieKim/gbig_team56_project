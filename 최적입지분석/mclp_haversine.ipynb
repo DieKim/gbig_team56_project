{
 "cells": [
  {
   "cell_type": "code",
   "execution_count": 2,
   "metadata": {},
   "outputs": [
    {
     "name": "stdout",
     "output_type": "stream",
     "text": [
      "Collecting haversine\n",
      "  Downloading haversine-2.3.1-py2.py3-none-any.whl (5.5 kB)\n",
      "Installing collected packages: haversine\n",
      "Successfully installed haversine-2.3.1\n"
     ]
    }
   ],
   "source": [
    "!pip install haversine"
   ]
  },
  {
   "cell_type": "code",
   "execution_count": 157,
   "metadata": {},
   "outputs": [],
   "source": [
    "import numpy as np\n",
    "from scipy.spatial import distance_matrix\n",
    "from gurobipy import *\n",
    "#from scipy.spatial import ConvexHull\n",
    "#from shapely.geometry import Polygon, Point\n",
    "from numpy import random\n",
    "import time\n",
    "import pandas as pd\n",
    "from itertools import zip_longest   # zip 함수 길이 다를 경우\n",
    "from haversine import haversine"
   ]
  },
  {
   "cell_type": "code",
   "execution_count": null,
   "metadata": {},
   "outputs": [],
   "source": [
    "행정동 = '구의제1동'\n",
    "행정동리스트 = ['구의1동', '화양동','자양1동','자양2동','광장동','중곡4동','구의2동','구의3동', '능동']"
   ]
  },
  {
   "cell_type": "code",
   "execution_count": 158,
   "metadata": {},
   "outputs": [
    {
     "name": "stdout",
     "output_type": "stream",
     "text": [
      "(13, 6)\n"
     ]
    },
    {
     "data": {
      "text/html": [
       "<div>\n",
       "<style scoped>\n",
       "    .dataframe tbody tr th:only-of-type {\n",
       "        vertical-align: middle;\n",
       "    }\n",
       "\n",
       "    .dataframe tbody tr th {\n",
       "        vertical-align: top;\n",
       "    }\n",
       "\n",
       "    .dataframe thead th {\n",
       "        text-align: right;\n",
       "    }\n",
       "</style>\n",
       "<table border=\"1\" class=\"dataframe\">\n",
       "  <thead>\n",
       "    <tr style=\"text-align: right;\">\n",
       "      <th></th>\n",
       "      <th>분류</th>\n",
       "      <th>시설명</th>\n",
       "      <th>x좌표</th>\n",
       "      <th>y좌표</th>\n",
       "      <th>법정동</th>\n",
       "      <th>행정동</th>\n",
       "    </tr>\n",
       "  </thead>\n",
       "  <tbody>\n",
       "    <tr>\n",
       "      <th>478</th>\n",
       "      <td>간이운동장</td>\n",
       "      <td>구의어린이공원</td>\n",
       "      <td>127.094743</td>\n",
       "      <td>37.536502</td>\n",
       "      <td>구의동</td>\n",
       "      <td>구의제1동</td>\n",
       "    </tr>\n",
       "    <tr>\n",
       "      <th>739</th>\n",
       "      <td>간이운동장</td>\n",
       "      <td>아차산배수지체육공원</td>\n",
       "      <td>127.096501</td>\n",
       "      <td>37.548963</td>\n",
       "      <td>구의동</td>\n",
       "      <td>구의제1동</td>\n",
       "    </tr>\n",
       "  </tbody>\n",
       "</table>\n",
       "</div>"
      ],
      "text/plain": [
       "        분류         시설명         x좌표        y좌표  법정동    행정동\n",
       "478  간이운동장     구의어린이공원  127.094743  37.536502  구의동  구의제1동\n",
       "739  간이운동장  아차산배수지체육공원  127.096501  37.548963  구의동  구의제1동"
      ]
     },
     "execution_count": 158,
     "metadata": {},
     "output_type": "execute_result"
    }
   ],
   "source": [
    "입지후보지 = pd.read_csv('입지선정후보군_좌표추가.csv', encoding='EUC-KR')\n",
    "입지후보지 = 입지후보지[입지후보지['행정동'] == 행정동]\n",
    "print(입지후보지.shape)\n",
    "입지후보지.head(2)"
   ]
  },
  {
   "cell_type": "code",
   "execution_count": 159,
   "metadata": {},
   "outputs": [
    {
     "name": "stdout",
     "output_type": "stream",
     "text": [
      "(106, 7)\n"
     ]
    },
    {
     "data": {
      "text/html": [
       "<div>\n",
       "<style scoped>\n",
       "    .dataframe tbody tr th:only-of-type {\n",
       "        vertical-align: middle;\n",
       "    }\n",
       "\n",
       "    .dataframe tbody tr th {\n",
       "        vertical-align: top;\n",
       "    }\n",
       "\n",
       "    .dataframe thead th {\n",
       "        text-align: right;\n",
       "    }\n",
       "</style>\n",
       "<table border=\"1\" class=\"dataframe\">\n",
       "  <thead>\n",
       "    <tr style=\"text-align: right;\">\n",
       "      <th></th>\n",
       "      <th>정류소명</th>\n",
       "      <th>X좌표</th>\n",
       "      <th>Y좌표</th>\n",
       "      <th>정류버스수</th>\n",
       "      <th>행정동</th>\n",
       "      <th>행정동_경도</th>\n",
       "      <th>행정동_위도</th>\n",
       "    </tr>\n",
       "  </thead>\n",
       "  <tbody>\n",
       "    <tr>\n",
       "      <th>273</th>\n",
       "      <td>광진구청</td>\n",
       "      <td>127.083386</td>\n",
       "      <td>37.538976</td>\n",
       "      <td>18</td>\n",
       "      <td>구의1동</td>\n",
       "      <td>127.084789</td>\n",
       "      <td>37.543188</td>\n",
       "    </tr>\n",
       "    <tr>\n",
       "      <th>304</th>\n",
       "      <td>어린이대공원역.화양천주교회</td>\n",
       "      <td>127.073693</td>\n",
       "      <td>37.546602</td>\n",
       "      <td>17</td>\n",
       "      <td>화양동</td>\n",
       "      <td>127.071368</td>\n",
       "      <td>37.546476</td>\n",
       "    </tr>\n",
       "  </tbody>\n",
       "</table>\n",
       "</div>"
      ],
      "text/plain": [
       "               정류소명         X좌표        Y좌표  정류버스수   행정동      행정동_경도     행정동_위도\n",
       "273            광진구청  127.083386  37.538976     18  구의1동  127.084789  37.543188\n",
       "304  어린이대공원역.화양천주교회  127.073693  37.546602     17   화양동  127.071368  37.546476"
      ]
     },
     "execution_count": 159,
     "metadata": {},
     "output_type": "execute_result"
    }
   ],
   "source": [
    "버스 = pd.read_csv('서울시_버스정류장_행정동추가.csv')\n",
    "버스 = 버스[버스['행정동'].isin(행정동리스트)]\n",
    "print(버스.shape)\n",
    "버스.head(2)"
   ]
  },
  {
   "cell_type": "code",
   "execution_count": 160,
   "metadata": {},
   "outputs": [
    {
     "name": "stdout",
     "output_type": "stream",
     "text": [
      "(5, 14)\n"
     ]
    },
    {
     "data": {
      "text/html": [
       "<div>\n",
       "<style scoped>\n",
       "    .dataframe tbody tr th:only-of-type {\n",
       "        vertical-align: middle;\n",
       "    }\n",
       "\n",
       "    .dataframe tbody tr th {\n",
       "        vertical-align: top;\n",
       "    }\n",
       "\n",
       "    .dataframe thead th {\n",
       "        text-align: right;\n",
       "    }\n",
       "</style>\n",
       "<table border=\"1\" class=\"dataframe\">\n",
       "  <thead>\n",
       "    <tr style=\"text-align: right;\">\n",
       "      <th></th>\n",
       "      <th>전철역코드</th>\n",
       "      <th>전철역명</th>\n",
       "      <th>전철명명(영문)</th>\n",
       "      <th>호선</th>\n",
       "      <th>외부코드</th>\n",
       "      <th>검색키워드</th>\n",
       "      <th>주소</th>\n",
       "      <th>위도</th>\n",
       "      <th>경도</th>\n",
       "      <th>환승역</th>\n",
       "      <th>H/B</th>\n",
       "      <th>행정동</th>\n",
       "      <th>행정동_경도</th>\n",
       "      <th>행정동_위도</th>\n",
       "    </tr>\n",
       "  </thead>\n",
       "  <tbody>\n",
       "    <tr>\n",
       "      <th>47</th>\n",
       "      <td>0214</td>\n",
       "      <td>강변역</td>\n",
       "      <td>Gangbyeon</td>\n",
       "      <td>2호선</td>\n",
       "      <td>214</td>\n",
       "      <td>강변역 2호선</td>\n",
       "      <td>서울 광진구 강변역로 53</td>\n",
       "      <td>37.535169</td>\n",
       "      <td>127.094665</td>\n",
       "      <td>0</td>\n",
       "      <td>H</td>\n",
       "      <td>구의3동</td>\n",
       "      <td>127.091961</td>\n",
       "      <td>37.537982</td>\n",
       "    </tr>\n",
       "    <tr>\n",
       "      <th>121</th>\n",
       "      <td>0213</td>\n",
       "      <td>구의역</td>\n",
       "      <td>Guui</td>\n",
       "      <td>2호선</td>\n",
       "      <td>213</td>\n",
       "      <td>구의역 2호선</td>\n",
       "      <td>서울 광진구 아차산로 384-1</td>\n",
       "      <td>37.537154</td>\n",
       "      <td>127.086179</td>\n",
       "      <td>0</td>\n",
       "      <td>H</td>\n",
       "      <td>자양2동</td>\n",
       "      <td>127.084415</td>\n",
       "      <td>37.528844</td>\n",
       "    </tr>\n",
       "  </tbody>\n",
       "</table>\n",
       "</div>"
      ],
      "text/plain": [
       "    전철역코드 전철역명   전철명명(영문)   호선 외부코드    검색키워드                 주소         위도  \\\n",
       "47   0214  강변역  Gangbyeon  2호선  214  강변역 2호선     서울 광진구 강변역로 53  37.535169   \n",
       "121  0213  구의역       Guui  2호선  213  구의역 2호선  서울 광진구 아차산로 384-1  37.537154   \n",
       "\n",
       "             경도  환승역 H/B   행정동      행정동_경도     행정동_위도  \n",
       "47   127.094665    0   H  구의3동  127.091961  37.537982  \n",
       "121  127.086179    0   H  자양2동  127.084415  37.528844  "
      ]
     },
     "execution_count": 160,
     "metadata": {},
     "output_type": "execute_result"
    }
   ],
   "source": [
    "지하철 = pd.read_csv('서울시_지하철역_행정동추가.csv', encoding='EUC-KR', index_col=0)\n",
    "지하철 = 지하철[지하철['행정동'].isin(행정동리스트)]\n",
    "print(지하철.shape)\n",
    "지하철.head(2)"
   ]
  },
  {
   "cell_type": "code",
   "execution_count": 161,
   "metadata": {},
   "outputs": [
    {
     "name": "stdout",
     "output_type": "stream",
     "text": [
      "(15, 9)\n"
     ]
    },
    {
     "data": {
      "text/html": [
       "<div>\n",
       "<style scoped>\n",
       "    .dataframe tbody tr th:only-of-type {\n",
       "        vertical-align: middle;\n",
       "    }\n",
       "\n",
       "    .dataframe tbody tr th {\n",
       "        vertical-align: top;\n",
       "    }\n",
       "\n",
       "    .dataframe thead th {\n",
       "        text-align: right;\n",
       "    }\n",
       "</style>\n",
       "<table border=\"1\" class=\"dataframe\">\n",
       "  <thead>\n",
       "    <tr style=\"text-align: right;\">\n",
       "      <th></th>\n",
       "      <th>주차장id</th>\n",
       "      <th>주차장이름</th>\n",
       "      <th>주소</th>\n",
       "      <th>경도</th>\n",
       "      <th>위도</th>\n",
       "      <th>H/B</th>\n",
       "      <th>행정동</th>\n",
       "      <th>행정동_경도</th>\n",
       "      <th>행정동_위도</th>\n",
       "    </tr>\n",
       "  </thead>\n",
       "  <tbody>\n",
       "    <tr>\n",
       "      <th>289</th>\n",
       "      <td>20589068</td>\n",
       "      <td>화양동 공영주차장</td>\n",
       "      <td>서울 광진구 화양동 63-2</td>\n",
       "      <td>127.071176</td>\n",
       "      <td>37.545298</td>\n",
       "      <td>H</td>\n",
       "      <td>화양동</td>\n",
       "      <td>127.071368</td>\n",
       "      <td>37.546476</td>\n",
       "    </tr>\n",
       "    <tr>\n",
       "      <th>291</th>\n",
       "      <td>20589328</td>\n",
       "      <td>능동공영주차장</td>\n",
       "      <td>서울 광진구 능동 205</td>\n",
       "      <td>127.080261</td>\n",
       "      <td>37.554043</td>\n",
       "      <td>H</td>\n",
       "      <td>능동</td>\n",
       "      <td>127.080537</td>\n",
       "      <td>37.553779</td>\n",
       "    </tr>\n",
       "  </tbody>\n",
       "</table>\n",
       "</div>"
      ],
      "text/plain": [
       "        주차장id      주차장이름               주소          경도         위도 H/B  행정동  \\\n",
       "289  20589068  화양동 공영주차장  서울 광진구 화양동 63-2  127.071176  37.545298   H  화양동   \n",
       "291  20589328    능동공영주차장    서울 광진구 능동 205  127.080261  37.554043   H   능동   \n",
       "\n",
       "         행정동_경도     행정동_위도  \n",
       "289  127.071368  37.546476  \n",
       "291  127.080537  37.553779  "
      ]
     },
     "execution_count": 161,
     "metadata": {},
     "output_type": "execute_result"
    }
   ],
   "source": [
    "주차장 = pd.read_csv('서울시_주차장_행정동추가.csv', encoding='EUC-KR', index_col=0).drop('Unnamed: 0.1', axis=1)\n",
    "주차장 = 주차장[주차장['행정동'].isin(행정동리스트)]\n",
    "print(주차장.shape)\n",
    "주차장.head(2)"
   ]
  },
  {
   "cell_type": "code",
   "execution_count": 162,
   "metadata": {},
   "outputs": [
    {
     "name": "stdout",
     "output_type": "stream",
     "text": [
      "(3, 14)\n"
     ]
    },
    {
     "data": {
      "text/html": [
       "<div>\n",
       "<style scoped>\n",
       "    .dataframe tbody tr th:only-of-type {\n",
       "        vertical-align: middle;\n",
       "    }\n",
       "\n",
       "    .dataframe tbody tr th {\n",
       "        vertical-align: top;\n",
       "    }\n",
       "\n",
       "    .dataframe thead th {\n",
       "        text-align: right;\n",
       "    }\n",
       "</style>\n",
       "<table border=\"1\" class=\"dataframe\">\n",
       "  <thead>\n",
       "    <tr style=\"text-align: right;\">\n",
       "      <th></th>\n",
       "      <th>구명</th>\n",
       "      <th>단지명</th>\n",
       "      <th>주택유형</th>\n",
       "      <th>세대수</th>\n",
       "      <th>입주개시일</th>\n",
       "      <th>주소</th>\n",
       "      <th>우편번호</th>\n",
       "      <th>전화번호</th>\n",
       "      <th>경도</th>\n",
       "      <th>위도</th>\n",
       "      <th>H/B</th>\n",
       "      <th>행정동</th>\n",
       "      <th>행정동_경도</th>\n",
       "      <th>행정동_위도</th>\n",
       "    </tr>\n",
       "  </thead>\n",
       "  <tbody>\n",
       "    <tr>\n",
       "      <th>117</th>\n",
       "      <td>광진구</td>\n",
       "      <td>한라녹턴</td>\n",
       "      <td>재건축</td>\n",
       "      <td>72</td>\n",
       "      <td>2009-09-11</td>\n",
       "      <td>영화사로16길 43 (구의동 구의동 아차산 한라아파트)</td>\n",
       "      <td>4957</td>\n",
       "      <td>NaN</td>\n",
       "      <td>37.553835</td>\n",
       "      <td>127.097346</td>\n",
       "      <td>H</td>\n",
       "      <td>구의2동</td>\n",
       "      <td>127.089936</td>\n",
       "      <td>37.547246</td>\n",
       "    </tr>\n",
       "    <tr>\n",
       "      <th>118</th>\n",
       "      <td>광진구</td>\n",
       "      <td>래미안프리미어팰리스</td>\n",
       "      <td>재건축재개발</td>\n",
       "      <td>264</td>\n",
       "      <td>2017-11-01</td>\n",
       "      <td>아차산로 345(자양동 래미안프리미어팰리스아파트)</td>\n",
       "      <td>5026</td>\n",
       "      <td>NaN</td>\n",
       "      <td>37.537505</td>\n",
       "      <td>127.081583</td>\n",
       "      <td>H</td>\n",
       "      <td>자양1동</td>\n",
       "      <td>127.082440</td>\n",
       "      <td>37.534507</td>\n",
       "    </tr>\n",
       "  </tbody>\n",
       "</table>\n",
       "</div>"
      ],
      "text/plain": [
       "      구명         단지명    주택유형  세대수       입주개시일                              주소  \\\n",
       "117  광진구        한라녹턴     재건축   72  2009-09-11  영화사로16길 43 (구의동 구의동 아차산 한라아파트)   \n",
       "118  광진구  래미안프리미어팰리스  재건축재개발  264  2017-11-01     아차산로 345(자양동 래미안프리미어팰리스아파트)   \n",
       "\n",
       "     우편번호  전화번호         경도          위도 H/B   행정동      행정동_경도     행정동_위도  \n",
       "117  4957   NaN  37.553835  127.097346   H  구의2동  127.089936  37.547246  \n",
       "118  5026   NaN  37.537505  127.081583   H  자양1동  127.082440  37.534507  "
      ]
     },
     "execution_count": 162,
     "metadata": {},
     "output_type": "execute_result"
    }
   ],
   "source": [
    "주택 = pd.read_csv('서울시주택_행정동추가.csv', encoding='EUC-KR', index_col=0).drop('Unnamed: 0.1', axis=1)\n",
    "주택 = 주택[주택['행정동'].isin(행정동리스트)]\n",
    "print(주택.shape)\n",
    "주택.head(2)"
   ]
  },
  {
   "cell_type": "code",
   "execution_count": 163,
   "metadata": {},
   "outputs": [
    {
     "name": "stdout",
     "output_type": "stream",
     "text": [
      "(106, 2)\n"
     ]
    },
    {
     "data": {
      "text/plain": [
       "array([[127.08338592,  37.53897619],\n",
       "       [127.07369304,  37.54660224]])"
      ]
     },
     "execution_count": 163,
     "metadata": {},
     "output_type": "execute_result"
    }
   ],
   "source": [
    "버스_points = np.array([list(i) for i in zip(버스['X좌표'], 버스['Y좌표'])])\n",
    "print(버스_points.shape)\n",
    "버스_points[:2]"
   ]
  },
  {
   "cell_type": "code",
   "execution_count": 164,
   "metadata": {},
   "outputs": [
    {
     "name": "stdout",
     "output_type": "stream",
     "text": [
      "(5, 2)\n"
     ]
    },
    {
     "data": {
      "text/plain": [
       "array([[127.09466457,  37.53516928],\n",
       "       [127.08617923,  37.53715356]])"
      ]
     },
     "execution_count": 164,
     "metadata": {},
     "output_type": "execute_result"
    }
   ],
   "source": [
    "지하철_points = np.array([list(i) for i in zip(지하철['경도'], 지하철['위도'])])\n",
    "print(지하철_points.shape)\n",
    "지하철_points[:2]"
   ]
  },
  {
   "cell_type": "code",
   "execution_count": 165,
   "metadata": {
    "scrolled": true
   },
   "outputs": [
    {
     "name": "stdout",
     "output_type": "stream",
     "text": [
      "(15, 2)\n"
     ]
    },
    {
     "data": {
      "text/plain": [
       "array([[127.07117639,  37.54529787],\n",
       "       [127.08026103,  37.55404254]])"
      ]
     },
     "execution_count": 165,
     "metadata": {},
     "output_type": "execute_result"
    }
   ],
   "source": [
    "주차장_points = np.array([list(i) for i in zip(주차장['경도'], 주차장['위도'])])\n",
    "print(주차장_points.shape)\n",
    "주차장_points[:2]"
   ]
  },
  {
   "cell_type": "code",
   "execution_count": 166,
   "metadata": {
    "scrolled": true
   },
   "outputs": [
    {
     "name": "stdout",
     "output_type": "stream",
     "text": [
      "(3, 2)\n"
     ]
    },
    {
     "data": {
      "text/plain": [
       "array([[127.09734622,  37.55383544],\n",
       "       [127.08158296,  37.53750524]])"
      ]
     },
     "execution_count": 166,
     "metadata": {},
     "output_type": "execute_result"
    }
   ],
   "source": [
    "주택_points = np.array([list(i) for i in zip(주택['위도'], 주택['경도'])])   # 위도 경도 바뀜\n",
    "print(주택_points.shape)\n",
    "주택_points[:2]"
   ]
  },
  {
   "cell_type": "code",
   "execution_count": 167,
   "metadata": {},
   "outputs": [
    {
     "data": {
      "text/plain": [
       "[127.0833859175, 127.0736930425]"
      ]
     },
     "execution_count": 167,
     "metadata": {},
     "output_type": "execute_result"
    }
   ],
   "source": [
    "X = list(버스['X좌표']) + list(지하철['경도']) + list(주차장['경도']) + list(주택['위도'])     # 주택 위도 경도 이름 바뀜\n",
    "X[:2]"
   ]
  },
  {
   "cell_type": "code",
   "execution_count": 168,
   "metadata": {},
   "outputs": [
    {
     "data": {
      "text/plain": [
       "[37.5389761877, 37.5466022392]"
      ]
     },
     "execution_count": 168,
     "metadata": {},
     "output_type": "execute_result"
    }
   ],
   "source": [
    "Y = list(버스['Y좌표']) + list(지하철['위도']) + list(주차장['위도']) + list(주택['경도'])\n",
    "Y[:2]"
   ]
  },
  {
   "cell_type": "code",
   "execution_count": 169,
   "metadata": {},
   "outputs": [
    {
     "name": "stdout",
     "output_type": "stream",
     "text": [
      "(129, 2)\n"
     ]
    },
    {
     "data": {
      "text/plain": [
       "array([[127.08338592,  37.53897619],\n",
       "       [127.07369304,  37.54660224]])"
      ]
     },
     "execution_count": 169,
     "metadata": {},
     "output_type": "execute_result"
    }
   ],
   "source": [
    "points = np.array([list(i) for i in zip(X, Y)])\n",
    "print(points.shape)\n",
    "points[:2]"
   ]
  },
  {
   "cell_type": "code",
   "execution_count": 44,
   "metadata": {},
   "outputs": [],
   "source": [
    "# # 보유하고 있는 좌표(points)의 모양에 맞는 도형 생성\n",
    "# # 해당 도형 안에 포함되는 random한 좌표 생성 (임의의 노인놀이터 위치 좌표)\n",
    "# def generate_candidate_sites(points, M=100):\n",
    "#     '''\n",
    "#     Generate M candidate sites with the convex hull of a point set\n",
    "#     Input:\n",
    "#         points: 버스정류장, 지하철역 위치 좌표 등 (기타 인근에 있으면 좋은 시설 좌표)\n",
    "#         M: 생성할 random 좌표 수 (임의의 노인놀이터 수)\n",
    "#     Return:\n",
    "#         sites: a Numpy array with shape of (M,2)\n",
    "#     '''\n",
    "#     hull = ConvexHull(points)                                   # points 좌표들의 외곽선 생성\n",
    "#     polygon_points = points[hull.vertices]                      # 외곽선을 구성하는 직선 간 점(좌표) 반환\n",
    "#     poly = Polygon(polygon_points)                              # 외곽선 모양의 도형 생성\n",
    "#     min_x, min_y, max_x, max_y = poly.bounds                    # 도형의 x축과 y축 좌표 최소,최대\n",
    "#     sites = []\n",
    "#     while len(sites) < M:\n",
    "#         random_point = Point([random.uniform(min_x, max_x),     # x축 범위 내 random한 값\n",
    "#                               random.uniform(min_y, max_y)])    # y축 범위 내 random한 값\n",
    "#         if (random_point.within(poly)):                         # random한 좌표가 도형 안에 있다면 sites에 추가\n",
    "#             sites.append(random_point)\n",
    "#     return np.array([(p.x,p.y) for p in sites])"
   ]
  },
  {
   "cell_type": "code",
   "execution_count": 69,
   "metadata": {},
   "outputs": [],
   "source": [
    "# # haversine -> meter 단위로 수정\n",
    "# def mclp(버스_points, 지하철_points, 주차장_points, 주택_points, points, K, radius):\n",
    "    \n",
    "#     \"\"\"\n",
    "#     Solve maximum covering location problem\n",
    "#     Input:\n",
    "#         points: 버스정류장, 지하철역 위치 좌표 등 (기타 인근에 있으면 좋은 시설 좌표)\n",
    "#         K: 배치할 노인놀이터의 수\n",
    "#         radius: 반경 (노인들이 이동하기 적합한 거리)\n",
    "#         M: generate_candidate_sites 함수에서 생성할 random 좌표 수 (임의의 노인놀이터 수)\n",
    "#         the ConvexHull wrapped by the polygon\n",
    "#     Return:\n",
    "#         opt_sites: locations K optimal sites, Numpy array in shape of [K,2]\n",
    "#         f: the optimal value of the objective function\n",
    "#     \"\"\"\n",
    "    \n",
    "#     print('  Number of points %g' % points.shape[0])\n",
    "#     print('  K %g' % K)\n",
    "#     print('  Radius %g' % radius)\n",
    "\n",
    "#     start = time.time()\n",
    "#     sites = np.array([list(i) for i in zip(입지후보지['x좌표'], 입지후보지['y좌표'])])\n",
    "#     J = sites.shape[0]                                         # 후보지 수\n",
    "    \n",
    "#     # 수요지점 수\n",
    "#     A = 버스_points.shape[0]\n",
    "#     B = 지하철_points.shape[0]\n",
    "#     C = 주차장_points.shape[0]\n",
    "#     D = 주택_points.shape[0]\n",
    "    \n",
    "#     # 후보지와 수요지점 간 거리 계산\n",
    "#     D1 = []\n",
    "#     for i in 버스_points:\n",
    "#         site = []\n",
    "#         for j in sites:\n",
    "#             site.append(haversine(i, j)*1000)\n",
    "#         D1.append(site)\n",
    "#     D1 = np.array(D1)\n",
    "    \n",
    "#     D2 = []\n",
    "#     for i in 지하철_points:\n",
    "#         site = []\n",
    "#         for j in sites:\n",
    "#             site.append(haversine(i, j)*1000)\n",
    "#         D2.append(site)\n",
    "#     D2 = np.array(D2)    \n",
    "    \n",
    "#     D3 = []\n",
    "#     for i in 주차장_points:\n",
    "#         site = []\n",
    "#         for j in sites:\n",
    "#             site.append(haversine(i, j)*1000)\n",
    "#         D3.append(site)\n",
    "#     D3 = np.array(D3)\n",
    "    \n",
    "#     D4 = []\n",
    "#     for i in 주택_points:\n",
    "#         site = []\n",
    "#         for j in sites:\n",
    "#             site.append(haversine(i, j)*1000)\n",
    "#         D4.append(site)\n",
    "#     D4 = np.array(D4)\n",
    "    \n",
    "#     for i in [D1, D2, D3, D4]:\n",
    "#         mask1 = i<=radius\n",
    "#         i[mask1]=1                                                 # 반경 내 속하면 1, 아니면 0\n",
    "#         i[~mask1]=0\n",
    "\n",
    "#     m = Model()\n",
    "#     x1, x2, x3, x4 = {}, {}, {}, {}\n",
    "#     y = {}\n",
    "    \n",
    "#     # 수요지점 변수 추가\n",
    "#     for i in range(A):                                       \n",
    "#         x1[i] = m.addVar(vtype=GRB.BINARY, name=\"x1%d\" % i)\n",
    "#     for i in range(B):                                       \n",
    "#         x2[i] = m.addVar(vtype=GRB.BINARY, name=\"x2%d\" % i)\n",
    "#     for i in range(C):                                       \n",
    "#         x3[i] = m.addVar(vtype=GRB.BINARY, name=\"x3%d\" % i)\n",
    "#     for i in range(D):                                       \n",
    "#         x4[i] = m.addVar(vtype=GRB.BINARY, name=\"x4%d\" % i)\n",
    "    \n",
    "#     for j in range(J):\n",
    "#         y[j] = m.addVar(vtype=GRB.BINARY, name=\"y%d\" % j)     # 후보지 변수 추가\n",
    "\n",
    "#     m.update()\n",
    "#     m.addConstr(quicksum(y[j] for j in range(J)) == K)        # 후보지 제약 조건\n",
    "\n",
    "#     # 수요지점 제약 조건\n",
    "#     for i in range(A): \n",
    "#         m.addConstr(quicksum(y[j] for j in np.where(D1[i]==1)[0]) >= x1[i])\n",
    "#     for i in range(B): \n",
    "#         m.addConstr(quicksum(y[j] for j in np.where(D2[i]==1)[0]) >= x2[i])\n",
    "#     for i in range(C): \n",
    "#         m.addConstr(quicksum(y[j] for j in np.where(D3[i]==1)[0]) >= x3[i])\n",
    "#     for i in range(D): \n",
    "#         m.addConstr(quicksum(y[j] for j in np.where(D4[i]==1)[0]) >= x4[i])\n",
    "\n",
    "# # #     # 목적함수 수정\n",
    "    \n",
    "# # #     for a, b, c, d in zip_longest(range(A),range(B),range(C),range(D), fillvalue=0):\n",
    "# #         if a == 0:\n",
    "# #             w1 = 0\n",
    "# #         else:\n",
    "# #             w1 = 1\n",
    "# #         if b == 0:\n",
    "# #             w2 = 0\n",
    "# #         else:\n",
    "# #             w2 = 1\n",
    "# #         if c == 0:\n",
    "# #             w3 = 0\n",
    "# #         else:\n",
    "# #             w3 = 1\n",
    "# #         if d == 0:\n",
    "# #             w4 = 0\n",
    "# #         else:\n",
    "# #             w4 = 1\n",
    "# #         m.setObjective(quicksum(w1*x1[a] + w2*x2[b] + w3*x3[c] + w4*x4[d]), GRB.MAXIMIZE)\n",
    "        \n",
    "    \n",
    "#     # 목적함수 수정\n",
    "#     w1=[]; w2=[]; w3=[]; w4=[]\n",
    "    \n",
    "#     for a,b,c,d in zip_longest(range(A),range(B),range(C),range(D), fillvalue=0):\n",
    "#         if a == 0:\n",
    "#             w1[a] = 0\n",
    "#         else:\n",
    "#             w1[a] = 1\n",
    "#         if b == 0:\n",
    "#             w2[b] = 0\n",
    "#         else:\n",
    "#             w2[b] = 1\n",
    "#         if c == 0:\n",
    "#             w3[c] = 0\n",
    "#         else:\n",
    "#             w3[c] = 1\n",
    "#         if d == 0:\n",
    "#             w4[d] = 0\n",
    "#         else:\n",
    "#             w4[d] = 1\n",
    "        \n",
    "#         w1.append(w1)\n",
    "#         w2.append(w2)\n",
    "#         w3.append(w3)\n",
    "#         w4.append(w4)\n",
    "    \n",
    "#     m.setObjective(quicksum(w1[a]*x1[a] + w2[b]*x2[b] + w3[c]*x3[c] + w4[d]*x4[d] \\\n",
    "#                             for a,b,c,d in zip_longest(range(A),range(B),range(C),range(D), fillvalue=0)),\\\n",
    "#                    GRB.MAXIMIZE)   # 제약조건 포함, 모든 수요지점 더하기\n",
    "    \n",
    "#     m.setParam('OutputFlag', 0)\n",
    "#     m.optimize()\n",
    "#     end = time.time()\n",
    "#     print('----- Output -----')\n",
    "#     print('  Running time : %s seconds' % float(end-start))\n",
    "#     print('  Optimal coverage points: %g' % m.objVal)\n",
    "    \n",
    "#     solution = []\n",
    "#     if m.status == GRB.Status.OPTIMAL:\n",
    "#         for v in m.getVars():\n",
    "#             # print v.varName,v.x\n",
    "#             if v.x==1 and v.varName[0]==\"y\":\n",
    "#                 solution.append(int(v.varName[1:]))\n",
    "#     opt_sites = sites[solution]\n",
    "#     return opt_sites,m.objVal"
   ]
  },
  {
   "cell_type": "code",
   "execution_count": 71,
   "metadata": {},
   "outputs": [],
   "source": [
    "# def mclp(버스_points, 지하철_points, 주차장_points, 주택_points, points, K, radius):\n",
    "#     \"\"\"\n",
    "#     Solve maximum covering location problem\n",
    "#     Input:\n",
    "#         points: 버스정류장, 지하철역 위치 좌표 등 (기타 인근에 있으면 좋은 시설 좌표)\n",
    "#         K: 배치할 노인놀이터의 수\n",
    "#         radius: 반경 (노인들이 이동하기 적합한 거리)\n",
    "#         M: generate_candidate_sites 함수에서 생성할 random 좌표 수 (임의의 노인놀이터 수)\n",
    "#         the ConvexHull wrapped by the polygon\n",
    "#     Return:\n",
    "#         opt_sites: locations K optimal sites, Numpy array in shape of [K,2]\n",
    "#         f: the optimal value of the objective function\n",
    "#     \"\"\"\n",
    "#     print('  Number of points %g' % points.shape[0])\n",
    "#     print('  K %g' % K)\n",
    "#     print('  Radius %g' % radius)\n",
    "\n",
    "#     start = time.time()\n",
    "#     sites = np.array([list(i) for i in zip(입지후보지['x좌표'], 입지후보지['y좌표'])])\n",
    "#     J = sites.shape[0]                                         # 후보지 수\n",
    "    \n",
    "#     # 수요지점 수\n",
    "#     A = 버스_points.shape[0]\n",
    "#     B = 지하철_points.shape[0]\n",
    "#     C = 주차장_points.shape[0]\n",
    "#     D = 주택_points.shape[0]\n",
    "    \n",
    "#     # 후보지와 수요지점 간 거리 계산\n",
    "#     D1 = distance_matrix(버스_points, sites)\n",
    "#     D2 = distance_matrix(지하철_points, sites)\n",
    "#     D3 = distance_matrix(주차장_points, sites)\n",
    "#     D4 = distance_matrix(주택_points, sites)\n",
    "    \n",
    "#     for i in [D1, D2, D3, D4]:\n",
    "#         mask1 = i<=radius\n",
    "#         i[mask1]=1                                                 # 반경 내 속하면 1, 아니면 0\n",
    "#         i[~mask1]=0\n",
    "\n",
    "#     m = Model()\n",
    "#     x1, x2, x3, x4 = {}, {}, {}, {}\n",
    "#     y = {}\n",
    "    \n",
    "#     # 수요지점 변수 추가\n",
    "#     for i in range(A):                                       \n",
    "#         x1[i] = m.addVar(vtype=GRB.BINARY, name=\"x1%d\" % i)\n",
    "#     for i in range(B):                                       \n",
    "#         x2[i] = m.addVar(vtype=GRB.BINARY, name=\"x2%d\" % i)\n",
    "#     for i in range(C):                                       \n",
    "#         x3[i] = m.addVar(vtype=GRB.BINARY, name=\"x3%d\" % i)\n",
    "#     for i in range(D):                                       \n",
    "#         x4[i] = m.addVar(vtype=GRB.BINARY, name=\"x4%d\" % i)\n",
    "    \n",
    "#     for j in range(J):\n",
    "#         y[j] = m.addVar(vtype=GRB.BINARY, name=\"y%d\" % j)     # 후보지 변수 추가\n",
    "\n",
    "#     m.update()\n",
    "#     m.addConstr(quicksum(y[j] for j in range(J)) == K)        # 후보지 제약 조건 (3개)\n",
    "\n",
    "#     # 수요지점 제약 조건\n",
    "#     for i in range(A): \n",
    "#         m.addConstr(quicksum(y[j] for j in np.where(D1[i]==1)[0]) >= x1[i])\n",
    "#     for i in range(B): \n",
    "#         m.addConstr(quicksum(y[j] for j in np.where(D2[i]==1)[0]) >= x2[i])\n",
    "#     for i in range(C): \n",
    "#         m.addConstr(quicksum(y[j] for j in np.where(D3[i]==1)[0]) >= x3[i])\n",
    "#     for i in range(D): \n",
    "#         m.addConstr(quicksum(y[j] for j in np.where(D4[i]==1)[0]) >= x4[i])\n",
    "\n",
    "#     # 목적함수 수정\n",
    "#     m.setObjective(quicksum(1*x1[a] + 1*x2[b] + 1*x3[c] + 1*x4[d] \\\n",
    "#                             for a,b,c,d in zip_longest(range(A),range(B),range(C),range(D), fillvalue=0)),\\\n",
    "#                    GRB.MAXIMIZE)   # 제약조건 포함, 모든 수요지점 더하기\n",
    "    \n",
    "#     m.setParam('OutputFlag', 0)\n",
    "#     m.optimize()\n",
    "#     end = time.time()\n",
    "#     print('----- Output -----')\n",
    "#     print('  Running time : %s seconds' % float(end-start))\n",
    "#     print('  Optimal coverage points: %g' % m.objVal)\n",
    "    \n",
    "#     solution = []\n",
    "#     if m.status == GRB.Status.OPTIMAL:\n",
    "#         for v in m.getVars():\n",
    "#             # print v.varName,v.x\n",
    "#             if v.x==1 and v.varName[0]==\"y\":\n",
    "#                 solution.append(int(v.varName[1:]))\n",
    "#     opt_sites = sites[solution]\n",
    "#     return opt_sites, m.objVal"
   ]
  },
  {
   "cell_type": "markdown",
   "metadata": {},
   "source": [
    "# 수정 중"
   ]
  },
  {
   "cell_type": "code",
   "execution_count": 97,
   "metadata": {},
   "outputs": [],
   "source": [
    "sites = np.array([list(i) for i in zip(입지후보지['x좌표'], 입지후보지['y좌표'])])\n",
    "J = sites.shape[0]  "
   ]
  },
  {
   "cell_type": "code",
   "execution_count": 98,
   "metadata": {},
   "outputs": [],
   "source": [
    "# 수요지점 수\n",
    "A = 버스_points.shape[0]\n",
    "B = 지하철_points.shape[0]\n",
    "C = 주차장_points.shape[0]\n",
    "D = 주택_points.shape[0]"
   ]
  },
  {
   "cell_type": "code",
   "execution_count": 99,
   "metadata": {},
   "outputs": [],
   "source": [
    "# 후보지와 수요지점 간 거리 계산\n",
    "D1 = distance_matrix(버스_points, sites)\n",
    "D2 = distance_matrix(지하철_points, sites)\n",
    "D3 = distance_matrix(주차장_points, sites)\n",
    "D4 = distance_matrix(주택_points, sites)"
   ]
  },
  {
   "cell_type": "code",
   "execution_count": 100,
   "metadata": {},
   "outputs": [],
   "source": [
    "m = Model()\n",
    "x1, x2, x3, x4 = {}, {}, {}, {}\n",
    "y = {}"
   ]
  },
  {
   "cell_type": "code",
   "execution_count": 101,
   "metadata": {},
   "outputs": [],
   "source": [
    "# 수요지점 변수 추가\n",
    "for i in range(A):                                       \n",
    "    x1[i] = m.addVar(vtype=GRB.BINARY, name=\"x1%d\" % i)\n",
    "for i in range(B):                                       \n",
    "    x2[i] = m.addVar(vtype=GRB.BINARY, name=\"x2%d\" % i)\n",
    "for i in range(C):                                       \n",
    "    x3[i] = m.addVar(vtype=GRB.BINARY, name=\"x3%d\" % i)\n",
    "for i in range(D):                                       \n",
    "    x4[i] = m.addVar(vtype=GRB.BINARY, name=\"x4%d\" % i)\n",
    "    \n",
    "for j in range(J):\n",
    "    y[j] = m.addVar(vtype=GRB.BINARY, name=\"y%d\" % j)     # 후보지 변수 추가\n",
    "\n",
    "m.update()\n",
    "m.addConstr(quicksum(y[j] for j in range(J)) == 3)        # 후보지 제약 조건 (3개)\n",
    "\n",
    "# 수요지점 제약 조건\n",
    "for i in range(A): \n",
    "    m.addConstr(quicksum(y[j] for j in np.where(D1[i]==1)[0]) >= x1[i])\n",
    "for i in range(B): \n",
    "    m.addConstr(quicksum(y[j] for j in np.where(D2[i]==1)[0]) >= x2[i])\n",
    "for i in range(C): \n",
    "    m.addConstr(quicksum(y[j] for j in np.where(D3[i]==1)[0]) >= x3[i])\n",
    "for i in range(D): \n",
    "    m.addConstr(quicksum(y[j] for j in np.where(D4[i]==1)[0]) >= x4[i])"
   ]
  },
  {
   "cell_type": "code",
   "execution_count": 143,
   "metadata": {},
   "outputs": [],
   "source": [
    "# # 목적함수 수정\n",
    "# m.setObjective(quicksum(1*x1[a] + 1*x2[b] + 1*x3[c] + 1*x4[d] \\\n",
    "#                         for a,b,c,d in zip_longest(range(A),range(B),range(C),range(D), fillvalue=0)),\\\n",
    "#                GRB.MAXIMIZE)   # 제약조건 포함, 모든 수요지점 더하기"
   ]
  },
  {
   "cell_type": "code",
   "execution_count": 103,
   "metadata": {},
   "outputs": [],
   "source": [
    "# # 기본 mclp(가중치 없음)\n",
    "# X = list(버스['X좌표']) + list(지하철['경도']) + list(주차장['경도']) + list(주택['위도'])\n",
    "# points = np.array([list(i) for i in zip(X, Y)])\n",
    "# Y = list(버스['Y좌표']) + list(지하철['위도']) + list(주차장['위도']) + list(주택['경도'])\n",
    "# I = points.shape[0]\n",
    "\n",
    "# m = Model()\n",
    "# x = {}\n",
    "# y = {}\n",
    "# for i in range(I):                                        # 버스/지하철역 좌표 개수만큼 반복\n",
    "#     y[i] = m.addVar(vtype=GRB.BINARY, name=\"y%d\" % i)     # 모델에 결정 변수 추가 (변수 유형은 BINARY. 위치별 인수, 변수 이름 y+숫자)\n",
    "# for j in range(J):\n",
    "#     x[j] = m.addVar(vtype=GRB.BINARY, name=\"x%d\" % j)     # 노인놀이터 좌표 개수만큼 반복하여 변수 추가\n",
    "    \n",
    "# m.update()\n",
    "# # Add constraints\n",
    "# m.addConstr(quicksum(x[j] for j in range(J)) == 3)\n",
    "\n",
    "# for i in range(I):\n",
    "#     m.addConstr(quicksum(x[j] for j in np.where(D[i]==1)[0]) >= y[i])\n",
    "\n",
    "# m.setObjective(quicksum(y[i] for i in range(I)),GRB.MAXIMIZE)\n",
    "# m.setParam('OutputFlag', 0)\n",
    "# m.optimize()\n",
    "\n",
    "# quicksum(y[i] for i in range(I))"
   ]
  },
  {
   "cell_type": "code",
   "execution_count": 142,
   "metadata": {
    "scrolled": true
   },
   "outputs": [],
   "source": [
    "# # 수정필요\n",
    "# quicksum(2*x1[a] + 1*x2[b] + 1*x3[c] + 1*x4[d] \\\n",
    "#                         for a,b,c,d in zip_longest(range(A),range(B),range(C),range(D), fillvalue=0))"
   ]
  },
  {
   "cell_type": "code",
   "execution_count": 208,
   "metadata": {},
   "outputs": [],
   "source": [
    "# res=[]\n",
    "# for a,b,c,d in zip_longest(range(A),range(B),range(C),range(D), fillvalue=0):\n",
    "#     w1=1;w2=1;w3=1;w4=1\n",
    "#     if a==b==c==d==0:\n",
    "#         w1=1;w2=1;w3=1;w4=1\n",
    "#     else:\n",
    "#         if b==0:\n",
    "#             w2=0\n",
    "#         elif c==0:\n",
    "#             w3=0\n",
    "#         elif d==0:\n",
    "#             w4=0\n",
    "#     res.append(w1*x1[a] + w2*x2[b] + w3*x3[c] + w4*x4[d])"
   ]
  },
  {
   "cell_type": "code",
   "execution_count": 141,
   "metadata": {},
   "outputs": [],
   "source": [
    "# 2*x1[a] + 1*x2[b] + 1*x3[c] + 1*x4[d] for a,b,c,d in zip_longest(range(A),range(B),range(C),range(D), fillvalue=0)"
   ]
  },
  {
   "cell_type": "markdown",
   "metadata": {},
   "source": [
    "# 목적함수 수정 완료\n",
    "* mclp1 - 기본 mclp(가중치 고려 X): 21개\n",
    "* mclp2 - 목적함수 수정 mclp: 21개\n",
    "* mclp3 - mclp + haversine: 30개 - 이제 또 여기의 문제...?"
   ]
  },
  {
   "cell_type": "code",
   "execution_count": 204,
   "metadata": {},
   "outputs": [],
   "source": [
    "# 기본 mclp\n",
    "def mclp(points,K,radius):\n",
    "    \"\"\"\n",
    "    Solve maximum covering location problem\n",
    "    Input:\n",
    "        points: 버스정류장, 지하철역 위치 좌표 등 (기타 인근에 있으면 좋은 시설 좌표)\n",
    "        K: 배치할 노인놀이터의 수\n",
    "        radius: 반경 (노인들이 이동하기 적합한 거리)\n",
    "        M: generate_candidate_sites 함수에서 생성할 random 좌표 수 (임의의 노인놀이터 수)\n",
    "        the ConvexHull wrapped by the polygon\n",
    "    Return:\n",
    "        opt_sites: locations K optimal sites, Numpy array in shape of [K,2]\n",
    "        f: the optimal value of the objective function\n",
    "    \"\"\"\n",
    "    print('  Number of points %g' % points.shape[0])\n",
    "    print('  K %g' % K)\n",
    "    print('  Radius %g' % radius)\n",
    "\n",
    "    start = time.time()\n",
    "    sites = np.array([list(i) for i in zip(입지후보지['x좌표'], 입지후보지['y좌표'])])\n",
    "    J = sites.shape[0]                                         # 임의의 노인놀이터 좌표 개수\n",
    "    I = points.shape[0]                                        # 버스정류장, 지하철역 위치 좌표 개수\n",
    "    D = distance_matrix(points,sites)                          # 노인놀이터와 버스/지하철역 좌표 간 거리 계산\n",
    "    mask1 = D<=radius\n",
    "    D[mask1]=1                                                 # 버스/지하철역 좌표별로 노인놀이터의 반경 내 속하면 1, 아니면 0\n",
    "    D[~mask1]=0\n",
    "    # Build model\n",
    "    m = Model()\n",
    "    # Add variables\n",
    "    x = {}\n",
    "    y = {}\n",
    "    for i in range(I):                                        # 버스/지하철역 좌표 개수만큼 반복\n",
    "        y[i] = m.addVar(vtype=GRB.BINARY, name=\"y%d\" % i)     # 모델에 결정 변수 추가 (변수 유형은 BINARY. 위치별 인수, 변수 이름 y+숫자)\n",
    "    for j in range(J):\n",
    "        x[j] = m.addVar(vtype=GRB.BINARY, name=\"x%d\" % j)     # 노인놀이터 좌표 개수만큼 반복하여 변수 추가\n",
    "\n",
    "    m.update()\n",
    "    # Add constraints\n",
    "    m.addConstr(quicksum(x[j] for j in range(J)) == K)\n",
    "\n",
    "    for i in range(I):\n",
    "        m.addConstr(quicksum(x[j] for j in np.where(D[i]==1)[0]) >= y[i])\n",
    "\n",
    "    m.setObjective(quicksum(y[i] for i in range(I)),GRB.MAXIMIZE)\n",
    "    m.setParam('OutputFlag', 0)\n",
    "    m.optimize()\n",
    "    end = time.time()\n",
    "    print('----- Output -----')\n",
    "    print('  Running time : %s seconds' % float(end-start))\n",
    "    print('  Optimal coverage points: %g' % m.objVal)\n",
    "    \n",
    "    print(quicksum(y[i] for i in range(I)))\n",
    "    print(I) # 129개 -> 수정 후 106개..\n",
    "    \n",
    "    solution = []\n",
    "    if m.status == GRB.Status.OPTIMAL:\n",
    "        for v in m.getVars():\n",
    "            # print v.varName,v.x\n",
    "            if v.x==1 and v.varName[0]==\"x\":\n",
    "                solution.append(int(v.varName[1:]))\n",
    "    opt_sites = sites[solution]\n",
    "    return opt_sites,m.objVal"
   ]
  },
  {
   "cell_type": "code",
   "execution_count": 205,
   "metadata": {},
   "outputs": [
    {
     "name": "stdout",
     "output_type": "stream",
     "text": [
      "  Number of points 129\n",
      "  K 3\n",
      "  Radius 0.0027\n",
      "----- Output -----\n",
      "  Running time : 0.010972261428833008 seconds\n",
      "  Optimal coverage points: 21\n",
      "<gurobi.LinExpr: y0 + y1 + y2 + y3 + y4 + y5 + y6 + y7 + y8 + y9 + y10 + y11 + y12 + y13 + y14 + y15 + y16 + y17 + y18 + y19 + y20 + y21 + y22 + y23 + y24 + y25 + y26 + y27 + y28 + y29 + y30 + y31 + y32 + y33 + y34 + y35 + y36 + y37 + y38 + y39 + y40 + y41 + y42 + y43 + y44 + y45 + y46 + y47 + y48 + y49 + y50 + y51 + y52 + y53 + y54 + y55 + y56 + y57 + y58 + y59 + y60 + y61 + y62 + y63 + y64 + y65 + y66 + y67 + y68 + y69 + y70 + y71 + y72 + y73 + y74 + y75 + y76 + y77 + y78 + y79 + y80 + y81 + y82 + y83 + y84 + y85 + y86 + y87 + y88 + y89 + y90 + y91 + y92 + y93 + y94 + y95 + y96 + y97 + y98 + y99 + y100 + y101 + y102 + y103 + y104 + y105 + y106 + y107 + y108 + y109 + y110 + y111 + y112 + y113 + y114 + y115 + y116 + y117 + y118 + y119 + y120 + y121 + y122 + y123 + y124 + y125 + y126 + y127 + y128>\n",
      "129\n"
     ]
    },
    {
     "data": {
      "text/plain": [
       "array([[127.0947429 ,  37.53650197],\n",
       "       [127.083613  ,  37.538013  ],\n",
       "       [127.0906565 ,  37.54063897]])"
      ]
     },
     "execution_count": 205,
     "metadata": {},
     "output_type": "execute_result"
    }
   ],
   "source": [
    "opts_sites, mobjVal = mclp(points, 3, 0.0027)\n",
    "opts_sites"
   ]
  },
  {
   "cell_type": "markdown",
   "metadata": {},
   "source": [
    "cf. 수정 후 \n",
    "([[127.0947429 ,  37.53650197],\n",
    "       [127.083613  ,  37.538013  ],\n",
    "       [127.0906565 ,  37.54063897]])"
   ]
  },
  {
   "cell_type": "code",
   "execution_count": 206,
   "metadata": {},
   "outputs": [],
   "source": [
    "def mclp2(버스_points, 지하철_points, 주차장_points, 주택_points, points, K, radius):\n",
    "    \"\"\"\n",
    "    Solve maximum covering location problem\n",
    "    Input:\n",
    "        points: 버스정류장, 지하철역 위치 좌표 등 (기타 인근에 있으면 좋은 시설 좌표)\n",
    "        K: 배치할 노인놀이터의 수\n",
    "        radius: 반경 (노인들이 이동하기 적합한 거리)\n",
    "        M: generate_candidate_sites 함수에서 생성할 random 좌표 수 (임의의 노인놀이터 수)\n",
    "        the ConvexHull wrapped by the polygon\n",
    "    Return:\n",
    "        opt_sites: locations K optimal sites, Numpy array in shape of [K,2]\n",
    "        f: the optimal value of the objective function\n",
    "    \"\"\"\n",
    "    print('  Number of points %g' % points.shape[0])\n",
    "    print('  K %g' % K)\n",
    "    print('  Radius %g' % radius)\n",
    "\n",
    "    start = time.time()\n",
    "    sites = np.array([list(i) for i in zip(입지후보지['x좌표'], 입지후보지['y좌표'])])\n",
    "    J = sites.shape[0]                                         # 후보지 수\n",
    "    \n",
    "    # 수요지점 수\n",
    "    A = 버스_points.shape[0]\n",
    "    B = 지하철_points.shape[0]\n",
    "    C = 주차장_points.shape[0]\n",
    "    D = 주택_points.shape[0]\n",
    "    \n",
    "    # 후보지와 수요지점 간 거리 계산\n",
    "    D1 = distance_matrix(버스_points, sites)\n",
    "    D2 = distance_matrix(지하철_points, sites)\n",
    "    D3 = distance_matrix(주차장_points, sites)\n",
    "    D4 = distance_matrix(주택_points, sites)\n",
    "    \n",
    "    for i in [D1, D2, D3, D4]:\n",
    "        mask1 = i<=radius\n",
    "        i[mask1]=1                                                 # 반경 내 속하면 1, 아니면 0\n",
    "        i[~mask1]=0\n",
    "\n",
    "    m = Model()\n",
    "    x1, x2, x3, x4 = {}, {}, {}, {}\n",
    "    y = {}\n",
    "    \n",
    "    # 수요지점 변수 추가\n",
    "    for i in range(A):                                       \n",
    "        x1[i] = m.addVar(vtype=GRB.BINARY, name=\"x1%d\" % i)\n",
    "    for i in range(B):                                       \n",
    "        x2[i] = m.addVar(vtype=GRB.BINARY, name=\"x2%d\" % i)\n",
    "    for i in range(C):                                       \n",
    "        x3[i] = m.addVar(vtype=GRB.BINARY, name=\"x3%d\" % i)\n",
    "    for i in range(D):                                       \n",
    "        x4[i] = m.addVar(vtype=GRB.BINARY, name=\"x4%d\" % i)\n",
    "    \n",
    "    for j in range(J):\n",
    "        y[j] = m.addVar(vtype=GRB.BINARY, name=\"y%d\" % j)     # 후보지 변수 추가\n",
    "\n",
    "    m.update()\n",
    "    m.addConstr(quicksum(y[j] for j in range(J)) == K)        # 후보지 제약 조건 (3개)\n",
    "\n",
    "    # 수요지점 제약 조건\n",
    "    for i in range(A): \n",
    "        m.addConstr(quicksum(y[j] for j in np.where(D1[i]==1)[0]) >= x1[i])\n",
    "    for i in range(B): \n",
    "        m.addConstr(quicksum(y[j] for j in np.where(D2[i]==1)[0]) >= x2[i])\n",
    "    for i in range(C): \n",
    "        m.addConstr(quicksum(y[j] for j in np.where(D3[i]==1)[0]) >= x3[i])\n",
    "    for i in range(D): \n",
    "        m.addConstr(quicksum(y[j] for j in np.where(D4[i]==1)[0]) >= x4[i])\n",
    "\n",
    "    # 목적함수 수정\n",
    "#     m.setObjective(quicksum(1*x1[a] + 1*x2[b] + 1*x3[c] + 1*x4[d] \\\n",
    "#                             for a,b,c,d in zip_longest(range(A),range(B),range(C),range(D), fillvalue=0)),\\\n",
    "#                    GRB.MAXIMIZE)   # 제약조건 포함, 모든 수요지점 더하기\n",
    "\n",
    "    res=[]\n",
    "    for a,b,c,d in zip_longest(range(A),range(B),range(C),range(D), fillvalue=0):\n",
    "        w1=1; w2=1; w3=1; w4=1\n",
    "        if a==b==c==d==0:\n",
    "            w1=1;w2=1;w3=1;w4=1\n",
    "        else:\n",
    "            if b==0:\n",
    "                w2=0\n",
    "            if c==0:\n",
    "                w3=0\n",
    "            if d==0:\n",
    "                w4=0\n",
    "        res.append(w1*x1[a] + w2*x2[b] + w3*x3[c] + w4*x4[d])\n",
    "\n",
    "    m.setObjective(quicksum(i for i in res),GRB.MAXIMIZE)\n",
    "    m.setParam('OutputFlag', 0)\n",
    "    m.optimize()\n",
    "    end = time.time()\n",
    "    print('----- Output -----')\n",
    "    print('  Running time : %s seconds' % float(end-start))\n",
    "    print('  Optimal coverage points: %g' % m.objVal)\n",
    "    \n",
    "    #print(quicksum(i for i in res))\n",
    "    #print(res)\n",
    "    #print(len(res))\n",
    "    \n",
    "    solution = []\n",
    "    if m.status == GRB.Status.OPTIMAL:\n",
    "        for v in m.getVars():\n",
    "            # print v.varName,v.x\n",
    "            if v.x==1 and v.varName[0]==\"y\":\n",
    "                solution.append(int(v.varName[1:]))\n",
    "    opt_sites = sites[solution]\n",
    "    return opt_sites, m.objVal"
   ]
  },
  {
   "cell_type": "code",
   "execution_count": 219,
   "metadata": {},
   "outputs": [
    {
     "name": "stdout",
     "output_type": "stream",
     "text": [
      "  Number of points 129\n",
      "  K 3\n",
      "  Radius 0.0027\n",
      "----- Output -----\n",
      "  Running time : 0.017947912216186523 seconds\n",
      "  Optimal coverage points: 21\n"
     ]
    },
    {
     "data": {
      "text/plain": [
       "array([[127.0947429 ,  37.53650197],\n",
       "       [127.083613  ,  37.538013  ],\n",
       "       [127.0906565 ,  37.54063897]])"
      ]
     },
     "execution_count": 219,
     "metadata": {},
     "output_type": "execute_result"
    }
   ],
   "source": [
    "opts_sites, mobjVal = mclp2(버스_points, 지하철_points, 주차장_points, 주택_points, points, 3, 0.0027)\n",
    "opts_sites"
   ]
  },
  {
   "cell_type": "code",
   "execution_count": 220,
   "metadata": {},
   "outputs": [],
   "source": [
    "# haversine -> meter 단위로 수정\n",
    "def mclp3(버스_points, 지하철_points, 주차장_points, 주택_points, points, K, radius):\n",
    "    \n",
    "    \"\"\"\n",
    "    Solve maximum covering location problem\n",
    "    Input:\n",
    "        points: 버스정류장, 지하철역 위치 좌표 등 (기타 인근에 있으면 좋은 시설 좌표)\n",
    "        K: 배치할 노인놀이터의 수\n",
    "        radius: 반경 (노인들이 이동하기 적합한 거리)\n",
    "        M: generate_candidate_sites 함수에서 생성할 random 좌표 수 (임의의 노인놀이터 수)\n",
    "        the ConvexHull wrapped by the polygon\n",
    "    Return:\n",
    "        opt_sites: locations K optimal sites, Numpy array in shape of [K,2]\n",
    "        f: the optimal value of the objective function\n",
    "    \"\"\"\n",
    "    \n",
    "    print('  Number of points %g' % points.shape[0])\n",
    "    print('  K %g' % K)\n",
    "    print('  Radius %g' % radius)\n",
    "\n",
    "    start = time.time()\n",
    "    sites = np.array([list(i) for i in zip(입지후보지['x좌표'], 입지후보지['y좌표'])])\n",
    "    J = sites.shape[0]                                         # 후보지 수\n",
    "    \n",
    "    # 수요지점 수\n",
    "    A = 버스_points.shape[0]\n",
    "    B = 지하철_points.shape[0]\n",
    "    C = 주차장_points.shape[0]\n",
    "    D = 주택_points.shape[0]\n",
    "    \n",
    "    # 후보지와 수요지점 간 거리 계산\n",
    "    D1 = []\n",
    "    for i in 버스_points:\n",
    "        site = []\n",
    "        for j in sites:\n",
    "            site.append(haversine(i, j)*1000)\n",
    "        D1.append(site)\n",
    "    D1 = np.array(D1)\n",
    "    \n",
    "    D2 = []\n",
    "    for i in 지하철_points:\n",
    "        site = []\n",
    "        for j in sites:\n",
    "            site.append(haversine(i, j)*1000)\n",
    "        D2.append(site)\n",
    "    D2 = np.array(D2)    \n",
    "    \n",
    "    D3 = []\n",
    "    for i in 주차장_points:\n",
    "        site = []\n",
    "        for j in sites:\n",
    "            site.append(haversine(i, j)*1000)\n",
    "        D3.append(site)\n",
    "    D3 = np.array(D3)\n",
    "    \n",
    "    D4 = []\n",
    "    for i in 주택_points:\n",
    "        site = []\n",
    "        for j in sites:\n",
    "            site.append(haversine(i, j)*1000)\n",
    "        D4.append(site)\n",
    "    D4 = np.array(D4)\n",
    "    \n",
    "    for i in [D1, D2, D3, D4]:\n",
    "        mask1 = i<=radius\n",
    "        i[mask1]=1                                                 # 반경 내 속하면 1, 아니면 0\n",
    "        i[~mask1]=0\n",
    "\n",
    "    m = Model()\n",
    "    x1, x2, x3, x4 = {}, {}, {}, {}\n",
    "    y = {}\n",
    "    \n",
    "    # 수요지점 변수 추가\n",
    "    for i in range(A):                                       \n",
    "        x1[i] = m.addVar(vtype=GRB.BINARY, name=\"x1%d\" % i)\n",
    "    for i in range(B):                                       \n",
    "        x2[i] = m.addVar(vtype=GRB.BINARY, name=\"x2%d\" % i)\n",
    "    for i in range(C):                                       \n",
    "        x3[i] = m.addVar(vtype=GRB.BINARY, name=\"x3%d\" % i)\n",
    "    for i in range(D):                                       \n",
    "        x4[i] = m.addVar(vtype=GRB.BINARY, name=\"x4%d\" % i)\n",
    "    \n",
    "    for j in range(J):\n",
    "        y[j] = m.addVar(vtype=GRB.BINARY, name=\"y%d\" % j)     # 후보지 변수 추가\n",
    "\n",
    "    m.update()\n",
    "    m.addConstr(quicksum(y[j] for j in range(J)) == K)        # 후보지 제약 조건\n",
    "\n",
    "    # 수요지점 제약 조건\n",
    "    for i in range(A): \n",
    "        m.addConstr(quicksum(y[j] for j in np.where(D1[i]==1)[0]) >= x1[i])\n",
    "    for i in range(B): \n",
    "        m.addConstr(quicksum(y[j] for j in np.where(D2[i]==1)[0]) >= x2[i])\n",
    "    for i in range(C): \n",
    "        m.addConstr(quicksum(y[j] for j in np.where(D3[i]==1)[0]) >= x3[i])\n",
    "    for i in range(D): \n",
    "        m.addConstr(quicksum(y[j] for j in np.where(D4[i]==1)[0]) >= x4[i])\n",
    "    \n",
    "    # 목적함수 수정\n",
    "    res=[]\n",
    "    for a,b,c,d in zip_longest(range(A),range(B),range(C),range(D), fillvalue=0):\n",
    "        #w1=1;w2=1;w3=1;w4=1\n",
    "        w1=0.2; w2=1; w3=0.8; w4=1\n",
    "        if a==b==c==d==0:\n",
    "            #w1=1;w2=1;w3=1;w4=1\n",
    "            w1=0.2; w2=1; w3=0.8; w4=1\n",
    "        else:\n",
    "            if b==0:\n",
    "                w2=0\n",
    "            if c==0:\n",
    "                w3=0\n",
    "            if d==0:\n",
    "                w4=0\n",
    "        res.append(w1*x1[a] + w2*x2[b] + w3*x3[c] + w4*x4[d])\n",
    "\n",
    "    m.setObjective(quicksum(i for i in res),GRB.MAXIMIZE)\n",
    "    \n",
    "    m.setParam('OutputFlag', 0)\n",
    "    m.optimize()\n",
    "    end = time.time()\n",
    "    print('----- Output -----')\n",
    "    print('  Running time : %s seconds' % float(end-start))\n",
    "    print('  Optimal coverage points: %g' % m.objVal)\n",
    "    \n",
    "    solution = []\n",
    "    if m.status == GRB.Status.OPTIMAL:\n",
    "        for v in m.getVars():\n",
    "            # print v.varName,v.x\n",
    "            if v.x==1 and v.varName[0]==\"y\":\n",
    "                solution.append(int(v.varName[1:]))\n",
    "    opt_sites = sites[solution]\n",
    "    return opt_sites,m.objVal"
   ]
  },
  {
   "cell_type": "code",
   "execution_count": 221,
   "metadata": {},
   "outputs": [
    {
     "name": "stdout",
     "output_type": "stream",
     "text": [
      "  Number of points 129\n",
      "  K 3\n",
      "  Radius 300\n",
      "----- Output -----\n",
      "  Running time : 0.028923511505126953 seconds\n",
      "  Optimal coverage points: 12\n"
     ]
    },
    {
     "data": {
      "text/plain": [
       "array([[127.083613  ,  37.538013  ],\n",
       "       [127.0901399 ,  37.536273  ],\n",
       "       [127.0947429 ,  37.53650197]])"
      ]
     },
     "execution_count": 221,
     "metadata": {},
     "output_type": "execute_result"
    }
   ],
   "source": [
    "opts_sites, mobjVal = mclp3(버스_points, 지하철_points, 주차장_points, 주택_points, points, 3, 300)\n",
    "opts_sites"
   ]
  },
  {
   "cell_type": "code",
   "execution_count": 19,
   "metadata": {},
   "outputs": [],
   "source": [
    "def plot_input(points):\n",
    "    '''\n",
    "    Plot the result\n",
    "    Input:\n",
    "        points: input points, Numpy array in shape of [N,2]\n",
    "        opt_sites: locations K optimal sites, Numpy array in shape of [K,2]\n",
    "        radius: the radius of circle\n",
    "    '''\n",
    "    from matplotlib import pyplot as plt\n",
    "    fig = plt.figure(figsize=(8,8))\n",
    "    plt.scatter(points[:,0],points[:,1],c='C0')\n",
    "    ax = plt.gca()\n",
    "    ax.axis('equal')\n",
    "    ax.tick_params(axis='both',left=False, top=False, right=False,\n",
    "                       bottom=False, labelleft=False, labeltop=False,\n",
    "                       labelright=False, labelbottom=False)"
   ]
  },
  {
   "cell_type": "code",
   "execution_count": 20,
   "metadata": {},
   "outputs": [],
   "source": [
    "def plot_result(points,opt_sites,radius):\n",
    "    '''\n",
    "    Plot the result\n",
    "    Input:\n",
    "        points: input points, Numpy array in shape of [N,2]\n",
    "        opt_sites: locations K optimal sites, Numpy array in shape of [K,2]\n",
    "        radius: the radius of circle\n",
    "    '''\n",
    "    from matplotlib import pyplot as plt\n",
    "    fig = plt.figure(figsize=(8,8))\n",
    "    plt.scatter(points[:,0],points[:,1],c='C0')\n",
    "    ax = plt.gca()\n",
    "    plt.scatter(opt_sites[:,0],opt_sites[:,1],c='C1',marker='+')\n",
    "    for site in opt_sites:\n",
    "        circle = plt.Circle(site, radius, color='C1',fill=False,lw=2)\n",
    "        ax.add_artist(circle)\n",
    "    ax.axis('equal')\n",
    "    ax.tick_params(axis='both',left=False, top=False, right=False,\n",
    "                       bottom=False, labelleft=False, labeltop=False,\n",
    "                       labelright=False, labelbottom=False)"
   ]
  },
  {
   "cell_type": "code",
   "execution_count": 23,
   "metadata": {
    "scrolled": false
   },
   "outputs": [
    {
     "data": {
      "image/png": "[encoded data removed]",
      "text/plain": [
       "<Figure size 576x576 with 1 Axes>"
      ]
     },
     "metadata": {},
     "output_type": "display_data"
    }
   ],
   "source": [
    "plot_result(points, opts_sites, 0.0027)"
   ]
  }
 ],
 "metadata": {
  "kernelspec": {
   "display_name": "Python 3",
   "language": "python",
   "name": "python3"
  },
  "language_info": {
   "codemirror_mode": {
    "name": "ipython",
    "version": 3
   },
   "file_extension": ".py",
   "mimetype": "text/x-python",
   "name": "python",
   "nbconvert_exporter": "python",
   "pygments_lexer": "ipython3",
   "version": "3.7.3"
  }
 },
 "nbformat": 4,
 "nbformat_minor": 5
}
