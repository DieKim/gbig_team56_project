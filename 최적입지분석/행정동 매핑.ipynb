{
 "cells": [
  {
   "cell_type": "markdown",
   "metadata": {
    "toc": true
   },
   "source": [
    "<h1>Table of Contents<span class=\"tocSkip\"></span></h1>\n",
    "<div class=\"toc\"><ul class=\"toc-item\"><li><span><a href=\"#1.-행정동-/-법정동-가져올-좌표-리스트-생성\" data-toc-modified-id=\"1.-행정동-/-법정동-가져올-좌표-리스트-생성-1\">1. 행정동 / 법정동 가져올 좌표 리스트 생성</a></span></li><li><span><a href=\"#2.-카카오-API-활용---행정동-/-법정동-검색\" data-toc-modified-id=\"2.-카카오-API-활용---행정동-/-법정동-검색-2\">2. 카카오 API 활용 - 행정동 / 법정동 검색</a></span></li></ul></div>"
   ]
  },
  {
   "cell_type": "code",
   "execution_count": null,
   "metadata": {},
   "outputs": [],
   "source": [
    "import requests\n",
    "from urllib.parse import urlparse\n",
    "import numpy as np\n",
    "import pandas as pd\n",
    "import geopandas\n",
    "import re\n",
    "\n",
    "import warnings\n",
    "warnings.filterwarnings(action='ignore')"
   ]
  },
  {
   "cell_type": "code",
   "execution_count": null,
   "metadata": {},
   "outputs": [],
   "source": [
    "지하철 = pd.read_csv('입지선정후보군_좌표추가.csv', encoding='cp949')\n",
    "print(지하철.shape)\n",
    "지하철.head()"
   ]
  },
  {
   "cell_type": "markdown",
   "metadata": {},
   "source": [
    "## 1. 행정동 / 법정동 가져올 좌표 리스트 생성"
   ]
  },
  {
   "cell_type": "code",
   "execution_count": 8,
   "metadata": {},
   "outputs": [
    {
     "data": {
      "text/plain": [
       "array([[126.97277266,  37.55547526],\n",
       "       [127.05286142,  37.48227641],\n",
       "       [126.94470755,  37.51388591],\n",
       "       ...,\n",
       "       [127.07652825,  37.58842234],\n",
       "       [127.08499787,  37.58768876],\n",
       "       [127.09420247,  37.58783786]])"
      ]
     },
     "execution_count": 8,
     "metadata": {},
     "output_type": "execute_result"
    }
   ],
   "source": [
    "XY = np.array([list(i) for i in zip(버스['X좌표'], 버스['Y좌표'])])\n",
    "XY"
   ]
  },
  {
   "cell_type": "markdown",
   "metadata": {},
   "source": [
    "## 2. 카카오 API 활용 - 행정동 / 법정동 검색"
   ]
  },
  {
   "cell_type": "code",
   "execution_count": 17,
   "metadata": {},
   "outputs": [],
   "source": [
    "# 행정동 / 법정동 검색 함수 정의\n",
    "def region_name(xy_list):\n",
    "    url = f\"https://dapi.kakao.com/v2/local/geo/coord2regioncode.json?x={xy_list[0]}&y={xy_list[1]}\"\n",
    "    result = requests.get(urlparse(url).geturl(),\n",
    "                          headers={\"Authorization\":\"KakaoAK 9366298e2a42e074b458eb183e2a78ef\"})\n",
    "    json_obj = result.json()\n",
    "    global val   # 전역 변수를 지역 범위에서 사용하고 싶을 경우\n",
    "    for document in json_obj['documents']:\n",
    "        # 값이 NoneType 일 경우의 오류 방지\n",
    "        try:\n",
    "            val = [document['region_type'], document['region_3depth_name'], document['x'], document['y']]\n",
    "        except:\n",
    "            val = [0,0,0,0]\n",
    "    return val"
   ]
  },
  {
   "cell_type": "code",
   "execution_count": 19,
   "metadata": {},
   "outputs": [
    {
     "data": {
      "text/plain": [
       "['H', '회현동', 126.97935667015034, 37.55729358571407]"
      ]
     },
     "execution_count": 19,
     "metadata": {},
     "output_type": "execute_result"
    }
   ],
   "source": [
    "region_name([126.972773, 37.555475])"
   ]
  },
  {
   "cell_type": "code",
   "execution_count": null,
   "metadata": {},
   "outputs": [],
   "source": [
    "# 행정동 / 법정동 검색 함수 반복 적용\n",
    "list1 = []\n",
    "for i in XY:\n",
    "    list1.append(region_name(i))"
   ]
  },
  {
   "cell_type": "code",
   "execution_count": null,
   "metadata": {},
   "outputs": [],
   "source": [
    "버스2 = pd.DataFrame(list1, columns=['H/B', '행정동', '행정동_경도', '행정동_위도'])\n",
    "버스2.head()"
   ]
  },
  {
   "cell_type": "code",
   "execution_count": null,
   "metadata": {
    "scrolled": true
   },
   "outputs": [],
   "source": [
    "버스3 = pd.concat([버스, 버스2], axis=1)\n",
    "print(버스3.shape)\n",
    "버스3.head()"
   ]
  },
  {
   "cell_type": "code",
   "execution_count": null,
   "metadata": {},
   "outputs": [],
   "source": []
  }
 ],
 "metadata": {
  "kernelspec": {
   "display_name": "Python 3",
   "language": "python",
   "name": "python3"
  },
  "language_info": {
   "codemirror_mode": {
    "name": "ipython",
    "version": 3
   },
   "file_extension": ".py",
   "mimetype": "text/x-python",
   "name": "python",
   "nbconvert_exporter": "python",
   "pygments_lexer": "ipython3",
   "version": "3.7.3"
  },
  "toc": {
   "base_numbering": 1,
   "nav_menu": {},
   "number_sections": false,
   "sideBar": false,
   "skip_h1_title": false,
   "title_cell": "Table of Contents",
   "title_sidebar": "Contents",
   "toc_cell": true,
   "toc_position": {},
   "toc_section_display": true,
   "toc_window_display": false
  }
 },
 "nbformat": 4,
 "nbformat_minor": 4
}
