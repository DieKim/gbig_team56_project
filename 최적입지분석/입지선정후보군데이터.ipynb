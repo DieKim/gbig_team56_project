{
 "cells": [
  {
   "cell_type": "markdown",
   "metadata": {},
   "source": [
    "# 0. 입지선정후보군데이터 만들기\n",
    "* 공공체육시설 데이터 + 공원 데이터\n",
    "* 행정동 / 분류 / 시설명 / x좌표(127.xx) / y좌표(37.xx)"
   ]
  },
  {
   "cell_type": "markdown",
   "metadata": {},
   "source": [
    "# 1. 공공체육시설데이터에서 행정동 뽑기"
   ]
  },
  {
   "cell_type": "code",
   "execution_count": 100,
   "metadata": {},
   "outputs": [],
   "source": [
    "import pandas as pd\n",
    "df1 = pd.read_csv('공공체육시설데이터.csv', encoding='cp949')"
   ]
  },
  {
   "cell_type": "markdown",
   "metadata": {},
   "source": [
    "### 칼럼 정리"
   ]
  },
  {
   "cell_type": "code",
   "execution_count": 101,
   "metadata": {},
   "outputs": [
    {
     "data": {
      "text/plain": [
       "Index(['Unnamed: 0', 'Unnamed: 0.1', 'FACI_NM', 'FACI_GB_CD', 'FACI_GB_NM',\n",
       "       'FCOB_CD', 'FCOB_NM', 'FTYPE_CD', 'FTYPE_NM', 'FACI_STAT',\n",
       "       'FACI_ROAD_POST', 'FACI_ROAD_ADDR1', 'FACI_ROAD_ADDR2', 'FACI_POST',\n",
       "       'FACI_ADDR1', 'FACI_ADDR2', 'FACI_POINT_X', 'FACI_POINT_Y', '서울유무'],\n",
       "      dtype='object')"
      ]
     },
     "execution_count": 101,
     "metadata": {},
     "output_type": "execute_result"
    }
   ],
   "source": [
    "df1.columns"
   ]
  },
  {
   "cell_type": "code",
   "execution_count": 102,
   "metadata": {},
   "outputs": [
    {
     "data": {
      "text/html": [
       "<div>\n",
       "<style scoped>\n",
       "    .dataframe tbody tr th:only-of-type {\n",
       "        vertical-align: middle;\n",
       "    }\n",
       "\n",
       "    .dataframe tbody tr th {\n",
       "        vertical-align: top;\n",
       "    }\n",
       "\n",
       "    .dataframe thead th {\n",
       "        text-align: right;\n",
       "    }\n",
       "</style>\n",
       "<table border=\"1\" class=\"dataframe\">\n",
       "  <thead>\n",
       "    <tr style=\"text-align: right;\">\n",
       "      <th></th>\n",
       "      <th>행정동</th>\n",
       "      <th>분류</th>\n",
       "      <th>시설명</th>\n",
       "      <th>x좌표</th>\n",
       "      <th>y좌표</th>\n",
       "    </tr>\n",
       "  </thead>\n",
       "  <tbody>\n",
       "    <tr>\n",
       "      <th>0</th>\n",
       "      <td>서울특별시 성북구 석관동</td>\n",
       "      <td>간이운동장</td>\n",
       "      <td>돌   뫼</td>\n",
       "      <td>127.052763</td>\n",
       "      <td>37.605125</td>\n",
       "    </tr>\n",
       "    <tr>\n",
       "      <th>1</th>\n",
       "      <td>서울특별시 성북구 장위1동</td>\n",
       "      <td>간이운동장</td>\n",
       "      <td>동   방</td>\n",
       "      <td>127.043551</td>\n",
       "      <td>37.616625</td>\n",
       "    </tr>\n",
       "    <tr>\n",
       "      <th>2</th>\n",
       "      <td>서울특별시 성북구 월곡1동</td>\n",
       "      <td>간이운동장</td>\n",
       "      <td>동   산</td>\n",
       "      <td>127.032290</td>\n",
       "      <td>37.605577</td>\n",
       "    </tr>\n",
       "    <tr>\n",
       "      <th>3</th>\n",
       "      <td>서울특별시 성북구 월곡1동</td>\n",
       "      <td>간이운동장</td>\n",
       "      <td>밤   골</td>\n",
       "      <td>127.039928</td>\n",
       "      <td>37.607571</td>\n",
       "    </tr>\n",
       "    <tr>\n",
       "      <th>4</th>\n",
       "      <td>서울특별시 성북구 삼선동</td>\n",
       "      <td>간이운동장</td>\n",
       "      <td>삼   선</td>\n",
       "      <td>127.008989</td>\n",
       "      <td>37.582602</td>\n",
       "    </tr>\n",
       "  </tbody>\n",
       "</table>\n",
       "</div>"
      ],
      "text/plain": [
       "              행정동     분류    시설명         x좌표        y좌표\n",
       "0   서울특별시 성북구 석관동  간이운동장  돌   뫼  127.052763  37.605125\n",
       "1  서울특별시 성북구 장위1동  간이운동장  동   방  127.043551  37.616625\n",
       "2  서울특별시 성북구 월곡1동  간이운동장  동   산  127.032290  37.605577\n",
       "3  서울특별시 성북구 월곡1동  간이운동장  밤   골  127.039928  37.607571\n",
       "4   서울특별시 성북구 삼선동  간이운동장  삼   선  127.008989  37.582602"
      ]
     },
     "execution_count": 102,
     "metadata": {},
     "output_type": "execute_result"
    }
   ],
   "source": [
    "df1 = df1[['FACI_ADDR1', 'FCOB_NM', 'FACI_NM', 'FACI_POINT_X', 'FACI_POINT_Y']]\n",
    "df1 = df1.rename(columns={'FACI_ADDR1': '행정동', \n",
    "                         'FCOB_NM': '분류',\n",
    "                         'FACI_NM': '시설명',\n",
    "                         'FACI_POINT_X': 'x좌표', \n",
    "                         'FACI_POINT_Y': 'y좌표'})\n",
    "df1.head()"
   ]
  },
  {
   "cell_type": "markdown",
   "metadata": {},
   "source": [
    "### 행정동 추출"
   ]
  },
  {
   "cell_type": "code",
   "execution_count": 103,
   "metadata": {},
   "outputs": [],
   "source": [
    "def hangjungdong(x):\n",
    "    return x.split()[2]"
   ]
  },
  {
   "cell_type": "code",
   "execution_count": 104,
   "metadata": {},
   "outputs": [],
   "source": [
    "df1['행정동'] = df1['행정동'].apply(hangjungdong)"
   ]
  },
  {
   "cell_type": "markdown",
   "metadata": {},
   "source": [
    "### 결측치 제거"
   ]
  },
  {
   "cell_type": "code",
   "execution_count": 105,
   "metadata": {},
   "outputs": [],
   "source": [
    "df1 = df1.dropna(how='any').reset_index(drop=True)"
   ]
  },
  {
   "cell_type": "markdown",
   "metadata": {},
   "source": [
    "# 2. 공원데이터에서 행정동 뽑기"
   ]
  },
  {
   "cell_type": "code",
   "execution_count": 106,
   "metadata": {},
   "outputs": [],
   "source": [
    "import pandas as pd\n",
    "df2 = pd.read_csv('공원데이터.csv', encoding='cp949')"
   ]
  },
  {
   "cell_type": "markdown",
   "metadata": {},
   "source": [
    "### 서울만 가져오기"
   ]
  },
  {
   "cell_type": "code",
   "execution_count": 107,
   "metadata": {},
   "outputs": [],
   "source": [
    "df2 = df2[df2['서울유무'] == '서울']"
   ]
  },
  {
   "cell_type": "markdown",
   "metadata": {},
   "source": [
    "### 칼럼 추출"
   ]
  },
  {
   "cell_type": "code",
   "execution_count": 108,
   "metadata": {},
   "outputs": [
    {
     "data": {
      "text/plain": [
       "Index(['관리번호', '공원명', '공원구분', '소재지도로명주소', '소재지지번주소', '위도', '경도', '공원면적',\n",
       "       '공원보유시설(운동시설)', '공원보유시설(유희시설)', '공원보유시설(편익시설)', '공원보유시설(교양시설)',\n",
       "       '공원보유시설(기타시설)', '지정고시일', '관리기관명', '전화번호', '데이터기준일자', '제공기관코드', '제공기관명',\n",
       "       '서울유무', '행정동'],\n",
       "      dtype='object')"
      ]
     },
     "execution_count": 108,
     "metadata": {},
     "output_type": "execute_result"
    }
   ],
   "source": [
    "df2.columns"
   ]
  },
  {
   "cell_type": "code",
   "execution_count": 109,
   "metadata": {},
   "outputs": [
    {
     "data": {
      "text/html": [
       "<div>\n",
       "<style scoped>\n",
       "    .dataframe tbody tr th:only-of-type {\n",
       "        vertical-align: middle;\n",
       "    }\n",
       "\n",
       "    .dataframe tbody tr th {\n",
       "        vertical-align: top;\n",
       "    }\n",
       "\n",
       "    .dataframe thead th {\n",
       "        text-align: right;\n",
       "    }\n",
       "</style>\n",
       "<table border=\"1\" class=\"dataframe\">\n",
       "  <thead>\n",
       "    <tr style=\"text-align: right;\">\n",
       "      <th></th>\n",
       "      <th>행정동</th>\n",
       "      <th>분류</th>\n",
       "      <th>시설명</th>\n",
       "      <th>x좌표</th>\n",
       "      <th>y좌표</th>\n",
       "    </tr>\n",
       "  </thead>\n",
       "  <tbody>\n",
       "    <tr>\n",
       "      <th>170</th>\n",
       "      <td>서울특별시 강남구 논현동 263-23</td>\n",
       "      <td>어린이공원</td>\n",
       "      <td>학동공원</td>\n",
       "      <td>127.038764</td>\n",
       "      <td>37.511646</td>\n",
       "    </tr>\n",
       "    <tr>\n",
       "      <th>171</th>\n",
       "      <td>서울특별시 강남구 신사동 558</td>\n",
       "      <td>어린이공원</td>\n",
       "      <td>신사은행나무공원</td>\n",
       "      <td>127.021627</td>\n",
       "      <td>37.521114</td>\n",
       "    </tr>\n",
       "    <tr>\n",
       "      <th>172</th>\n",
       "      <td>서울특별시 강남구 신사동 567-37</td>\n",
       "      <td>어린이공원</td>\n",
       "      <td>신사목련공원</td>\n",
       "      <td>127.017064</td>\n",
       "      <td>37.522898</td>\n",
       "    </tr>\n",
       "    <tr>\n",
       "      <th>173</th>\n",
       "      <td>서울특별시 강남구 신사동 625-5</td>\n",
       "      <td>어린이공원</td>\n",
       "      <td>신사무궁화공원</td>\n",
       "      <td>NaN</td>\n",
       "      <td>37.524131</td>\n",
       "    </tr>\n",
       "    <tr>\n",
       "      <th>174</th>\n",
       "      <td>서울특별시 강남구 신사동 597</td>\n",
       "      <td>어린이공원</td>\n",
       "      <td>신사까치공원</td>\n",
       "      <td>127.020466</td>\n",
       "      <td>NaN</td>\n",
       "    </tr>\n",
       "  </tbody>\n",
       "</table>\n",
       "</div>"
      ],
      "text/plain": [
       "                      행정동     분류       시설명         x좌표        y좌표\n",
       "170  서울특별시 강남구 논현동 263-23  어린이공원      학동공원  127.038764  37.511646\n",
       "171     서울특별시 강남구 신사동 558  어린이공원  신사은행나무공원  127.021627  37.521114\n",
       "172  서울특별시 강남구 신사동 567-37  어린이공원    신사목련공원  127.017064  37.522898\n",
       "173   서울특별시 강남구 신사동 625-5  어린이공원   신사무궁화공원         NaN  37.524131\n",
       "174     서울특별시 강남구 신사동 597  어린이공원    신사까치공원  127.020466        NaN"
      ]
     },
     "execution_count": 109,
     "metadata": {},
     "output_type": "execute_result"
    }
   ],
   "source": [
    "df2 = df2[['소재지지번주소', '공원구분', '공원명', '경도', '위도']]\n",
    "df2 = df2.rename(columns={'소재지지번주소': '행정동',\n",
    "                         '공원구분': '분류',\n",
    "                         '공원명': '시설명',\n",
    "                         '경도': 'x좌표',\n",
    "                         '위도': 'y좌표'})\n",
    "df2.head()"
   ]
  },
  {
   "cell_type": "markdown",
   "metadata": {},
   "source": [
    "### 행정동 추출"
   ]
  },
  {
   "cell_type": "code",
   "execution_count": 110,
   "metadata": {},
   "outputs": [],
   "source": [
    "df2['행정동'] = df2['행정동'].apply(hangjungdong)"
   ]
  },
  {
   "cell_type": "markdown",
   "metadata": {},
   "source": [
    "### 결측치 제거"
   ]
  },
  {
   "cell_type": "code",
   "execution_count": 111,
   "metadata": {},
   "outputs": [
    {
     "data": {
      "text/plain": [
       "행정동     0\n",
       "분류      0\n",
       "시설명     0\n",
       "x좌표    73\n",
       "y좌표    70\n",
       "dtype: int64"
      ]
     },
     "execution_count": 111,
     "metadata": {},
     "output_type": "execute_result"
    }
   ],
   "source": [
    "df2.isnull().sum()"
   ]
  },
  {
   "cell_type": "code",
   "execution_count": 112,
   "metadata": {},
   "outputs": [],
   "source": [
    "df2 = df2.dropna(how='any').reset_index(drop=True)"
   ]
  },
  {
   "cell_type": "code",
   "execution_count": 113,
   "metadata": {},
   "outputs": [
    {
     "name": "stdout",
     "output_type": "stream",
     "text": [
      "<class 'pandas.core.frame.DataFrame'>\n",
      "RangeIndex: 1752 entries, 0 to 1751\n",
      "Data columns (total 5 columns):\n",
      "행정동    1752 non-null object\n",
      "분류     1752 non-null object\n",
      "시설명    1752 non-null object\n",
      "x좌표    1752 non-null float64\n",
      "y좌표    1752 non-null float64\n",
      "dtypes: float64(2), object(3)\n",
      "memory usage: 68.5+ KB\n"
     ]
    }
   ],
   "source": [
    "df2.info()"
   ]
  },
  {
   "cell_type": "markdown",
   "metadata": {},
   "source": [
    "# 3. 행정동 전처리"
   ]
  },
  {
   "cell_type": "code",
   "execution_count": 114,
   "metadata": {},
   "outputs": [],
   "source": [
    "df = pd.concat([df1, df2], axis=0)\n",
    "#df.to_csv('입지선정후보군데이터.csv', encoding='cp949')"
   ]
  },
  {
   "cell_type": "markdown",
   "metadata": {},
   "source": [
    "### '동'을 가진 행만 추출"
   ]
  },
  {
   "cell_type": "code",
   "execution_count": 98,
   "metadata": {},
   "outputs": [],
   "source": [
    "df = df[df['행정동'].str.contains('동')]"
   ]
  },
  {
   "cell_type": "markdown",
   "metadata": {},
   "source": [
    "### 숫자 있으면 숫자 제거"
   ]
  },
  {
   "cell_type": "code",
   "execution_count": 99,
   "metadata": {},
   "outputs": [],
   "source": [
    "import re\n",
    "def removenumber(x):\n",
    "    p = re.compile(\"[^0-9]\")\n",
    "    res = \"\".join(p.findall(x))\n",
    "    return res"
   ]
  },
  {
   "cell_type": "code",
   "execution_count": 74,
   "metadata": {},
   "outputs": [],
   "source": [
    "df['행정동'] = df['행정동'].apply(removenumber)"
   ]
  },
  {
   "cell_type": "markdown",
   "metadata": {},
   "source": [
    "### '가'로 끝나는거 처리"
   ]
  },
  {
   "cell_type": "code",
   "execution_count": 75,
   "metadata": {},
   "outputs": [],
   "source": [
    "# def removega(x):\n",
    "#     res = x.replace('가', \"\")\n",
    "#     return res"
   ]
  },
  {
   "cell_type": "code",
   "execution_count": 76,
   "metadata": {},
   "outputs": [],
   "source": [
    "# df['행정동'] = df['행정동'].apply(removega)"
   ]
  },
  {
   "cell_type": "markdown",
   "metadata": {},
   "source": [
    "### 그 외 특문 처리"
   ]
  },
  {
   "cell_type": "code",
   "execution_count": 77,
   "metadata": {},
   "outputs": [],
   "source": [
    "def removechar(x):\n",
    "    chars = [\".\", \"-\"]\n",
    "    for char in chars:\n",
    "        res = x.replace(char, \"\")\n",
    "    return res"
   ]
  },
  {
   "cell_type": "code",
   "execution_count": 78,
   "metadata": {},
   "outputs": [],
   "source": [
    "df['행정동'] = df['행정동'].apply(removechar)"
   ]
  },
  {
   "cell_type": "code",
   "execution_count": 81,
   "metadata": {},
   "outputs": [],
   "source": [
    "# 종로...동 삭제\n",
    "df = df[df['행정동'] != '종로...가동']"
   ]
  },
  {
   "cell_type": "code",
   "execution_count": 82,
   "metadata": {},
   "outputs": [
    {
     "data": {
      "text/plain": [
       "array(['석관동', '장위동', '월곡동', '삼선동', '종암동', '정릉동', '아현동', '서교동', '쌍문동',\n",
       "       '창동', '신원동', '혜화동', '천연동', '홍제동', '신림동', '보문동', '반포동', '암사동',\n",
       "       '안암동', '돈암동', '길음동', '영등포동', '방이동', '사직동', '시흥동', '신수동', '월계동',\n",
       "       '대흥동', '도봉동', '상계.동', '창전동', '공덕동', '도화동', '방학동', '연남동', '개봉동',\n",
       "       '성산동', '신도림동', '고척동', '북아현동', '방배동', '광장동', '오류동', '양재동', '공항동',\n",
       "       '서초동', '반포본동', '내곡동', '가양동', '일원동', '압구정동', '사당동', '상도동', '흑석동',\n",
       "       '대방동', '보라매동', '노량진동', '도곡동', '신월동', '방화동', '방배본동', '잠원동', '역삼동',\n",
       "       '염창동', '우장산동', '화곡동', '등촌동', '화곡본동', '면목동', '중화동', '이화동', '논현동',\n",
       "       '상수동', '상암동', '개포동', '독산동', '장충동', '성수동가', '목동', '중계본동', '중계동',\n",
       "       '고덕동', '세곡동', '용강동', '잠실동', '옥인동', '현석동', '효창동', '후암동', '망원동',\n",
       "       '자양동', '구로동', '진관동', '상일동', '봉천동', '대치동', '신사동', '마장동', '신공덕동',\n",
       "       '삼성동', '신정동', '응암동', '상계동', '불광동', '사근동', '공릉동', '송파동', '오금동',\n",
       "       '한남동', '응봉동', '홍은동', '장충동가', '중계.동', '청담동', '하계동', '수서동', '염리동',\n",
       "       '청파동', '본동', '번동', '구의동', '갈현동', '녹번동', '당인동', '대조동', '동교동',\n",
       "       '답십리동', '마곡동', '마포동', '망우동', '가산동', '중동', '합정동', '역촌동', '풍납동',\n",
       "       '항동', '구산동', '문배동', '이촌동', '이문동', '중곡동', '증산동', '장안동', '성수가동',\n",
       "       '신대방동', '성북동', '수유동', '부암동', '갈월동', '궁동', '도림동', '발산동', '신영동',\n",
       "       '자곡동', '평창동', '천왕동', '신천동', '율현동', '명일동', '천호동', '성내동', '둔촌동',\n",
       "       '강일동', '길동', '신내동', '석촌동', '마천동', '장지동', '미아동', '송천동', '삼양동',\n",
       "       '삼각산동', '송중동', '인수동', '우이동', '내발산동', '개화동', '거여동', '가락동', '문정동',\n",
       "       '가락본동', '서계동', '동자동', '이태원동', '청파동가', '신계동', '용산동가', '도원동', '신창동',\n",
       "       '서린동', '숭인동', '동숭동', '삼청동', '수송동', '창신동', '송월동', '행촌동', '무악동',\n",
       "       '와룡동', '청진동', '원서동', '연지동', '내수동', '노고산동', '신당동', '순화동', '쌍림동',\n",
       "       '무교동', '정동', '만리동가', '다동', '서소문동', '삼각동', '저동', '광희동', '황학동',\n",
       "       '다산동', '저동가', '역촌동,', '불광동일대', '흑석동일대', '동작동', '신월동산', '묵동', '전농동',\n",
       "       '휘경동', '제기동', '신설동', '청량리동', '잠실본동', '원지동', '염곡동', '우면동', '온수동',\n",
       "       '하월곡동', '보문동가', '삼선동가', '동일로길', '동일로', '성산동산', '동일로가길', '송정동',\n",
       "       '금호동가', '옥수동', '하왕십리동', '상왕십리동', '행당동', '홍익동', '용답동', '외발산동',\n",
       "       '삼전동', '안암동가', '상월곡동', '화양동', '군자동', '능동', '남현동', '남가좌동', '연희동',\n",
       "       '창천동', '현저동', '합동', '영천동', '북가좌동', '대현동', '신길동', '문래동', '당산동',\n",
       "       '대림동', '당산동가', '문래동가', '영등포동가', '여의동', '양평동', '영등포본동'],\n",
       "      dtype=object)"
      ]
     },
     "execution_count": 82,
     "metadata": {},
     "output_type": "execute_result"
    }
   ],
   "source": [
    "df['행정동'].unique()"
   ]
  },
  {
   "cell_type": "code",
   "execution_count": 42,
   "metadata": {},
   "outputs": [
    {
     "data": {
      "text/html": [
       "<div>\n",
       "<style scoped>\n",
       "    .dataframe tbody tr th:only-of-type {\n",
       "        vertical-align: middle;\n",
       "    }\n",
       "\n",
       "    .dataframe tbody tr th {\n",
       "        vertical-align: top;\n",
       "    }\n",
       "\n",
       "    .dataframe thead th {\n",
       "        text-align: right;\n",
       "    }\n",
       "</style>\n",
       "<table border=\"1\" class=\"dataframe\">\n",
       "  <thead>\n",
       "    <tr style=\"text-align: right;\">\n",
       "      <th></th>\n",
       "      <th>행정동</th>\n",
       "      <th>분류</th>\n",
       "      <th>시설명</th>\n",
       "      <th>x좌표</th>\n",
       "      <th>y좌표</th>\n",
       "    </tr>\n",
       "  </thead>\n",
       "  <tbody>\n",
       "    <tr>\n",
       "      <th>0</th>\n",
       "      <td>석관동</td>\n",
       "      <td>간이운동장</td>\n",
       "      <td>돌   뫼</td>\n",
       "      <td>127.052763</td>\n",
       "      <td>37.605125</td>\n",
       "    </tr>\n",
       "    <tr>\n",
       "      <th>1</th>\n",
       "      <td>장위동</td>\n",
       "      <td>간이운동장</td>\n",
       "      <td>동   방</td>\n",
       "      <td>127.043551</td>\n",
       "      <td>37.616625</td>\n",
       "    </tr>\n",
       "    <tr>\n",
       "      <th>2</th>\n",
       "      <td>월곡동</td>\n",
       "      <td>간이운동장</td>\n",
       "      <td>동   산</td>\n",
       "      <td>127.032290</td>\n",
       "      <td>37.605577</td>\n",
       "    </tr>\n",
       "    <tr>\n",
       "      <th>3</th>\n",
       "      <td>월곡동</td>\n",
       "      <td>간이운동장</td>\n",
       "      <td>밤   골</td>\n",
       "      <td>127.039928</td>\n",
       "      <td>37.607571</td>\n",
       "    </tr>\n",
       "    <tr>\n",
       "      <th>4</th>\n",
       "      <td>삼선동</td>\n",
       "      <td>간이운동장</td>\n",
       "      <td>삼   선</td>\n",
       "      <td>127.008989</td>\n",
       "      <td>37.582602</td>\n",
       "    </tr>\n",
       "  </tbody>\n",
       "</table>\n",
       "</div>"
      ],
      "text/plain": [
       "   행정동     분류    시설명         x좌표        y좌표\n",
       "0  석관동  간이운동장  돌   뫼  127.052763  37.605125\n",
       "1  장위동  간이운동장  동   방  127.043551  37.616625\n",
       "2  월곡동  간이운동장  동   산  127.032290  37.605577\n",
       "3  월곡동  간이운동장  밤   골  127.039928  37.607571\n",
       "4  삼선동  간이운동장  삼   선  127.008989  37.582602"
      ]
     },
     "execution_count": 42,
     "metadata": {},
     "output_type": "execute_result"
    }
   ],
   "source": [
    "df.head()"
   ]
  },
  {
   "cell_type": "markdown",
   "metadata": {},
   "source": [
    "### 데이터 내보내기"
   ]
  },
  {
   "cell_type": "code",
   "execution_count": 43,
   "metadata": {},
   "outputs": [],
   "source": [
    "df.to_csv('입지선정후보군데이터.csv', encoding='cp949', index=None)"
   ]
  },
  {
   "cell_type": "markdown",
   "metadata": {},
   "source": [
    "# 4. 추가 엑셀 작업"
   ]
  },
  {
   "cell_type": "markdown",
   "metadata": {},
   "source": [
    "### 입지선정후보군_행정동추가"
   ]
  },
  {
   "cell_type": "code",
   "execution_count": 116,
   "metadata": {},
   "outputs": [
    {
     "data": {
      "text/html": [
       "<div>\n",
       "<style scoped>\n",
       "    .dataframe tbody tr th:only-of-type {\n",
       "        vertical-align: middle;\n",
       "    }\n",
       "\n",
       "    .dataframe tbody tr th {\n",
       "        vertical-align: top;\n",
       "    }\n",
       "\n",
       "    .dataframe thead th {\n",
       "        text-align: right;\n",
       "    }\n",
       "</style>\n",
       "<table border=\"1\" class=\"dataframe\">\n",
       "  <thead>\n",
       "    <tr style=\"text-align: right;\">\n",
       "      <th></th>\n",
       "      <th>Unnamed: 0</th>\n",
       "      <th>분류</th>\n",
       "      <th>시설명</th>\n",
       "      <th>x좌표</th>\n",
       "      <th>y좌표</th>\n",
       "      <th>법정동</th>\n",
       "      <th>행정동</th>\n",
       "    </tr>\n",
       "  </thead>\n",
       "  <tbody>\n",
       "    <tr>\n",
       "      <th>0</th>\n",
       "      <td>0</td>\n",
       "      <td>간이운동장</td>\n",
       "      <td>돌   뫼</td>\n",
       "      <td>127.052763</td>\n",
       "      <td>37.605125</td>\n",
       "      <td>석관동</td>\n",
       "      <td>석관동</td>\n",
       "    </tr>\n",
       "    <tr>\n",
       "      <th>1</th>\n",
       "      <td>1</td>\n",
       "      <td>간이운동장</td>\n",
       "      <td>동   방</td>\n",
       "      <td>127.043551</td>\n",
       "      <td>37.616625</td>\n",
       "      <td>장위동</td>\n",
       "      <td>장위제1동</td>\n",
       "    </tr>\n",
       "    <tr>\n",
       "      <th>2</th>\n",
       "      <td>2</td>\n",
       "      <td>간이운동장</td>\n",
       "      <td>동   산</td>\n",
       "      <td>127.032290</td>\n",
       "      <td>37.605577</td>\n",
       "      <td>하월곡동</td>\n",
       "      <td>길음제2동</td>\n",
       "    </tr>\n",
       "    <tr>\n",
       "      <th>3</th>\n",
       "      <td>3</td>\n",
       "      <td>간이운동장</td>\n",
       "      <td>밤   골</td>\n",
       "      <td>127.039928</td>\n",
       "      <td>37.607571</td>\n",
       "      <td>하월곡동</td>\n",
       "      <td>길음제2동</td>\n",
       "    </tr>\n",
       "    <tr>\n",
       "      <th>4</th>\n",
       "      <td>4</td>\n",
       "      <td>간이운동장</td>\n",
       "      <td>삼   선</td>\n",
       "      <td>127.008989</td>\n",
       "      <td>37.582602</td>\n",
       "      <td>삼선동1가</td>\n",
       "      <td>삼선동</td>\n",
       "    </tr>\n",
       "  </tbody>\n",
       "</table>\n",
       "</div>"
      ],
      "text/plain": [
       "   Unnamed: 0     분류    시설명         x좌표        y좌표    법정동    행정동\n",
       "0           0  간이운동장  돌   뫼  127.052763  37.605125    석관동    석관동\n",
       "1           1  간이운동장  동   방  127.043551  37.616625    장위동  장위제1동\n",
       "2           2  간이운동장  동   산  127.032290  37.605577   하월곡동  길음제2동\n",
       "3           3  간이운동장  밤   골  127.039928  37.607571   하월곡동  길음제2동\n",
       "4           4  간이운동장  삼   선  127.008989  37.582602  삼선동1가    삼선동"
      ]
     },
     "execution_count": 116,
     "metadata": {},
     "output_type": "execute_result"
    }
   ],
   "source": [
    "a = pd.read_csv(\"입지선정후보군데이터.csv\", encoding='cp949')\n",
    "a.head()"
   ]
  },
  {
   "cell_type": "code",
   "execution_count": 124,
   "metadata": {},
   "outputs": [],
   "source": [
    "a = a[['분류', '시설명', 'x좌표', 'y좌표', '법정동', '행정동']]\n",
    "b = a[['분류', '시설명', '행정동']]"
   ]
  },
  {
   "cell_type": "code",
   "execution_count": 128,
   "metadata": {},
   "outputs": [],
   "source": [
    "a.to_csv('입지선정후보군_좌표추가.csv', encoding='cp949', index=None)\n",
    "b.to_csv('입지선정후보군_행정동추가.csv', encoding='cp949', index=None)"
   ]
  },
  {
   "cell_type": "code",
   "execution_count": 123,
   "metadata": {
    "scrolled": true
   },
   "outputs": [],
   "source": [
    "a.isnull().sum()\n",
    "a = a.dropna(how='any').reset_index(drop=True)"
   ]
  },
  {
   "cell_type": "code",
   "execution_count": null,
   "metadata": {},
   "outputs": [],
   "source": []
  }
 ],
 "metadata": {
  "kernelspec": {
   "display_name": "Python 3",
   "language": "python",
   "name": "python3"
  },
  "language_info": {
   "codemirror_mode": {
    "name": "ipython",
    "version": 3
   },
   "file_extension": ".py",
   "mimetype": "text/x-python",
   "name": "python",
   "nbconvert_exporter": "python",
   "pygments_lexer": "ipython3",
   "version": "3.7.3"
  }
 },
 "nbformat": 4,
 "nbformat_minor": 2
}
