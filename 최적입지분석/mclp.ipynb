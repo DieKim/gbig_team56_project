{
 "cells": [
  {
   "cell_type": "markdown",
   "metadata": {
    "id": "u8JNoarK2mBU"
   },
   "source": [
    "# 참고자료\n",
    "* code reference: https://github.com/cyang-kth/maximum-coverage-location/blob/master/mclp.py\n",
    "* gis data handling: https://yganalyst.github.io/spatial_analysis/spatial_analysis_2/\n",
    "* Model.setObjective(): https://www.gurobi.com/documentation/9.1/refman/py_model_setobjective.html\n",
    "> 기본 목적함수는 선형 및 이차형식이므로 우리만의 가중치를 추가한 새로운 목적함수 정의 필요 \n",
    "* MCLP modeling: https://minkithub.github.io/2020/10/05/bicgon5/\n",
    "> 여기는 행정동을 뽑았는데 우리는 행정동은 클러스터링으로 뽑고 행정동 내 입지를 MCLP를 이용해서 골라야 함"
   ]
  },
  {
   "cell_type": "code",
   "execution_count": null,
   "metadata": {
    "colab": {
     "base_uri": "https://localhost:8080/"
    },
    "id": "fVwvJ7ChzgoK",
    "outputId": "2bc8a2d3-f934-4ab7-cd16-63f5c9bea55c"
   },
   "outputs": [
    {
     "name": "stdout",
     "output_type": "stream",
     "text": [
      "Mounted at /content/mnt\n"
     ]
    }
   ],
   "source": [
    "import os, sys \n",
    "from google.colab import drive \n",
    "drive.mount('/content/mnt') \n",
    "nb_path = '/content/notebooks' \n",
    "os.symlink('/content/mnt/My Drive/Colab Notebooks', nb_path) \n",
    "sys.path.insert(0, nb_path)"
   ]
  },
  {
   "cell_type": "code",
   "execution_count": null,
   "metadata": {
    "id": "JD8cGI9GzcLp"
   },
   "outputs": [],
   "source": [
    "import numpy as np\n",
    "import pandas as pd\n",
    "from scipy.spatial import distance_matrix\n",
    "from gurobipy import *\n",
    "from scipy.spatial import ConvexHull\n",
    "#from shapely.geometry import Polygon, Point\n",
    "from numpy import random"
   ]
  },
  {
   "cell_type": "code",
   "execution_count": null,
   "metadata": {
    "colab": {
     "base_uri": "https://localhost:8080/",
     "height": 309
    },
    "id": "LPTC7_nq00YQ",
    "outputId": "1d43ccd2-3be8-41f6-c7fe-3dc3b53bd412"
   },
   "outputs": [
    {
     "data": {
      "text/html": [
       "<div>\n",
       "<style scoped>\n",
       "    .dataframe tbody tr th:only-of-type {\n",
       "        vertical-align: middle;\n",
       "    }\n",
       "\n",
       "    .dataframe tbody tr th {\n",
       "        vertical-align: top;\n",
       "    }\n",
       "\n",
       "    .dataframe thead th {\n",
       "        text-align: right;\n",
       "    }\n",
       "</style>\n",
       "<table border=\"1\" class=\"dataframe\">\n",
       "  <thead>\n",
       "    <tr style=\"text-align: right;\">\n",
       "      <th></th>\n",
       "      <th>gid</th>\n",
       "      <th>건물1</th>\n",
       "      <th>건물2</th>\n",
       "      <th>건물3</th>\n",
       "      <th>관공서</th>\n",
       "      <th>전기차</th>\n",
       "      <th>주차장</th>\n",
       "      <th>충전소</th>\n",
       "      <th>변압기</th>\n",
       "      <th>전기안전관리</th>\n",
       "      <th>교통량</th>\n",
       "      <th>경제인구</th>\n",
       "      <th>lon</th>\n",
       "      <th>lat</th>\n",
       "    </tr>\n",
       "  </thead>\n",
       "  <tbody>\n",
       "    <tr>\n",
       "      <th>0</th>\n",
       "      <td>다사73bb67ba</td>\n",
       "      <td>4</td>\n",
       "      <td>2</td>\n",
       "      <td>0</td>\n",
       "      <td>0</td>\n",
       "      <td>0</td>\n",
       "      <td>0</td>\n",
       "      <td>0</td>\n",
       "      <td>0</td>\n",
       "      <td>0</td>\n",
       "      <td>0</td>\n",
       "      <td>202.0</td>\n",
       "      <td>127.203612</td>\n",
       "      <td>37.707828</td>\n",
       "    </tr>\n",
       "    <tr>\n",
       "      <th>1</th>\n",
       "      <td>다사85ab65ba</td>\n",
       "      <td>2</td>\n",
       "      <td>0</td>\n",
       "      <td>0</td>\n",
       "      <td>0</td>\n",
       "      <td>0</td>\n",
       "      <td>0</td>\n",
       "      <td>0</td>\n",
       "      <td>0</td>\n",
       "      <td>0</td>\n",
       "      <td>0</td>\n",
       "      <td>0.0</td>\n",
       "      <td>127.334119</td>\n",
       "      <td>37.690057</td>\n",
       "    </tr>\n",
       "    <tr>\n",
       "      <th>2</th>\n",
       "      <td>다사82ab57ba</td>\n",
       "      <td>11</td>\n",
       "      <td>0</td>\n",
       "      <td>0</td>\n",
       "      <td>0</td>\n",
       "      <td>0</td>\n",
       "      <td>0</td>\n",
       "      <td>0</td>\n",
       "      <td>0</td>\n",
       "      <td>0</td>\n",
       "      <td>0</td>\n",
       "      <td>0.0</td>\n",
       "      <td>127.300285</td>\n",
       "      <td>37.617897</td>\n",
       "    </tr>\n",
       "    <tr>\n",
       "      <th>3</th>\n",
       "      <td>다사70ab68aa</td>\n",
       "      <td>2</td>\n",
       "      <td>0</td>\n",
       "      <td>0</td>\n",
       "      <td>0</td>\n",
       "      <td>0</td>\n",
       "      <td>0</td>\n",
       "      <td>0</td>\n",
       "      <td>0</td>\n",
       "      <td>0</td>\n",
       "      <td>0</td>\n",
       "      <td>0.0</td>\n",
       "      <td>127.163885</td>\n",
       "      <td>37.712228</td>\n",
       "    </tr>\n",
       "    <tr>\n",
       "      <th>4</th>\n",
       "      <td>다사86aa66aa</td>\n",
       "      <td>6</td>\n",
       "      <td>0</td>\n",
       "      <td>0</td>\n",
       "      <td>0</td>\n",
       "      <td>0</td>\n",
       "      <td>0</td>\n",
       "      <td>0</td>\n",
       "      <td>0</td>\n",
       "      <td>0</td>\n",
       "      <td>0</td>\n",
       "      <td>0.0</td>\n",
       "      <td>127.342616</td>\n",
       "      <td>37.694575</td>\n",
       "    </tr>\n",
       "  </tbody>\n",
       "</table>\n",
       "</div>"
      ],
      "text/plain": [
       "          gid  건물1  건물2  건물3  관공서  ...  전기안전관리  교통량   경제인구         lon        lat\n",
       "0  다사73bb67ba    4    2    0    0  ...       0    0  202.0  127.203612  37.707828\n",
       "1  다사85ab65ba    2    0    0    0  ...       0    0    0.0  127.334119  37.690057\n",
       "2  다사82ab57ba   11    0    0    0  ...       0    0    0.0  127.300285  37.617897\n",
       "3  다사70ab68aa    2    0    0    0  ...       0    0    0.0  127.163885  37.712228\n",
       "4  다사86aa66aa    6    0    0    0  ...       0    0    0.0  127.342616  37.694575\n",
       "\n",
       "[5 rows x 14 columns]"
      ]
     },
     "execution_count": 80,
     "metadata": {
      "tags": []
     },
     "output_type": "execute_result"
    }
   ],
   "source": [
    "#df = pd.read_csv('/content/mnt/MyDrive/결과_총점.csv', encoding='cp949')\n",
    "df = pd.read_csv('/content/mnt/MyDrive/남양주_전처리데이터셋.csv', encoding='cp949')\n",
    "df = df.iloc[:1000, :]\n",
    "df.head()"
   ]
  },
  {
   "cell_type": "code",
   "execution_count": null,
   "metadata": {
    "colab": {
     "base_uri": "https://localhost:8080/"
    },
    "id": "j8LTjIXN18lN",
    "outputId": "631761a7-3672-419b-ea97-57950b592f97"
   },
   "outputs": [
    {
     "name": "stdout",
     "output_type": "stream",
     "text": [
      "<class 'pandas.core.frame.DataFrame'>\n",
      "RangeIndex: 7617 entries, 0 to 7616\n",
      "Data columns (total 14 columns):\n",
      " #   Column  Non-Null Count  Dtype  \n",
      "---  ------  --------------  -----  \n",
      " 0   gid     7617 non-null   object \n",
      " 1   건물1     7617 non-null   int64  \n",
      " 2   건물2     7617 non-null   int64  \n",
      " 3   건물3     7617 non-null   int64  \n",
      " 4   관공서     7617 non-null   int64  \n",
      " 5   전기차     7617 non-null   int64  \n",
      " 6   주차장     7617 non-null   int64  \n",
      " 7   충전소     7617 non-null   int64  \n",
      " 8   변압기     7617 non-null   int64  \n",
      " 9   전기안전관리  7617 non-null   int64  \n",
      " 10  교통량     7617 non-null   int64  \n",
      " 11  경제인구    3067 non-null   float64\n",
      " 12  lon     7617 non-null   float64\n",
      " 13  lat     7617 non-null   float64\n",
      "dtypes: float64(3), int64(10), object(1)\n",
      "memory usage: 833.2+ KB\n"
     ]
    }
   ],
   "source": [
    "df.info()"
   ]
  },
  {
   "cell_type": "code",
   "execution_count": null,
   "metadata": {
    "id": "jdr_fnbgzc4F"
   },
   "outputs": [],
   "source": [
    "def generate_candidate_sites(points,M=100):\n",
    "    '''\n",
    "    Generate M candidate sites with the convex hull of a point set\n",
    "    Input:\n",
    "        points: a Numpy array with shape of (N,2) -> 반경 안에 있으면 좋은 시설물들의 좌표\n",
    "        M: the number of candidate sites to generate\n",
    "    Return:\n",
    "        sites: a Numpy array with shape of (M,2)\n",
    "    '''\n",
    "    # Convex Hull: 2차원 평면상에 여러 개의 점이 있을 때 일부를 이용하여 내부에 모든 점을 포함시키는 다각형 생성 \n",
    "    hull = ConvexHull(points) \n",
    "    polygon_points = points[hull.vertices]\n",
    "    poly = Polygon(polygon_points)\n",
    "    min_x, min_y, max_x, max_y = poly.bounds\n",
    "\n",
    "    # sites: Convex Hull 내부 후보지 선정 -> *랜덤\n",
    "    sites = []\n",
    "    while len(sites) < M:\n",
    "        random_point = Point([random.uniform(min_x, max_x),\n",
    "                             random.uniform(min_y, max_y)])\n",
    "        if (random_point.within(poly)):\n",
    "            sites.append(random_point)\n",
    "\n",
    "    return np.array([(p.x,p.y) for p in sites])"
   ]
  },
  {
   "cell_type": "code",
   "execution_count": null,
   "metadata": {
    "id": "7AMsE0dC1QFF"
   },
   "outputs": [],
   "source": [
    "x = df.lon\n",
    "y = df.lat \n",
    "df['point'] = df.apply(lambda pt : np.array([pt['lon'], pt['lat']]), axis=1)"
   ]
  },
  {
   "cell_type": "code",
   "execution_count": null,
   "metadata": {
    "colab": {
     "base_uri": "https://localhost:8080/"
    },
    "id": "0khBljg65ohZ",
    "outputId": "5688234b-211e-4a5b-c834-60714e9189ce"
   },
   "outputs": [
    {
     "data": {
      "text/plain": [
       "(1000, 2)"
      ]
     },
     "execution_count": 82,
     "metadata": {
      "tags": []
     },
     "output_type": "execute_result"
    }
   ],
   "source": [
    "points = []\n",
    "for pt in df.point:\n",
    "    points.append(pt) \n",
    "  \n",
    "points = np.array(points)\n",
    "points.shape"
   ]
  },
  {
   "cell_type": "code",
   "execution_count": null,
   "metadata": {
    "colab": {
     "base_uri": "https://localhost:8080/"
    },
    "id": "0KFVARVH5aKJ",
    "outputId": "035cdd55-108e-49d7-8d16-1be65a13d80e"
   },
   "outputs": [
    {
     "data": {
      "text/plain": [
       "array([[127.12553866,  37.70579715],\n",
       "       [127.31547067,  37.71918161],\n",
       "       [127.22710533,  37.61765684],\n",
       "       [127.19319649,  37.69202152],\n",
       "       [127.25525218,  37.64857698],\n",
       "       [127.28936779,  37.59201941],\n",
       "       [127.28276382,  37.66433812],\n",
       "       [127.20485385,  37.67713644],\n",
       "       [127.34819182,  37.61735829],\n",
       "       [127.33854094,  37.64842688],\n",
       "       [127.15148023,  37.64043405],\n",
       "       [127.35216417,  37.6629593 ],\n",
       "       [127.1626282 ,  37.74249434],\n",
       "       [127.20141506,  37.67545111],\n",
       "       [127.34221945,  37.68311103],\n",
       "       [127.35527837,  37.69816303],\n",
       "       [127.15071635,  37.66198773],\n",
       "       [127.25497331,  37.70171689],\n",
       "       [127.37164616,  37.66165974],\n",
       "       [127.21950241,  37.71788323],\n",
       "       [127.18802196,  37.71118767],\n",
       "       [127.26244948,  37.66263526],\n",
       "       [127.22949871,  37.58768405],\n",
       "       [127.26591927,  37.62715259],\n",
       "       [127.22208974,  37.68891101],\n",
       "       [127.24959956,  37.59832664],\n",
       "       [127.18136123,  37.67176891],\n",
       "       [127.15915365,  37.65686044],\n",
       "       [127.17771018,  37.70863747],\n",
       "       [127.14730787,  37.69848474],\n",
       "       [127.28160755,  37.66592044],\n",
       "       [127.27744926,  37.69416131],\n",
       "       [127.21469832,  37.58711633],\n",
       "       [127.17599148,  37.64683089],\n",
       "       [127.21087128,  37.61141927],\n",
       "       [127.30554236,  37.71054479],\n",
       "       [127.28252887,  37.67110073],\n",
       "       [127.34104375,  37.7147146 ],\n",
       "       [127.29865707,  37.6554937 ],\n",
       "       [127.32422435,  37.65954058],\n",
       "       [127.24027978,  37.67031174],\n",
       "       [127.32757377,  37.68825159],\n",
       "       [127.30247019,  37.69021705],\n",
       "       [127.19103112,  37.7322682 ],\n",
       "       [127.24770196,  37.67249061],\n",
       "       [127.22101439,  37.62318199],\n",
       "       [127.18347898,  37.64598737],\n",
       "       [127.15117001,  37.66863828],\n",
       "       [127.28784737,  37.62504416],\n",
       "       [127.11413147,  37.67501891],\n",
       "       [127.3090297 ,  37.68681857],\n",
       "       [127.20801267,  37.69337812],\n",
       "       [127.25566683,  37.71362527],\n",
       "       [127.25805508,  37.54094479],\n",
       "       [127.2438822 ,  37.55267161],\n",
       "       [127.31165861,  37.54333012],\n",
       "       [127.30618444,  37.54707855],\n",
       "       [127.2695946 ,  37.69426885],\n",
       "       [127.31395263,  37.60426954],\n",
       "       [127.23228768,  37.72992497],\n",
       "       [127.28067931,  37.6998629 ],\n",
       "       [127.14958452,  37.64169965],\n",
       "       [127.10370493,  37.6604108 ],\n",
       "       [127.25286197,  37.6031413 ],\n",
       "       [127.30412187,  37.54758941],\n",
       "       [127.21451073,  37.70011731],\n",
       "       [127.23119544,  37.76097962],\n",
       "       [127.23610793,  37.56474855],\n",
       "       [127.09554407,  37.69725653],\n",
       "       [127.14998638,  37.748152  ],\n",
       "       [127.20204838,  37.66361703],\n",
       "       [127.13396982,  37.66770005],\n",
       "       [127.24691078,  37.59773227],\n",
       "       [127.09601385,  37.67956349],\n",
       "       [127.28474133,  37.55676031],\n",
       "       [127.36957851,  37.66019434],\n",
       "       [127.13282764,  37.67753008],\n",
       "       [127.11314273,  37.67177385],\n",
       "       [127.20715649,  37.73702006],\n",
       "       [127.31139121,  37.67208803],\n",
       "       [127.30804027,  37.53768716],\n",
       "       [127.0939408 ,  37.67098715],\n",
       "       [127.30965807,  37.63230967],\n",
       "       [127.27586988,  37.63758203],\n",
       "       [127.32285022,  37.59688183],\n",
       "       [127.30275276,  37.65583769],\n",
       "       [127.15569706,  37.64344987],\n",
       "       [127.26380977,  37.76492369],\n",
       "       [127.10950041,  37.67732309],\n",
       "       [127.26637426,  37.61125705],\n",
       "       [127.15989472,  37.62383979],\n",
       "       [127.32113263,  37.58831659],\n",
       "       [127.29857744,  37.62490144],\n",
       "       [127.18303206,  37.60261903],\n",
       "       [127.29279981,  37.67142116],\n",
       "       [127.31626493,  37.66789411],\n",
       "       [127.24425774,  37.68522498],\n",
       "       [127.23637303,  37.57453195],\n",
       "       [127.25377673,  37.65593543],\n",
       "       [127.30826832,  37.67414144]])"
      ]
     },
     "execution_count": 83,
     "metadata": {
      "tags": []
     },
     "output_type": "execute_result"
    }
   ],
   "source": [
    "generate_candidate_sites(points, M=100)"
   ]
  },
  {
   "cell_type": "code",
   "execution_count": null,
   "metadata": {
    "id": "I3EZLYhrze8o"
   },
   "outputs": [],
   "source": [
    "def mclp(points,K,radius,M):\n",
    "    \"\"\"\n",
    "    Solve maximum covering location problem\n",
    "    Input:\n",
    "        points: input points, Numpy array in shape of [N,2]\n",
    "        K: the number of sites to select\n",
    "        radius: the radius of circle\n",
    "        M: the number of candidate sites, which will randomly generated inside\n",
    "        the ConvexHull wrapped by the polygon\n",
    "    Return:\n",
    "        opt_sites: locations K optimal sites, Numpy array in shape of [K,2]\n",
    "        f: the optimal value of the objective function\n",
    "    \"\"\"\n",
    "    \n",
    "    print('----- Configurations -----')\n",
    "    print('  Number of points %g' % points.shape[0])\n",
    "    print('  K %g' % K)\n",
    "    print('  Radius %g' % radius)\n",
    "    print('  M %g' % M)\n",
    "\n",
    "    import time\n",
    "    start = time.time()\n",
    "\n",
    "    sites = generate_candidate_sites(points,M)\n",
    "    J = sites.shape[0]\n",
    "    I = points.shape[0]\n",
    "    D = distance_matrix(points,sites)\n",
    "    mask1 = D<=radius\n",
    "    D[mask1]=1\n",
    "    D[~mask1]=0\n",
    "\n",
    "    # Build model\n",
    "    m = Model()\n",
    "\n",
    "    # Add variables\n",
    "    x = {}\n",
    "    y = {}\n",
    "    for i in range(I):\n",
    "        y[i] = m.addVar(vtype=GRB.BINARY, name=\"y%d\" % i)\n",
    "    for j in range(J):\n",
    "        x[j] = m.addVar(vtype=GRB.BINARY, name=\"x%d\" % j)\n",
    "\n",
    "    m.update()\n",
    "    # Add constraints\n",
    "    m.addConstr(quicksum(x[j] for j in range(J)) == K)\n",
    "\n",
    "    for i in range(I):\n",
    "        m.addConstr(quicksum(x[j] for j in np.where(D[i]==1)[0]) >= y[i])\n",
    "   \n",
    "    # 목적함수 수정 필요 \n",
    "    m.setObjective(quicksum(y[i]for i in range(I)),GRB.MAXIMIZE)\n",
    "    m.setParam('OutputFlag', 0)\n",
    "    m.optimize()\n",
    "    end = time.time()\n",
    "    print('----- Output -----')\n",
    "    print('  Running time : %s seconds' % float(end-start))\n",
    "    print('  Optimal coverage points: %g' % m.objVal)\n",
    "    \n",
    "    solution = []\n",
    "    if m.status == GRB.Status.OPTIMAL:\n",
    "        for v in m.getVars():\n",
    "            # print v.varName,v.x\n",
    "            if v.x==1 and v.varName[0]==\"x\":\n",
    "                solution.append(int(v.varName[1:]))\n",
    "    opt_sites = sites[solution]\n",
    "    return opt_sites,m.objVal"
   ]
  },
  {
   "cell_type": "code",
   "execution_count": null,
   "metadata": {
    "colab": {
     "base_uri": "https://localhost:8080/"
    },
    "id": "-fNwQKgVBPGJ",
    "outputId": "40ec3a67-a685-487d-d924-b825768cbd3d"
   },
   "outputs": [
    {
     "name": "stdout",
     "output_type": "stream",
     "text": [
      "----- Configurations -----\n",
      "  Number of points 500\n",
      "  K 3\n",
      "  Radius 5\n",
      "  M 100\n",
      "----- Output -----\n",
      "  Running time : 0.07685017585754395 seconds\n",
      "  Optimal coverage points: 500\n"
     ]
    },
    {
     "data": {
      "text/plain": [
       "(array([[127.26055278,  37.67083273],\n",
       "        [127.30048598,  37.70262797],\n",
       "        [127.32623536,  37.72683479]]), 500.0)"
      ]
     },
     "execution_count": 62,
     "metadata": {
      "tags": []
     },
     "output_type": "execute_result"
    }
   ],
   "source": [
    "mclp(points,3, 5,100)"
   ]
  },
  {
   "cell_type": "code",
   "execution_count": null,
   "metadata": {
    "colab": {
     "base_uri": "https://localhost:8080/"
    },
    "id": "IjcjXycFCcXR",
    "outputId": "3e4f6b30-07f3-4271-cd5a-b3fe3f1826e2"
   },
   "outputs": [
    {
     "name": "stdout",
     "output_type": "stream",
     "text": [
      "----- Configurations -----\n",
      "  Number of points 1000\n",
      "  K 3\n",
      "  Radius 5\n",
      "  M 100\n",
      "----- Output -----\n",
      "  Running time : 0.17088007926940918 seconds\n",
      "  Optimal coverage points: 1000\n"
     ]
    }
   ],
   "source": [
    "opt_sites = mclp(points,3, 5,100)[0]"
   ]
  },
  {
   "cell_type": "code",
   "execution_count": null,
   "metadata": {
    "id": "roglY1gf0nQJ"
   },
   "outputs": [],
   "source": [
    "def plot_input(points):\n",
    "    '''\n",
    "    Plot the result\n",
    "    Input:\n",
    "        points: input points, Numpy array in shape of [N,2]\n",
    "        opt_sites: locations K optimal sites, Numpy array in shape of [K,2]\n",
    "        radius: the radius of circle\n",
    "    '''\n",
    "    from matplotlib import pyplot as plt\n",
    "    fig = plt.figure(figsize=(8,8))\n",
    "    plt.scatter(points[:,0],points[:,1],c='C0')\n",
    "    ax = plt.gca()\n",
    "    ax.axis('equal')\n",
    "    ax.tick_params(axis='both',left=False, top=False, right=False,\n",
    "                       bottom=False, labelleft=False, labeltop=False,\n",
    "                       labelright=False, labelbottom=False)"
   ]
  },
  {
   "cell_type": "code",
   "execution_count": null,
   "metadata": {
    "colab": {
     "base_uri": "https://localhost:8080/",
     "height": 466
    },
    "id": "du8bJgF6CTyx",
    "outputId": "6f4faae2-2346-40c5-b0bc-8d7b7fe01fdb"
   },
   "outputs": [
    {
     "data": {
      "image/png": "[encoded data removed]",
      "text/plain": [
       "<Figure size 576x576 with 1 Axes>"
      ]
     },
     "metadata": {
      "tags": []
     },
     "output_type": "display_data"
    }
   ],
   "source": [
    "plot_input(points)"
   ]
  },
  {
   "cell_type": "code",
   "execution_count": null,
   "metadata": {
    "id": "ExM5kFje0qP6"
   },
   "outputs": [],
   "source": [
    "def plot_result(points,opt_sites,radius):\n",
    "    '''\n",
    "    Plot the result\n",
    "    Input:\n",
    "        points: input points, Numpy array in shape of [N,2]\n",
    "        opt_sites: locations K optimal sites, Numpy array in shape of [K,2]\n",
    "        radius: the radius of circle\n",
    "    '''\n",
    "    from matplotlib import pyplot as plt\n",
    "    fig = plt.figure(figsize=(8,8))\n",
    "    plt.scatter(points[:,0],points[:,1],c='C0')\n",
    "    ax = plt.gca()\n",
    "    plt.scatter(opt_sites[:,0],opt_sites[:,1],c='C1',marker='+')\n",
    "    for site in opt_sites:\n",
    "        circle = plt.Circle(site, radius, color='C1',fill=False,lw=2)\n",
    "        ax.add_artist(circle)\n",
    "    ax.axis('equal')\n",
    "    ax.tick_params(axis='both',left=False, top=False, right=False,\n",
    "                       bottom=False, labelleft=False, labeltop=False,\n",
    "                       labelright=False, labelbottom=False)"
   ]
  },
  {
   "cell_type": "code",
   "execution_count": null,
   "metadata": {
    "colab": {
     "base_uri": "https://localhost:8080/",
     "height": 466
    },
    "id": "rmxt9Up7CW5q",
    "outputId": "d462a240-ab11-416b-f01b-9f7a8c0b3419"
   },
   "outputs": [
    {
     "data": {
      "image/png": "[encoded data removed]",
      "text/plain": [
       "<Figure size 576x576 with 1 Axes>"
      ]
     },
     "metadata": {
      "tags": []
     },
     "output_type": "display_data"
    }
   ],
   "source": [
    "plot_result(points, opt_sites, 3)"
   ]
  },
  {
   "cell_type": "markdown",
   "metadata": {
    "id": "h0Vp0g7a0rS9"
   },
   "source": [
    "# Example"
   ]
  },
  {
   "cell_type": "code",
   "execution_count": null,
   "metadata": {},
   "outputs": [],
   "source": [
    "from mclp import *\n",
    "import matplotlib.pyplot as plt\n",
    "%matplotlib inline"
   ]
  },
  {
   "cell_type": "markdown",
   "metadata": {},
   "source": [
    "### Generate input data"
   ]
  },
  {
   "cell_type": "code",
   "execution_count": null,
   "metadata": {},
   "outputs": [],
   "source": [
    "import numpy as np\n",
    "Npoints = 300\n",
    "# Generate points in uniform distribution \n",
    "# points = np.random.rand(Npoints,2)\n",
    "\n",
    "# Generate points in moon distribution\n",
    "from sklearn.datasets import make_moons\n",
    "points,_ = make_moons(Npoints,noise=0.15)"
   ]
  },
  {
   "cell_type": "code",
   "execution_count": null,
   "metadata": {},
   "outputs": [],
   "source": [
    "# Plot input data\n",
    "plot_input(points)"
   ]
  },
  {
   "cell_type": "markdown",
   "metadata": {},
   "source": [
    "### Run the optimization"
   ]
  },
  {
   "cell_type": "code",
   "execution_count": null,
   "metadata": {},
   "outputs": [],
   "source": [
    "# Number of sites to select\n",
    "K = 20\n",
    "\n",
    "# Service radius of each site\n",
    "radius = 0.2\n",
    "\n",
    "# Candidate site size (random sites generated)\n",
    "M = 100\n",
    "\n",
    "# Run mclp opt_sites is the location of optimal sites and f is the points covered\n",
    "opt_sites,f = mclp(points,K,radius,M)\n",
    "\n",
    "# Plot the result\n",
    "plot_result(points,opt_sites,radius)"
   ]
  },
  {
   "cell_type": "markdown",
   "metadata": {},
   "source": [
    "### Run the another configuration"
   ]
  },
  {
   "cell_type": "code",
   "execution_count": null,
   "metadata": {},
   "outputs": [],
   "source": [
    "K = 20\n",
    "radius = 0.2\n",
    "M = 10000\n",
    "opt_sites,f = mclp(points,K,radius,M)\n",
    "plot_result(points,opt_sites,radius)"
   ]
  },
  {
   "cell_type": "code",
   "execution_count": null,
   "metadata": {},
   "outputs": [],
   "source": []
  }
 ],
 "metadata": {
  "colab": {
   "name": "mclp.ipynb",
   "provenance": []
  },
  "kernelspec": {
   "display_name": "Python 3",
   "language": "python",
   "name": "python3"
  },
  "language_info": {
   "codemirror_mode": {
    "name": "ipython",
    "version": 3
   },
   "file_extension": ".py",
   "mimetype": "text/x-python",
   "name": "python",
   "nbconvert_exporter": "python",
   "pygments_lexer": "ipython3",
   "version": "3.7.3"
  }
 },
 "nbformat": 4,
 "nbformat_minor": 1
}
