{
 "cells": [
  {
   "cell_type": "markdown",
   "metadata": {
    "id": "imE6qSI-JDJf"
   },
   "source": [
    "# Ref\n",
    "* code: https://github.com/Pyomo/pyomo/tree/main/examples/pyomo\n",
    "* source: https://projects.coin-or.org/Coopr/changeset/9689/"
   ]
  },
  {
   "cell_type": "markdown",
   "metadata": {
    "id": "i27wwcnUjrcN"
   },
   "source": [
    "## 1. Greedy Heuristic\n",
    "* solver1.py"
   ]
  },
  {
   "cell_type": "code",
   "execution_count": 4,
   "metadata": {
    "colab": {
     "base_uri": "https://localhost:8080/",
     "height": 336
    },
    "id": "FzPifXr2pZBM",
    "outputId": "e59a03c7-c714-442b-93d9-6e5277016287"
   },
   "outputs": [],
   "source": [
    "# IOptSolve 불러오는 과정이 자꾸 오류나서 따로 정의\n",
    "\n",
    "import pyomo\n",
    "\n",
    "class IOptSolver(Interface):\n",
    "    \"\"\"Interface class for creating optimization solvers\"\"\"\n",
    "\n",
    "    def available(self, exception_flag=True):\n",
    "        \"\"\"Determine if this optimizer is available.\"\"\"\n",
    "\n",
    "    def warm_start_capable(self):\n",
    "        \"\"\" True is the solver can accept a warm-start solution.\"\"\"\n",
    "\n",
    "    def solve(self, *args, **kwds):\n",
    "        \"\"\"Perform optimization and return an SolverResults object.\"\"\"\n",
    "\n",
    "    def reset(self):\n",
    "        \"\"\"Reset the state of an optimizer\"\"\"\n",
    "\n",
    "    def set_options(self, istr):\n",
    "        \"\"\"Set the options in the optimizer from a string.\"\"\"\n",
    "\n",
    "    def __bool__(self):\n",
    "        \"\"\"Alias for self.available()\"\"\""
   ]
  },
  {
   "cell_type": "code",
   "execution_count": 5,
   "metadata": {
    "colab": {
     "base_uri": "https://localhost:8080/",
     "height": 373
    },
    "id": "Xv67Im6MkVxm",
    "outputId": "c2198574-8474-4549-fa46-05aadb1f291d"
   },
   "outputs": [],
   "source": [
    "from pyomo.core import *\n",
    "from pyomo.common.plugin import *\n",
    "from pyomo.opt import *\n",
    "\n",
    "class MySolver(object):\n",
    "\n",
    "    alias('greedy')\n",
    "\n",
    "    # Declare that this is an IOptSolver plugin\n",
    "    implements(IOptSolver)\n",
    "\n",
    "    # Solve the specified problem and return\n",
    "    # a SolverResults object\n",
    "    def solve(self, instance, **kwds):\n",
    "        print(\"Starting greedy heuristic\")\n",
    "        val, instance = self._greedy(instance)\n",
    "        n = value(instance.N)\n",
    "        # Setup results\n",
    "        results = SolverResults()\n",
    "        results.problem.name = instance.name\n",
    "        results.problem.sense = ProblemSense.minimize\n",
    "        results.problem.num_constraints = 1\n",
    "        results.problem.num_variables = n\n",
    "        results.problem.num_objectives = 1\n",
    "        results.solver.status = SolverStatus.ok\n",
    "        soln = results.solution.add()\n",
    "        soln.value = val\n",
    "        soln.status = SolutionStatus.feasible\n",
    "        for j in sequence(n):\n",
    "            if instance.y[j].value == 1:\n",
    "                soln.variable[instance.y[j].name] = {\"Value\" : 1, \"Id\" : j}\n",
    "        return results\n",
    "\n",
    "    # Perform a greedy search\n",
    "    def _greedy(self, instance):\n",
    "        p = value(instance.P)\n",
    "        n = value(instance.N)\n",
    "        m = value(instance.M)\n",
    "        fixed=set()\n",
    "        # Initialize\n",
    "        for j in sequence(n):\n",
    "            instance.y[j].value=0\n",
    "        # Greedily fix the next best facility\n",
    "        for i in sequence(p):\n",
    "            best = None\n",
    "            ndx=j\n",
    "            for j in sequence(n):\n",
    "                if j in fixed:\n",
    "                    continue\n",
    "                instance.y[j].value=1\n",
    "                # Compute value\n",
    "                val = 0.0\n",
    "                for kk in sequence(m):\n",
    "                    tmp=copy.copy(fixed)\n",
    "                    tmp.add(j)\n",
    "                    tbest = None\n",
    "                    for jj in tmp:\n",
    "                        if tbest == None or instance.d[jj,kk].value < tbest:\n",
    "                            tbest = instance.d[jj,kk].value\n",
    "                    val += tbest\n",
    "                # Keep best greedy choice\n",
    "                if best == None or val < best:\n",
    "                    best=val\n",
    "                    ndx=j\n",
    "                instance.y[j].value=0\n",
    "            fixed.add(ndx)\n",
    "            instance.y[ndx].value=1\n",
    "        return [best, instance]"
   ]
  },
  {
   "cell_type": "markdown",
   "metadata": {
    "id": "Yu9Hd9TnjrfZ"
   },
   "source": [
    "## 2. Randomized Heuristic\n",
    "* solver2.py"
   ]
  },
  {
   "cell_type": "code",
   "execution_count": 6,
   "metadata": {},
   "outputs": [],
   "source": [
    "# Imports from Pyomo\n",
    "from pyomo.core import *\n",
    "from pyomo.common.plugin import *\n",
    "from pyomo.opt import *\n",
    "import random\n",
    "import copy\n",
    "\n",
    "class MySolver(object):\n",
    "\n",
    "    alias('random')\n",
    "\n",
    "    # Declare that this is an IOptSolver plugin\n",
    "    implements(IOptSolver)\n",
    "\n",
    "    # Solve the specified problem and return\n",
    "    # a SolverResults object\n",
    "    def solve(self, instance, **kwds):\n",
    "        print(\"Starting random heuristic\")\n",
    "        val, sol = self._random(instance)\n",
    "        n = value(instance.N)\n",
    "        # Setup results\n",
    "        results = SolverResults()\n",
    "        results.problem.name = instance.name\n",
    "        results.problem.sense = ProblemSense.minimize\n",
    "        results.problem.num_constraints = 1\n",
    "        results.problem.num_variables = n\n",
    "        results.problem.num_objectives = 1\n",
    "        results.solver.status = SolverStatus.ok\n",
    "        soln = results.solution.add()\n",
    "        soln.value = val\n",
    "        soln.status = SolutionStatus.feasible\n",
    "        for j in sequence(n):\n",
    "            soln.variable[instance.y[j].name] = {\"Value\" : sol[j-1], \"Id\" : j}\n",
    "        # Return results\n",
    "        return results\n",
    "\n",
    "    # Perform a random search\n",
    "    def _random(self, instance):\n",
    "        sol = [0]*instance.N.value\n",
    "        for j in range(instance.P.value):\n",
    "            sol[j] = 1\n",
    "        # Generate 100 random solutions, and keep the best\n",
    "        best = None\n",
    "        best_sol = []\n",
    "        for kk in range(100):\n",
    "            random.shuffle(sol)\n",
    "            # Compute value\n",
    "            val=0.0\n",
    "            for j in sequence(instance.M.value):\n",
    "                val += min([instance.d[i,j].value\n",
    "                            for i in sequence(instance.N.value)\n",
    "                            if sol[i-1] == 1])\n",
    "            if best == None or val < best:\n",
    "                best=val\n",
    "                best_sol=copy.copy(sol)\n",
    "        return [best, best_sol]"
   ]
  },
  {
   "cell_type": "markdown",
   "metadata": {
    "id": "Vu45o0rvjriZ"
   },
   "source": [
    "## 3. P-median\n",
    "* pmedian.py"
   ]
  },
  {
   "cell_type": "code",
   "execution_count": 7,
   "metadata": {
    "id": "ytBfN8kWj4M-"
   },
   "outputs": [],
   "source": [
    "from pyomo.core import *\n",
    "\n",
    "def pyomo_create_model(options=None, model_options=None):\n",
    "    import random\n",
    "\n",
    "    random.seed(1000)\n",
    "\n",
    "    model = AbstractModel()\n",
    "\n",
    "    model.N = Param(within=PositiveIntegers)\n",
    "\n",
    "    model.Locations = RangeSet(1,model.N)\n",
    "\n",
    "    model.P = Param(within=RangeSet(1,model.N))\n",
    "\n",
    "    model.M = Param(within=PositiveIntegers)\n",
    "\n",
    "    model.Customers = RangeSet(1,model.M)\n",
    "\n",
    "    model.d = Param(model.Locations, model.Customers, initialize=lambda n, m, model : random.uniform(1.0,2.0), within=Reals)\n",
    "\n",
    "    model.x = Var(model.Locations, model.Customers, bounds=(0.0,1.0))\n",
    "\n",
    "    model.y = Var(model.Locations, within=Binary)\n",
    "\n",
    "    def rule(model):\n",
    "        return sum( model.d[n,m]*model.x[n,m] for n in model.Locations for m in model.Customers )\n",
    "    model.obj = Objective(rule=rule)\n",
    "\n",
    "    def rule(model, m):\n",
    "        return (sum( model.x[n,m] for n in model.Locations ), 1.0)\n",
    "    model.single_x = Constraint(model.Customers, rule=rule)\n",
    "\n",
    "    def rule(model, n, m):\n",
    "        return (None, model.x[n,m] - model.y[n], 0.0)\n",
    "    model.bound_y = Constraint(model.Locations, model.Customers, rule=rule)\n",
    "\n",
    "    def rule(model):\n",
    "        return (sum( model.y[n] for n in model.Locations ) - model.P, 0.0)\n",
    "    model.num_facilities = Constraint(rule=rule)\n",
    "\n",
    "    return model"
   ]
  },
  {
   "cell_type": "code",
   "execution_count": null,
   "metadata": {},
   "outputs": [],
   "source": []
  }
 ],
 "metadata": {
  "colab": {
   "name": "p-median.ipynb",
   "provenance": []
  },
  "kernelspec": {
   "display_name": "Python 3",
   "language": "python",
   "name": "python3"
  },
  "language_info": {
   "codemirror_mode": {
    "name": "ipython",
    "version": 3
   },
   "file_extension": ".py",
   "mimetype": "text/x-python",
   "name": "python",
   "nbconvert_exporter": "python",
   "pygments_lexer": "ipython3",
   "version": "3.7.3"
  }
 },
 "nbformat": 4,
 "nbformat_minor": 1
}
