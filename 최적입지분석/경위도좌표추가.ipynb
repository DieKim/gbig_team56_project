{
 "cells": [
  {
   "cell_type": "markdown",
   "metadata": {
    "id": "OmbYAL3-lgoj"
   },
   "source": [
    "## 카카오 api를 활용하여 주소값 -> 경위도(기준:4326)좌표값 변환 코드"
   ]
  },
  {
   "cell_type": "code",
   "execution_count": null,
   "metadata": {
    "id": "kporYO_zlbjf"
   },
   "outputs": [],
   "source": [
    "import pandas as pd\n",
    "import numpy as np\n",
    "import requests \n",
    "import sys\n",
    "import json\n",
    "import datetime "
   ]
  },
  {
   "cell_type": "code",
   "execution_count": null,
   "metadata": {
    "id": "LhVqgoP8CtJe"
   },
   "outputs": [],
   "source": [
    "APP_KEY = '자신의 api key 값 넣기' \n",
    "URL = 'https://dapi.kakao.com/v2/local/geo/coord2regioncode.json'"
   ]
  },
  {
   "cell_type": "markdown",
   "metadata": {
    "id": "JhxzvthwCu9H"
   },
   "source": [
    "## 데이터 불러오기\n",
    "\n",
    "1. 서울시 주택 데이터:\n",
    "2. 서울시 사회복지시설 데이터: "
   ]
  },
  {
   "cell_type": "code",
   "execution_count": null,
   "metadata": {
    "id": "dtQx8l6nCoh5"
   },
   "outputs": [],
   "source": [
    "house_all = pd.read_csv('/content/drive/MyDrive/입지선정데이터/지역주민접근성/서울시 주택관리 현황.csv',encoding='cp949') \n",
    "house = house_all[['단지명', '주소']] \n",
    "house"
   ]
  },
  {
   "cell_type": "code",
   "execution_count": null,
   "metadata": {
    "id": "SjmUFuDQEwra"
   },
   "outputs": [],
   "source": [
    "facilitie_all = pd.read_csv('/content/drive/MyDrive/입지선정데이터/노인생활및거주/사회복지시설(노인여가복지시설).csv',encoding='cp949') \n",
    "facilitie = facilitie_all[['시설명', '시설주소']] \n",
    "facilitie"
   ]
  },
  {
   "cell_type": "markdown",
   "metadata": {
    "id": "dwfb-q3WEVDl"
   },
   "source": [
    "## 주소값 이상치 값 변경"
   ]
  },
  {
   "cell_type": "code",
   "execution_count": null,
   "metadata": {
    "id": "FjVfa3o0ESXn"
   },
   "outputs": [],
   "source": [
    "# 주택\n",
    "# 이상치 탐색 \n",
    "print(house.loc[51])\n",
    "print(house.loc[102])\n",
    "print(house.loc[243])\n",
    "print(house.loc[338])\n",
    "\n",
    "# 올바른 주소로 바꾸기\n",
    "df.loc[51]['주소'] = '강동구 고덕로 333'\n",
    "df.loc[102]['주소'] = '강서구 강서로 515'\n",
    "df.loc[243]['주소'] = '동작구 사당동 177-1 구립 학수경로당'\n",
    "df.loc[338]['주소'] = '서초구 잠원로 60'"
   ]
  },
  {
   "cell_type": "code",
   "execution_count": null,
   "metadata": {
    "id": "bK-cWNZXEa2V"
   },
   "outputs": [],
   "source": [
    "# 사회복지시설\n",
    "# 이상치 탐색\n",
    "print(facilitie.loc[16])\n",
    "print(facilitie.loc[48])\n",
    "print(facilitie.loc[59])\n",
    "print(facilitie.loc[74])\n",
    "print(facilitie.loc[84])\n",
    "print(facilitie.loc[90])\n",
    "\n",
    "# 올바른 주소로 바꾸기\n",
    "facilitie.loc[16]['시설주소'] = '서울특별시 성북구 한천로 708 장위어르신행복지원센터 3층'\n",
    "facilitie.loc[48]['시설주소'] = '서울특별시 송파구 백제고분로42길 5 송파여성문화회관'\n",
    "facilitie.loc[59]['시설주소'] = '서울특별시 강서구 월정로30길 96 화곡보건분소'\n",
    "facilitie.loc[74]['시설주소'] = '서울특별시 양천구 목동중앙로3길 21'\n",
    "facilitie.loc[84]['시설주소'] = '서울특별시 중랑구 망우로65길 20'\n",
    "facilitie.loc[90]['시설주소'] = '서울특별시 성동구 왕십리로5길 3 3층'"
   ]
  },
  {
   "cell_type": "code",
   "execution_count": null,
   "metadata": {
    "id": "ykRCxAofFQiF"
   },
   "outputs": [],
   "source": [
    "def getLatLng(data):\n",
    "    df = data\n",
    "\n",
    "    lon = []\n",
    "    lat = []\n",
    "\n",
    "    address = str(df.loc[i, [1]][0])\n",
    "    url = 'https://dapi.kakao.com/v2/local/search/address.json?query=' + address\n",
    "    header = {'Authorization': 'KakaoAK ' + APP_KEY}\n",
    " \n",
    "    r = requests.get(url, headers=header)\n",
    "    for i in range(len(df)): \n",
    "        # print(i,address)\n",
    "        if r.status_code == 200:\n",
    "            result_address = r.json()[\"documents\"][0][\"address\"]\n",
    "            lon.append(result_address[\"y\"])\n",
    "            lat.append(result_address[\"x\"])\n",
    "        else:\n",
    "            result = \"ERROR[\" + str(r.status_code) + \"]\"\n",
    "\n",
    "        if i%50 == 0:\n",
    "            print('{} 번째 경위도 좌표계에 대한 정보 불러오는 중...'.format(i))\n",
    "        \n",
    "    return lon,lat"
   ]
  },
  {
   "cell_type": "code",
   "execution_count": null,
   "metadata": {
    "id": "odifBN8dFRpC"
   },
   "outputs": [],
   "source": [
    "lon, lat = getLatLng(house)\n",
    "house['경도']=lon\n",
    "house['위도']=lat\n",
    "\n",
    "lon, lat = getLatLng(ㅍ)\n",
    "facilitie['경도']=lon\n",
    "facilitie['위도']=lat"
   ]
  },
  {
   "cell_type": "markdown",
   "metadata": {
    "id": "YY1LaaOlLxGy"
   },
   "source": [
    "## csv 데이터로 내보내기"
   ]
  },
  {
   "cell_type": "code",
   "execution_count": null,
   "metadata": {
    "id": "ixNJoqf1L3Q5"
   },
   "outputs": [],
   "source": [
    "house.to_csv(\"/content/drive/MyDrive/입지선정데이터/노인생활및거주/서울시주택_좌표추가.csv\")\n",
    "facilitie.to_csv(\"/content/drive/MyDrive/입지선정데이터/노인생활및거주/사회복지시설_좌표추가.csv\")"
   ]
  }
 ],
 "metadata": {
  "colab": {
   "authorship_tag": "ABX9TyPXwX6TQE1hhs6boa16D/L5",
   "collapsed_sections": [],
   "name": "경위도좌표추가.ipynb",
   "provenance": []
  },
  "kernelspec": {
   "display_name": "Python 3",
   "language": "python",
   "name": "python3"
  },
  "language_info": {
   "codemirror_mode": {
    "name": "ipython",
    "version": 3
   },
   "file_extension": ".py",
   "mimetype": "text/x-python",
   "name": "python",
   "nbconvert_exporter": "python",
   "pygments_lexer": "ipython3",
   "version": "3.7.3"
  }
 },
 "nbformat": 4,
 "nbformat_minor": 1
}
