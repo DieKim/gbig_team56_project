{
 "cells": [
  {
   "cell_type": "code",
   "execution_count": 1,
   "metadata": {},
   "outputs": [],
   "source": [
    "import numpy as np\n",
    "import pandas as pd"
   ]
  },
  {
   "cell_type": "code",
   "execution_count": 27,
   "metadata": {},
   "outputs": [],
   "source": [
    "#행정동 = '장위2동' # 3개 -> 1\n",
    "#행정동 = '돈암1동' # 5개 -> 2\n",
    "행정동 = '망우3동' # 4개 -> 1\n",
    "#행정동 = '중곡3동' # 2개 -> 1"
   ]
  },
  {
   "cell_type": "code",
   "execution_count": 28,
   "metadata": {},
   "outputs": [],
   "source": [
    "입지후보지 = pd.read_csv('수정_최종후보입지.csv', encoding='EUC-KR')\n",
    "입지후보지 = 입지후보지[입지후보지['행정동'] == 행정동]\n",
    "후보지_points = np.array([list(i) for i in zip(입지후보지['x좌표'], 입지후보지['y좌표'])])\n",
    "\n",
    "버스 = pd.read_csv('입지3_버스.csv', encoding='utf-8')\n",
    "#버스 = 버스[버스['행정동'].isin(행정동리스트)]\n",
    "버스_points = np.array([list(i) for i in zip(버스['X좌표'], 버스['Y좌표'])])\n",
    "\n",
    "지하철 = pd.read_csv('입지3_지하철.csv', encoding='utf-8')\n",
    "#지하철 = 지하철[지하철['행정동'].isin(행정동리스트)]\n",
    "지하철_points = np.array([list(i) for i in zip(지하철['경도'], 지하철['위도'])])\n",
    "\n",
    "주차장 = pd.read_csv('입지3_주차장.csv', encoding='utf-8')\n",
    "#주차장 = 주차장[주차장['행정동'].isin(행정동리스트)]\n",
    "주차장_points = np.array([list(i) for i in zip(주차장['경도'], 주차장['위도'])])\n",
    "\n",
    "주택 = pd.read_csv('입지3_주택.csv', encoding='utf-8')\n",
    "#주택 = 주택[주택['행정동'].isin(행정동리스트)]\n",
    "주택_points = np.array([list(i) for i in zip(주택['위도'], 주택['경도'])])   # 위도 경도 바뀜"
   ]
  },
  {
   "cell_type": "code",
   "execution_count": 29,
   "metadata": {},
   "outputs": [],
   "source": [
    "X = list(버스['X좌표']) + list(지하철['경도']) + list(주차장['경도']) + list(주택['위도'])     # 주택 위도 경도 이름 바뀜\n",
    "Y = list(버스['Y좌표']) + list(지하철['위도']) + list(주차장['위도']) + list(주택['경도'])"
   ]
  },
  {
   "cell_type": "code",
   "execution_count": 30,
   "metadata": {},
   "outputs": [],
   "source": [
    "points = np.array([list(i) for i in zip(X, Y)])"
   ]
  },
  {
   "cell_type": "code",
   "execution_count": 31,
   "metadata": {},
   "outputs": [],
   "source": [
    "전체w = points.shape[0]\n",
    "버스w = 버스.shape[0]\n",
    "지하철w = 지하철.shape[0]\n",
    "주차장w = 주차장.shape[0]\n",
    "주택w = 주택.shape[0]"
   ]
  },
  {
   "cell_type": "code",
   "execution_count": 32,
   "metadata": {},
   "outputs": [],
   "source": [
    "# 가중치 by AHP 분석 (데이터 불균형 * 통행수단 선호도) \n",
    "m1 = (전체w-버스w)/전체w * 0.278 \n",
    "m2 = (전체w-지하철w)/전체w * 0.193 \n",
    "m3 = (전체w-주차장w)/전체w * 0.136 \n",
    "m4 = (전체w-주택w)/전체w * 0.392 "
   ]
  },
  {
   "cell_type": "code",
   "execution_count": 33,
   "metadata": {},
   "outputs": [],
   "source": [
    "from haversine import haversine\n",
    "\n",
    "havers = []\n",
    "for i in 후보지_points:\n",
    "    site = []\n",
    "    for j in 버스_points:\n",
    "        site.append(haversine(i,j))\n",
    "    havers.append(site)"
   ]
  },
  {
   "cell_type": "markdown",
   "metadata": {},
   "source": [
    "# 버스"
   ]
  },
  {
   "cell_type": "code",
   "execution_count": 34,
   "metadata": {},
   "outputs": [],
   "source": [
    "from pulp import *\n",
    "\n",
    "# 후보지와 버스정류장 간 거리행렬 생성\n",
    "location = list(입지후보지['시설명'])\n",
    "location2 = list(버스['정류소명'])\n",
    "\n",
    "havers_D = dict(zip(location, [dict(zip(location2, i)) for i in havers]))\n",
    "D = havers_D"
   ]
  },
  {
   "cell_type": "code",
   "execution_count": 35,
   "metadata": {},
   "outputs": [
    {
     "data": {
      "text/html": [
       "<div>\n",
       "<style scoped>\n",
       "    .dataframe tbody tr th:only-of-type {\n",
       "        vertical-align: middle;\n",
       "    }\n",
       "\n",
       "    .dataframe tbody tr th {\n",
       "        vertical-align: top;\n",
       "    }\n",
       "\n",
       "    .dataframe thead th {\n",
       "        text-align: right;\n",
       "    }\n",
       "</style>\n",
       "<table border=\"1\" class=\"dataframe\">\n",
       "  <thead>\n",
       "    <tr style=\"text-align: right;\">\n",
       "      <th></th>\n",
       "      <th>꽃동산</th>\n",
       "      <th>달동산</th>\n",
       "      <th>샛  별</th>\n",
       "    </tr>\n",
       "  </thead>\n",
       "  <tbody>\n",
       "    <tr>\n",
       "      <th>IBK기업은행면목동지점</th>\n",
       "      <td>1.585768</td>\n",
       "      <td>1.173554</td>\n",
       "      <td>1.797810</td>\n",
       "    </tr>\n",
       "    <tr>\n",
       "      <th>KT중랑지점</th>\n",
       "      <td>2.315059</td>\n",
       "      <td>1.883658</td>\n",
       "      <td>2.510081</td>\n",
       "    </tr>\n",
       "    <tr>\n",
       "      <th>KT중랑지점사거리</th>\n",
       "      <td>2.027686</td>\n",
       "      <td>1.594797</td>\n",
       "      <td>2.220530</td>\n",
       "    </tr>\n",
       "    <tr>\n",
       "      <th>건영아파트</th>\n",
       "      <td>0.811775</td>\n",
       "      <td>0.681454</td>\n",
       "      <td>0.793437</td>\n",
       "    </tr>\n",
       "    <tr>\n",
       "      <th>경남아파트</th>\n",
       "      <td>1.227840</td>\n",
       "      <td>1.537068</td>\n",
       "      <td>0.991815</td>\n",
       "    </tr>\n",
       "  </tbody>\n",
       "</table>\n",
       "</div>"
      ],
      "text/plain": [
       "                   꽃동산       달동산      샛  별\n",
       "IBK기업은행면목동지점  1.585768  1.173554  1.797810\n",
       "KT중랑지점        2.315059  1.883658  2.510081\n",
       "KT중랑지점사거리     2.027686  1.594797  2.220530\n",
       "건영아파트         0.811775  0.681454  0.793437\n",
       "경남아파트         1.227840  1.537068  0.991815"
      ]
     },
     "execution_count": 35,
     "metadata": {},
     "output_type": "execute_result"
    }
   ],
   "source": [
    "#col = list(D.keys())\n",
    "D = pd.DataFrame(D)\n",
    "D.head()"
   ]
  },
  {
   "cell_type": "code",
   "execution_count": 36,
   "metadata": {},
   "outputs": [],
   "source": [
    "# #col = D.columns\n",
    "최소값 = list(D.min(axis=1))"
   ]
  },
  {
   "cell_type": "code",
   "execution_count": 37,
   "metadata": {},
   "outputs": [],
   "source": [
    "# 버스\n",
    "idx = D.index\n",
    "col = D.columns\n",
    "lidx = len(idx)\n",
    "lcol = len(col)\n",
    "\n",
    "for i in range(lidx):\n",
    "    for j in range(lcol):\n",
    "        if D.loc[idx[i], col[j]] == 최소값[i]:\n",
    "            D.loc[idx[i], col[j]] = m1\n",
    "        else:\n",
    "            D.loc[idx[i], col[j]] = 0"
   ]
  },
  {
   "cell_type": "markdown",
   "metadata": {},
   "source": [
    "# 지하철"
   ]
  },
  {
   "cell_type": "code",
   "execution_count": 38,
   "metadata": {},
   "outputs": [],
   "source": [
    "from pulp import *\n",
    "\n",
    "# 후보지와 버스정류장 간 거리행렬 생성\n",
    "location = list(입지후보지['시설명'])\n",
    "location2 = list(지하철['전철역명'])\n",
    "\n",
    "havers_D2 = dict(zip(location, [dict(zip(location2, i)) for i in havers]))\n",
    "D2 = havers_D2"
   ]
  },
  {
   "cell_type": "code",
   "execution_count": 39,
   "metadata": {},
   "outputs": [
    {
     "data": {
      "text/html": [
       "<div>\n",
       "<style scoped>\n",
       "    .dataframe tbody tr th:only-of-type {\n",
       "        vertical-align: middle;\n",
       "    }\n",
       "\n",
       "    .dataframe tbody tr th {\n",
       "        vertical-align: top;\n",
       "    }\n",
       "\n",
       "    .dataframe thead th {\n",
       "        text-align: right;\n",
       "    }\n",
       "</style>\n",
       "<table border=\"1\" class=\"dataframe\">\n",
       "  <thead>\n",
       "    <tr style=\"text-align: right;\">\n",
       "      <th></th>\n",
       "      <th>꽃동산</th>\n",
       "      <th>달동산</th>\n",
       "      <th>샛  별</th>\n",
       "    </tr>\n",
       "  </thead>\n",
       "  <tbody>\n",
       "    <tr>\n",
       "      <th>망우역</th>\n",
       "      <td>1.209662</td>\n",
       "      <td>0.801779</td>\n",
       "      <td>1.423176</td>\n",
       "    </tr>\n",
       "    <tr>\n",
       "      <th>면목역</th>\n",
       "      <td>1.227840</td>\n",
       "      <td>1.537068</td>\n",
       "      <td>0.991815</td>\n",
       "    </tr>\n",
       "    <tr>\n",
       "      <th>사가정역</th>\n",
       "      <td>0.648044</td>\n",
       "      <td>0.450959</td>\n",
       "      <td>0.691154</td>\n",
       "    </tr>\n",
       "    <tr>\n",
       "      <th>상봉역</th>\n",
       "      <td>0.795960</td>\n",
       "      <td>0.399858</td>\n",
       "      <td>1.011516</td>\n",
       "    </tr>\n",
       "    <tr>\n",
       "      <th>양원역</th>\n",
       "      <td>1.725624</td>\n",
       "      <td>1.372052</td>\n",
       "      <td>1.957082</td>\n",
       "    </tr>\n",
       "  </tbody>\n",
       "</table>\n",
       "</div>"
      ],
      "text/plain": [
       "           꽃동산       달동산      샛  별\n",
       "망우역   1.209662  0.801779  1.423176\n",
       "면목역   1.227840  1.537068  0.991815\n",
       "사가정역  0.648044  0.450959  0.691154\n",
       "상봉역   0.795960  0.399858  1.011516\n",
       "양원역   1.725624  1.372052  1.957082"
      ]
     },
     "execution_count": 39,
     "metadata": {},
     "output_type": "execute_result"
    }
   ],
   "source": [
    "#col = list(D.keys())\n",
    "D2 = pd.DataFrame(D2)\n",
    "D2.head()"
   ]
  },
  {
   "cell_type": "code",
   "execution_count": 40,
   "metadata": {},
   "outputs": [],
   "source": [
    "# #col = D.columns\n",
    "최소값 = list(D2.min(axis=1))"
   ]
  },
  {
   "cell_type": "code",
   "execution_count": 41,
   "metadata": {},
   "outputs": [],
   "source": [
    "# 지하철\n",
    "idx = D2.index\n",
    "col = D2.columns\n",
    "lidx = len(idx)\n",
    "lcol = len(col)\n",
    "\n",
    "for i in range(lidx):\n",
    "    for j in range(lcol):\n",
    "        if D2.loc[idx[i], col[j]] == 최소값[i]:\n",
    "            D2.loc[idx[i], col[j]] = m2\n",
    "        else:\n",
    "            D2.loc[idx[i], col[j]] = 0"
   ]
  },
  {
   "cell_type": "markdown",
   "metadata": {},
   "source": [
    "# 주차장"
   ]
  },
  {
   "cell_type": "code",
   "execution_count": 42,
   "metadata": {},
   "outputs": [],
   "source": [
    "from pulp import *\n",
    "\n",
    "# 후보지와 버스정류장 간 거리행렬 생성\n",
    "location = list(입지후보지['시설명'])\n",
    "location2 = list(주차장['주차장이름'])\n",
    "\n",
    "havers_D3 = dict(zip(location, [dict(zip(location2, i)) for i in havers]))\n",
    "D3 = havers_D3"
   ]
  },
  {
   "cell_type": "code",
   "execution_count": 43,
   "metadata": {},
   "outputs": [
    {
     "data": {
      "text/html": [
       "<div>\n",
       "<style scoped>\n",
       "    .dataframe tbody tr th:only-of-type {\n",
       "        vertical-align: middle;\n",
       "    }\n",
       "\n",
       "    .dataframe tbody tr th {\n",
       "        vertical-align: top;\n",
       "    }\n",
       "\n",
       "    .dataframe thead th {\n",
       "        text-align: right;\n",
       "    }\n",
       "</style>\n",
       "<table border=\"1\" class=\"dataframe\">\n",
       "  <thead>\n",
       "    <tr style=\"text-align: right;\">\n",
       "      <th></th>\n",
       "      <th>꽃동산</th>\n",
       "      <th>달동산</th>\n",
       "      <th>샛  별</th>\n",
       "    </tr>\n",
       "  </thead>\n",
       "  <tbody>\n",
       "    <tr>\n",
       "      <th>그린존 망우3동 공영주차장</th>\n",
       "      <td>1.471598</td>\n",
       "      <td>1.088770</td>\n",
       "      <td>1.567169</td>\n",
       "    </tr>\n",
       "    <tr>\n",
       "      <th>그린존 상봉2동 공영주차장</th>\n",
       "      <td>0.566058</td>\n",
       "      <td>0.659240</td>\n",
       "      <td>0.464692</td>\n",
       "    </tr>\n",
       "    <tr>\n",
       "      <th>금란주차장</th>\n",
       "      <td>1.353404</td>\n",
       "      <td>1.044237</td>\n",
       "      <td>1.589359</td>\n",
       "    </tr>\n",
       "    <tr>\n",
       "      <th>까치공원공영주차장</th>\n",
       "      <td>0.648044</td>\n",
       "      <td>0.450959</td>\n",
       "      <td>0.691154</td>\n",
       "    </tr>\n",
       "    <tr>\n",
       "      <th>노상공영주차장</th>\n",
       "      <td>1.316882</td>\n",
       "      <td>0.976005</td>\n",
       "      <td>1.384849</td>\n",
       "    </tr>\n",
       "  </tbody>\n",
       "</table>\n",
       "</div>"
      ],
      "text/plain": [
       "                     꽃동산       달동산      샛  별\n",
       "그린존 망우3동 공영주차장  1.471598  1.088770  1.567169\n",
       "그린존 상봉2동 공영주차장  0.566058  0.659240  0.464692\n",
       "금란주차장           1.353404  1.044237  1.589359\n",
       "까치공원공영주차장       0.648044  0.450959  0.691154\n",
       "노상공영주차장         1.316882  0.976005  1.384849"
      ]
     },
     "execution_count": 43,
     "metadata": {},
     "output_type": "execute_result"
    }
   ],
   "source": [
    "#col = list(D.keys())\n",
    "D3 = pd.DataFrame(D3)\n",
    "D3.head()"
   ]
  },
  {
   "cell_type": "code",
   "execution_count": 44,
   "metadata": {},
   "outputs": [],
   "source": [
    "# #col = D.columns\n",
    "최소값 = list(D3.min(axis=1))"
   ]
  },
  {
   "cell_type": "code",
   "execution_count": 45,
   "metadata": {},
   "outputs": [],
   "source": [
    "# 주차장\n",
    "idx = D3.index\n",
    "col = D3.columns\n",
    "lidx = len(idx)\n",
    "lcol = len(col)\n",
    "\n",
    "for i in range(lidx):\n",
    "    for j in range(lcol):\n",
    "        if D3.loc[idx[i], col[j]] == 최소값[i]:\n",
    "            D3.loc[idx[i], col[j]] = m3\n",
    "        else:\n",
    "            D3.loc[idx[i], col[j]] = 0"
   ]
  },
  {
   "cell_type": "markdown",
   "metadata": {},
   "source": [
    "# 주택"
   ]
  },
  {
   "cell_type": "code",
   "execution_count": 46,
   "metadata": {},
   "outputs": [],
   "source": [
    "from pulp import *\n",
    "\n",
    "# 후보지와 버스정류장 간 거리행렬 생성\n",
    "location = list(입지후보지['시설명'])\n",
    "location2 = list(주택['단지명'])\n",
    "\n",
    "havers_D4 = dict(zip(location, [dict(zip(location2, i)) for i in havers]))\n",
    "D4 = havers_D4"
   ]
  },
  {
   "cell_type": "code",
   "execution_count": 47,
   "metadata": {},
   "outputs": [
    {
     "data": {
      "text/html": [
       "<div>\n",
       "<style scoped>\n",
       "    .dataframe tbody tr th:only-of-type {\n",
       "        vertical-align: middle;\n",
       "    }\n",
       "\n",
       "    .dataframe tbody tr th {\n",
       "        vertical-align: top;\n",
       "    }\n",
       "\n",
       "    .dataframe thead th {\n",
       "        text-align: right;\n",
       "    }\n",
       "</style>\n",
       "<table border=\"1\" class=\"dataframe\">\n",
       "  <thead>\n",
       "    <tr style=\"text-align: right;\">\n",
       "      <th></th>\n",
       "      <th>꽃동산</th>\n",
       "      <th>달동산</th>\n",
       "      <th>샛  별</th>\n",
       "    </tr>\n",
       "  </thead>\n",
       "  <tbody>\n",
       "    <tr>\n",
       "      <th>신내10</th>\n",
       "      <td>1.227840</td>\n",
       "      <td>1.537068</td>\n",
       "      <td>0.991815</td>\n",
       "    </tr>\n",
       "    <tr>\n",
       "      <th>신내12</th>\n",
       "      <td>0.992206</td>\n",
       "      <td>0.591990</td>\n",
       "      <td>1.116943</td>\n",
       "    </tr>\n",
       "    <tr>\n",
       "      <th>신내데시앙</th>\n",
       "      <td>1.737819</td>\n",
       "      <td>1.299816</td>\n",
       "      <td>1.905318</td>\n",
       "    </tr>\n",
       "    <tr>\n",
       "      <th>한양수자인 사가정파크(면목1)</th>\n",
       "      <td>0.648044</td>\n",
       "      <td>0.450959</td>\n",
       "      <td>0.691154</td>\n",
       "    </tr>\n",
       "    <tr>\n",
       "      <th>현대프레미어스엠코(상봉8)</th>\n",
       "      <td>1.442826</td>\n",
       "      <td>1.125971</td>\n",
       "      <td>1.678357</td>\n",
       "    </tr>\n",
       "  </tbody>\n",
       "</table>\n",
       "</div>"
      ],
      "text/plain": [
       "                       꽃동산       달동산      샛  별\n",
       "신내10              1.227840  1.537068  0.991815\n",
       "신내12              0.992206  0.591990  1.116943\n",
       "신내데시앙             1.737819  1.299816  1.905318\n",
       "한양수자인 사가정파크(면목1)  0.648044  0.450959  0.691154\n",
       "현대프레미어스엠코(상봉8)    1.442826  1.125971  1.678357"
      ]
     },
     "execution_count": 47,
     "metadata": {},
     "output_type": "execute_result"
    }
   ],
   "source": [
    "#col = list(D.keys())\n",
    "D4 = pd.DataFrame(D4)\n",
    "D4.head()"
   ]
  },
  {
   "cell_type": "code",
   "execution_count": 48,
   "metadata": {},
   "outputs": [],
   "source": [
    "# #col = D.columns\n",
    "최소값 = list(D4.min(axis=1))"
   ]
  },
  {
   "cell_type": "code",
   "execution_count": 49,
   "metadata": {},
   "outputs": [],
   "source": [
    "# 주택\n",
    "idx = D4.index\n",
    "col = D4.columns\n",
    "lidx = len(idx)\n",
    "lcol = len(col)\n",
    "\n",
    "for i in range(lidx):\n",
    "    for j in range(lcol):\n",
    "        if D4.loc[idx[i], col[j]] == 최소값[i]:\n",
    "            D4.loc[idx[i], col[j]] = m4\n",
    "        else:\n",
    "            D4.loc[idx[i], col[j]] = 0"
   ]
  },
  {
   "cell_type": "markdown",
   "metadata": {},
   "source": [
    "# Final"
   ]
  },
  {
   "cell_type": "code",
   "execution_count": 50,
   "metadata": {},
   "outputs": [],
   "source": [
    "D_final = pd.concat([D, D2, D3, D4])"
   ]
  },
  {
   "cell_type": "code",
   "execution_count": 51,
   "metadata": {
    "scrolled": true
   },
   "outputs": [
    {
     "data": {
      "text/plain": [
       "꽃동산      0.414201\n",
       "달동산     10.491134\n",
       "샛  별     3.088134\n",
       "dtype: float64"
      ]
     },
     "execution_count": 51,
     "metadata": {},
     "output_type": "execute_result"
    }
   ],
   "source": [
    "D_final.sum()"
   ]
  },
  {
   "cell_type": "markdown",
   "metadata": {},
   "source": [
    "* (3개 중 1위) 장위2동 - 장위2동 감나무쉼터 - 127.051625\t37.614919\n",
    "* (4개 중 1위) 돈암1동 - 돈암1동 마을마당 - 127.021175\t37.597746\n",
    "* (4개 중 2위) 돈암1동 - 새소리 - 127.025559\t37.600827\n",
    "* (3개 중 1위) 망우3동 - 달동산 - 127.0952\t37.59217\n",
    "* (2개 중 1위) 중곡3동 - 배나무터공원 - 127.0802718\t37.56833955"
   ]
  },
  {
   "cell_type": "code",
   "execution_count": null,
   "metadata": {},
   "outputs": [],
   "source": []
  }
 ],
 "metadata": {
  "kernelspec": {
   "display_name": "Python 3",
   "language": "python",
   "name": "python3"
  },
  "language_info": {
   "codemirror_mode": {
    "name": "ipython",
    "version": 3
   },
   "file_extension": ".py",
   "mimetype": "text/x-python",
   "name": "python",
   "nbconvert_exporter": "python",
   "pygments_lexer": "ipython3",
   "version": "3.7.3"
  }
 },
 "nbformat": 4,
 "nbformat_minor": 2
}
