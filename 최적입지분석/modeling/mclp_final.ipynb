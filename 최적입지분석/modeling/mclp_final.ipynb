{
 "cells": [
  {
   "cell_type": "code",
   "execution_count": 155,
   "metadata": {},
   "outputs": [],
   "source": [
    "import numpy as np\n",
    "from scipy.spatial import distance_matrix\n",
    "from gurobipy import *\n",
    "#from scipy.spatial import ConvexHull\n",
    "#from shapely.geometry import Polygon, Point\n",
    "from numpy import random\n",
    "import time\n",
    "import pandas as pd\n",
    "from itertools import zip_longest   # zip 함수 길이 다를 경우\n",
    "from haversine import haversine"
   ]
  },
  {
   "cell_type": "code",
   "execution_count": 156,
   "metadata": {},
   "outputs": [],
   "source": [
    "#행정동 = '장위2동' # 3개 -> 1\n",
    "#행정동 = '돈암1동' # 5개 -> 2\n",
    "#행정동 = '망우3동' # 4개 -> 1\n",
    "행정동 = '중곡3동' # 2개 -> 1"
   ]
  },
  {
   "cell_type": "code",
   "execution_count": 157,
   "metadata": {},
   "outputs": [],
   "source": [
    "입지후보지 = pd.read_csv('수정_최종후보입지.csv', encoding='EUC-KR')\n",
    "입지후보지 = 입지후보지[입지후보지['행정동'] == 행정동]\n",
    "\n",
    "버스 = pd.read_csv('입지4_버스.csv', encoding='utf-8')\n",
    "#버스 = 버스[버스['행정동'].isin(행정동리스트)]\n",
    "버스_points = np.array([list(i) for i in zip(버스['X좌표'], 버스['Y좌표'])])\n",
    "\n",
    "지하철 = pd.read_csv('입지4_지하철.csv', encoding='utf-8')\n",
    "#지하철 = 지하철[지하철['행정동'].isin(행정동리스트)]\n",
    "지하철_points = np.array([list(i) for i in zip(지하철['경도'], 지하철['위도'])])\n",
    "\n",
    "주차장 = pd.read_csv('입지4_주차장.csv', encoding='utf-8')\n",
    "#주차장 = 주차장[주차장['행정동'].isin(행정동리스트)]\n",
    "주차장_points = np.array([list(i) for i in zip(주차장['경도'], 주차장['위도'])])\n",
    "\n",
    "주택 = pd.read_csv('입지4_주택.csv', encoding='utf-8')\n",
    "#주택 = 주택[주택['행정동'].isin(행정동리스트)]\n",
    "주택_points = np.array([list(i) for i in zip(주택['위도'], 주택['경도'])])   # 위도 경도 바뀜"
   ]
  },
  {
   "cell_type": "code",
   "execution_count": 158,
   "metadata": {},
   "outputs": [],
   "source": [
    "X = list(버스['X좌표']) + list(지하철['경도']) + list(주차장['경도']) + list(주택['위도'])     # 주택 위도 경도 이름 바뀜\n",
    "Y = list(버스['Y좌표']) + list(지하철['위도']) + list(주차장['위도']) + list(주택['경도'])"
   ]
  },
  {
   "cell_type": "code",
   "execution_count": 159,
   "metadata": {},
   "outputs": [],
   "source": [
    "points = np.array([list(i) for i in zip(X, Y)])"
   ]
  },
  {
   "cell_type": "code",
   "execution_count": 160,
   "metadata": {},
   "outputs": [],
   "source": [
    "전체w = points.shape[0]\n",
    "버스w = 버스.shape[0]\n",
    "지하철w = 지하철.shape[0]\n",
    "주차장w = 주차장.shape[0]\n",
    "주택w = 주택.shape[0]"
   ]
  },
  {
   "cell_type": "code",
   "execution_count": 161,
   "metadata": {},
   "outputs": [],
   "source": [
    "# 가중치 by AHP 분석(데이터 불균형 * 노인 통행수단 선호도) \n",
    "m1 = (전체w-버스w)/전체w * 0.278 \n",
    "m2 = (전체w-지하철w)/전체w * 0.136 \n",
    "m3 = (전체w-주차장w)/전체w * 0.193 \n",
    "m4 = (전체w-주택w)/전체w * 0.392 "
   ]
  },
  {
   "cell_type": "code",
   "execution_count": 162,
   "metadata": {},
   "outputs": [],
   "source": [
    "# haversine -> meter 단위로 수정\n",
    "def mclp3(버스_points, 지하철_points, 주차장_points, 주택_points, points, K, radius):\n",
    "    \n",
    "    \"\"\"\n",
    "    Solve maximum covering location problem\n",
    "    Input:\n",
    "        points: 버스정류장, 지하철역 위치 좌표 등 (기타 인근에 있으면 좋은 시설 좌표)\n",
    "        K: 배치할 노인놀이터의 수\n",
    "        radius: 반경 (노인들이 이동하기 적합한 거리)\n",
    "        M: generate_candidate_sites 함수에서 생성할 random 좌표 수 (임의의 노인놀이터 수)\n",
    "        the ConvexHull wrapped by the polygon\n",
    "    Return:\n",
    "        opt_sites: locations K optimal sites, Numpy array in shape of [K,2]\n",
    "        f: the optimal value of the objective function\n",
    "    \"\"\"\n",
    "    \n",
    "    print('  Number of points %g' % points.shape[0])\n",
    "    print('  K %g' % K)\n",
    "    print('  Radius %g' % radius)\n",
    "\n",
    "    start = time.time()\n",
    "    sites = np.array([list(i) for i in zip(입지후보지['x좌표'], 입지후보지['y좌표'])])\n",
    "    J = sites.shape[0]                                         # 후보지 수\n",
    "    \n",
    "    # 수요지점 수\n",
    "    A = 버스_points.shape[0]\n",
    "    B = 지하철_points.shape[0]\n",
    "    C = 주차장_points.shape[0]\n",
    "    D = 주택_points.shape[0]\n",
    "    \n",
    "    # 후보지와 수요지점 간 거리 계산\n",
    "    D1 = []\n",
    "    for i in 버스_points:\n",
    "        site = []\n",
    "        for j in sites:\n",
    "            site.append(haversine(i, j)*1000)\n",
    "        D1.append(site)\n",
    "    D1 = np.array(D1)\n",
    "    \n",
    "    D2 = []\n",
    "    for i in 지하철_points:\n",
    "        site = []\n",
    "        for j in sites:\n",
    "            site.append(haversine(i, j)*1000)\n",
    "        D2.append(site)\n",
    "    D2 = np.array(D2)    \n",
    "    \n",
    "    D3 = []\n",
    "    for i in 주차장_points:\n",
    "        site = []\n",
    "        for j in sites:\n",
    "            site.append(haversine(i, j)*1000)\n",
    "        D3.append(site)\n",
    "    D3 = np.array(D3)\n",
    "    \n",
    "    D4 = []\n",
    "    for i in 주택_points:\n",
    "        site = []\n",
    "        for j in sites:\n",
    "            site.append(haversine(i, j)*1000)\n",
    "        D4.append(site)\n",
    "    D4 = np.array(D4)\n",
    "    \n",
    "    for i in [D1, D2, D3, D4]:\n",
    "        mask1 = i<=radius\n",
    "        i[mask1]=1                                                 # 반경 내 속하면 1, 아니면 0\n",
    "        i[~mask1]=0\n",
    "\n",
    "    m = Model()\n",
    "    x1, x2, x3, x4 = {}, {}, {}, {}\n",
    "    y = {}\n",
    "    \n",
    "    # 수요지점 변수 추가\n",
    "    for i in range(A):                                       \n",
    "        x1[i] = m.addVar(vtype=GRB.BINARY, name=\"x1%d\" % i)\n",
    "    for i in range(B):                                       \n",
    "        x2[i] = m.addVar(vtype=GRB.BINARY, name=\"x2%d\" % i)\n",
    "    for i in range(C):                                       \n",
    "        x3[i] = m.addVar(vtype=GRB.BINARY, name=\"x3%d\" % i)\n",
    "    for i in range(D):                                       \n",
    "        x4[i] = m.addVar(vtype=GRB.BINARY, name=\"x4%d\" % i)\n",
    "    \n",
    "    for j in range(J):\n",
    "        y[j] = m.addVar(vtype=GRB.BINARY, name=\"y%d\" % j)     # 후보지 변수 추가\n",
    "\n",
    "    m.update()\n",
    "    m.addConstr(quicksum(y[j] for j in range(J)) == K)        # 후보지 제약 조건\n",
    "\n",
    "    # 수요지점 제약 조건\n",
    "    for i in range(A): \n",
    "        m.addConstr(quicksum(y[j] for j in np.where(D1[i]==1)[0]) >= x1[i])\n",
    "    for i in range(B): \n",
    "        m.addConstr(quicksum(y[j] for j in np.where(D2[i]==1)[0]) >= x2[i])\n",
    "    for i in range(C): \n",
    "        m.addConstr(quicksum(y[j] for j in np.where(D3[i]==1)[0]) >= x3[i])\n",
    "    for i in range(D): \n",
    "        m.addConstr(quicksum(y[j] for j in np.where(D4[i]==1)[0]) >= x4[i])\n",
    "    \n",
    "    # 목적함수 수정\n",
    "    res=[]\n",
    "    for a,b,c,d in zip_longest(range(A),range(B),range(C),range(D), fillvalue=0):\n",
    "        w1=m1;w2=m2;w3=m3;w4=m4\n",
    "        if a==b==c==d==0:\n",
    "            w1=m1;w2=m2;w3=m3;w4=m4\n",
    "        else:\n",
    "            if b==0:\n",
    "                w2=0\n",
    "            if c==0:\n",
    "                w3=0\n",
    "            if d==0:\n",
    "                w4=0\n",
    "        res.append(w1*x1[a] + w2*x2[b] + w3*x3[c] + w4*x4[d])\n",
    "\n",
    "    m.setObjective(quicksum(i for i in res),GRB.MAXIMIZE)\n",
    "    \n",
    "    m.setParam('OutputFlag', 0)\n",
    "    m.optimize()\n",
    "    end = time.time()\n",
    "    print('----- Output -----')\n",
    "    print('  Running time : %s seconds' % float(end-start))\n",
    "    print('  Optimal coverage points: %g' % m.objVal)\n",
    "    \n",
    "    solution = []\n",
    "    if m.status == GRB.Status.OPTIMAL:\n",
    "        for v in m.getVars():\n",
    "            # print v.varName,v.x\n",
    "            if v.x==1 and v.varName[0]==\"y\":\n",
    "                solution.append(int(v.varName[1:]))\n",
    "    opt_sites = sites[solution]\n",
    "    return opt_sites,m.objVal"
   ]
  },
  {
   "cell_type": "code",
   "execution_count": 163,
   "metadata": {},
   "outputs": [
    {
     "name": "stdout",
     "output_type": "stream",
     "text": [
      "  Number of points 205\n",
      "  K 1\n",
      "  Radius 300\n",
      "----- Output -----\n",
      "  Running time : 0.018946170806884766 seconds\n",
      "  Optimal coverage points: 0.821863\n"
     ]
    },
    {
     "data": {
      "text/plain": [
       "array([[127.0848034 ,  37.56777776]])"
      ]
     },
     "execution_count": 163,
     "metadata": {},
     "output_type": "execute_result"
    }
   ],
   "source": [
    "opts_sites, mobjVal = mclp3(버스_points, 지하철_points, 주차장_points, 주택_points, points, 1, 300)\n",
    "opts_sites"
   ]
  },
  {
   "cell_type": "code",
   "execution_count": 164,
   "metadata": {},
   "outputs": [],
   "source": [
    "후보지 = pd.DataFrame(opts_sites, columns=['경도','위도'])\n",
    "후보지.to_csv('중곡3동_후보지.csv', index=False, encoding='cp949')\n",
    "\n",
    "수요지점 = pd.DataFrame(points, columns=['경도','위도'])\n",
    "수요지점.to_csv('중곡3동_수요지점.csv', index=False, encoding='cp949')\n",
    "\n",
    "버스_수요지점 = pd.DataFrame(버스_points, columns=['경도','위도'])\n",
    "버스_수요지점.to_csv('중곡3동_버스수요지점.csv', index=False, encoding='cp949')\n",
    "\n",
    "지하철_수요지점 = pd.DataFrame(지하철_points, columns=['경도','위도'])\n",
    "지하철_수요지점.to_csv('중곡3동_지하철수요지점.csv', index=False, encoding='cp949')\n",
    "\n",
    "주차장_수요지점 = pd.DataFrame(주차장_points, columns=['경도','위도'])\n",
    "주차장_수요지점.to_csv('중곡3동_주차장수요지점.csv', index=False, encoding='cp949')\n",
    "\n",
    "주택_수요지점 = pd.DataFrame(주택_points, columns=['경도','위도'])\n",
    "주택_수요지점.to_csv('중곡3동_주택수요지점.csv', index=False, encoding='cp949')"
   ]
  },
  {
   "cell_type": "code",
   "execution_count": null,
   "metadata": {},
   "outputs": [],
   "source": []
  }
 ],
 "metadata": {
  "kernelspec": {
   "display_name": "Python 3",
   "language": "python",
   "name": "python3"
  },
  "language_info": {
   "codemirror_mode": {
    "name": "ipython",
    "version": 3
   },
   "file_extension": ".py",
   "mimetype": "text/x-python",
   "name": "python",
   "nbconvert_exporter": "python",
   "pygments_lexer": "ipython3",
   "version": "3.7.3"
  }
 },
 "nbformat": 4,
 "nbformat_minor": 2
}
