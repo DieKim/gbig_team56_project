{
 "cells": [
  {
   "cell_type": "code",
   "execution_count": 2,
   "metadata": {},
   "outputs": [],
   "source": [
    "import numpy as np\n",
    "from scipy.spatial import distance_matrix\n",
    "from gurobipy import *\n",
    "from scipy.spatial import ConvexHull\n",
    "#from shapely.geometry import Polygon, Point\n",
    "from numpy import random\n",
    "import time\n",
    "import pandas as pd"
   ]
  },
  {
   "cell_type": "code",
   "execution_count": 3,
   "metadata": {},
   "outputs": [],
   "source": [
    "# 행정동 나중에 바꾸기\n",
    "입지후보지 = pd.read_csv('입지선정후보군_좌표추가.csv', encoding='EUC-KR')\n",
    "입지후보지 = 입지후보지[입지후보지['행정동'] == '석관동']\n",
    "\n",
    "버스 = pd.read_csv('서울시_버스정류장_행정동추가.csv')\n",
    "버스 = 버스[버스['행정동'].isin(['석관동','월곡2동','회기동','이문1동','이문2동','묵2동','공릉1동',\\\n",
    "                                 '월계3동','월계1동','장위1동','장위2동','장위3동'])]\n",
    "\n",
    "지하철 = pd.read_csv('서울시_지하철역_행정동추가.csv', encoding='EUC-KR', index_col=0)\n",
    "지하철 = 지하철[지하철['행정동'].isin(['석관동','월곡2동','회기동','이문1동','이문2동','묵2동','공릉1동',\\\n",
    "                                       '월계3동','월계1동','장위1동','장위2동','장위3동'])]\n",
    "\n",
    "주차장 = pd.read_csv('서울시_주차장_행정동추가.csv', encoding='EUC-KR', index_col=0).drop('Unnamed: 0.1', axis=1)\n",
    "주차장 = 주차장[주차장['행정동'].isin(['석관동','월곡2동','회기동','이문1동','이문2동','묵2동','공릉1동',\\\n",
    "                                       '월계3동','월계1동','장위1동','장위2동','장위3동'])]\n",
    "\n",
    "주택 = pd.read_csv('서울시주택_행정동추가.csv', encoding='EUC-KR', index_col=0).drop('Unnamed: 0.1', axis=1)\n",
    "주택 = 주택[주택['행정동'].isin(['석관동','월곡2동','회기동','이문1동','이문2동','묵2동','공릉1동',\\\n",
    "                                 '월계3동','월계1동','장위1동','장위2동','장위3동'])]"
   ]
  },
  {
   "cell_type": "code",
   "execution_count": 13,
   "metadata": {},
   "outputs": [],
   "source": [
    "# # 버스, 지하철, 주차장, 주택 한 번에 넣을 떄\n",
    "# X = list(버스['X좌표']) + list(지하철['경도']) + list(주차장['경도']) + list(주택['위도'])     # 주택 위도 경도 이름 바뀜\n",
    "# Y = list(버스['Y좌표']) + list(지하철['위도']) + list(주차장['위도']) + list(주택['경도'])\n",
    "# points = np.array([list(i) for i in zip(X, Y)])"
   ]
  },
  {
   "cell_type": "code",
   "execution_count": 14,
   "metadata": {},
   "outputs": [],
   "source": [
    "# 버스, 지하철, 주차장, 주택 나눠서 정의\n",
    "X = list(버스['X좌표']); Y = list(버스['Y좌표'])\n",
    "points1 = np.array([list(i) for i in zip(X, Y)])\n",
    "\n",
    "X = list(지하철['경도']); Y = list(지하철['위도'])\n",
    "points2 = np.array([list(i) for i in zip(X, Y)])\n",
    "\n",
    "X = list(주차장['경도']); Y = list(주차장['위도'])\n",
    "points3 = np.array([list(i) for i in zip(X, Y)])\n",
    "\n",
    "X = list(주택['위도']); Y = list(주택['경도'])\n",
    "points4 = np.array([list(i) for i in zip(X, Y)])"
   ]
  },
  {
   "cell_type": "code",
   "execution_count": null,
   "metadata": {},
   "outputs": [],
   "source": [
    "# 수요지점 = pd.DataFrame(points, columns=['경도','위도'])\n",
    "# 수요지점.to_csv('석관동_수요지점.csv', index=False)"
   ]
  },
  {
   "cell_type": "code",
   "execution_count": null,
   "metadata": {},
   "outputs": [],
   "source": [
    "# 문제 -> setObjective()의 수정 \n",
    "def mclp(points,K,radius):\n",
    "    \"\"\"\n",
    "    Solve maximum covering location problem\n",
    "    Input:\n",
    "        points: 버스정류장, 지하철역 위치 좌표 등 (기타 인근에 있으면 좋은 시설 좌표)\n",
    "        K: 배치할 노인놀이터의 수\n",
    "        radius: 반경 (노인들이 이동하기 적합한 거리)\n",
    "        M: generate_candidate_sites 함수에서 생성할 random 좌표 수 (임의의 노인놀이터 수)\n",
    "        the ConvexHull wrapped by the polygon\n",
    "    Return:\n",
    "        opt_sites: locations K optimal sites, Numpy array in shape of [K,2]\n",
    "        f: the optimal value of the objective function\n",
    "    \"\"\"\n",
    "    print('  Number of points %g' % points.shape[0])\n",
    "    print('  K %g' % K)\n",
    "    print('  Radius %g' % radius)\n",
    "\n",
    "    start = time.time()\n",
    "    sites = np.array([list(i) for i in zip(입지후보지['x좌표'], 입지후보지['y좌표'])])\n",
    "    J = sites.shape[0]                                         # 임의의 노인놀이터 좌표 개수\n",
    "    \n",
    "    I = points.shape[0]                                        # 버스정류장, 지하철역 위치 좌표 개수\n",
    "    \n",
    "    \n",
    "    D = distance_matrix(points,sites)                          # 노인놀이터와 버스/지하철역 좌표 간 거리 계산\n",
    "    mask1 = D<=radius\n",
    "    D[mask1]=1                                                 # 버스/지하철역 좌표별로 노인놀이터의 반경 내 속하면 1, 아니면 0\n",
    "    D[~mask1]=0\n",
    "    # Build model\n",
    "    m = Model()\n",
    "    # Add variables\n",
    "    x = {}\n",
    "    y = {}\n",
    "    for i in range(I):                                        # 버스/지하철역 좌표 개수만큼 반복\n",
    "        y[i] = m.addVar(vtype=GRB.BINARY, name=\"y%d\" % i)     # 모델에 결정 변수 추가 (변수 유형은 BINARY. 위치별 인수, 변수 이름 y+숫자)\n",
    "    for j in range(J):\n",
    "        x[j] = m.addVar(vtype=GRB.BINARY, name=\"x%d\" % j)     # 노인놀이터 좌표 개수만큼 반복하여 변수 추가\n",
    "\n",
    "    m.update()\n",
    "    # Add constraints\n",
    "    m.addConstr(quicksum(x[j] for j in range(J)) == K)\n",
    "\n",
    "    for i in range(I):\n",
    "        m.addConstr(quicksum(x[j] for j in np.where(D[i]==1)[0]) >= y[i])\n",
    "\n",
    "    m.setObjective(quicksum(y[i] for i in range(I)),GRB.MAXIMIZE)\n",
    "    m.setParam('OutputFlag', 0)\n",
    "    m.optimize()\n",
    "    end = time.time()\n",
    "    print('----- Output -----')\n",
    "    print('  Running time : %s seconds' % float(end-start))\n",
    "    print('  Optimal coverage points: %g' % m.objVal)\n",
    "    \n",
    "    solution = []\n",
    "    if m.status == GRB.Status.OPTIMAL:\n",
    "        for v in m.getVars():\n",
    "            # print v.varName,v.x\n",
    "            if v.x==1 and v.varName[0]==\"x\":\n",
    "                solution.append(int(v.varName[1:]))\n",
    "    opt_sites = sites[solution]\n",
    "    return opt_sites,m.objVal"
   ]
  }
 ],
 "metadata": {
  "kernelspec": {
   "display_name": "Python 3",
   "language": "python",
   "name": "python3"
  },
  "language_info": {
   "codemirror_mode": {
    "name": "ipython",
    "version": 3
   },
   "file_extension": ".py",
   "mimetype": "text/x-python",
   "name": "python",
   "nbconvert_exporter": "python",
   "pygments_lexer": "ipython3",
   "version": "3.7.3"
  }
 },
 "nbformat": 4,
 "nbformat_minor": 2
}
