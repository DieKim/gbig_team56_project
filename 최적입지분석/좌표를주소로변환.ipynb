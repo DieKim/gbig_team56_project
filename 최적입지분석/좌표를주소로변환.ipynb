{
 "cells": [
  {
   "cell_type": "markdown",
   "metadata": {},
   "source": [
    "# KaKao API를 이용하여 좌표->행정동 추출\n",
    "* https://wooiljeong.github.io/python/kakao_local_api/\n",
    "* https://github.com/henewsuh/KAKAO-map-API"
   ]
  },
  {
   "cell_type": "code",
   "execution_count": 11,
   "metadata": {},
   "outputs": [],
   "source": [
    "import pandas as pd\n",
    "import requests \n",
    "import sys\n",
    "import json\n",
    "import datetime "
   ]
  },
  {
   "cell_type": "code",
   "execution_count": 12,
   "metadata": {},
   "outputs": [],
   "source": [
    "def json_request(url='', encoding='utf-8', success=None, error=lambda e: print('%s : %s' % (e, datetime.now()), file=sys.stderr)):\n",
    "    headers = {'Authorization': 'KakaoAK {}'.format(APP_KEY)}\n",
    "    resp = requests.get(url, headers=headers)\n",
    "    # print('%s : success for request [%s]' % (datetime.now(), url))\n",
    "    return resp.text\n",
    "\n",
    "\n",
    "def reverse_geocode(longitude, latitude):\n",
    "    # 파라미터 최적화하여 url 생성\n",
    "    url = '%s?x=%s&y=%s' %(URL, longitude, latitude)\n",
    "    # json request\n",
    "    try:\n",
    "        # print('try')\n",
    "        json_req = json_request(url=url)\n",
    "        json_data = json.loads(json_req)\n",
    "        json_doc = json_data.get('documents')[0]\n",
    "        json_name = json_doc.get('address_name')\n",
    "        json_code = json_doc.get('code')\n",
    "    except:\n",
    "        # print('nan')\n",
    "        json_name = 'NaN'\n",
    "        json_code = 'NaN'\n",
    "    return json_name, json_code\n",
    "\n",
    " \n",
    "def get_address(x,y):\n",
    "    address = []        \n",
    "    json_name, json_code = reverse_geocode(x, y) \n",
    "    address.append(json_name)\n",
    "    return address # 전처리 함수에서 주소 리스트 받아서 데이터프레임에 추가\n",
    "\n",
    "\n",
    "def get_code(x,y):\n",
    "    code = []        \n",
    "    json_name, json_code = reverse_geocode(x, y) \n",
    "    code.append(json_code)\n",
    "    return code # 전처리 함수에서 행정구역코드 리스트 받아서 데이터프레임에 추가"
   ]
  },
  {
   "cell_type": "code",
   "execution_count": 18,
   "metadata": {},
   "outputs": [
    {
     "name": "stderr",
     "output_type": "stream",
     "text": [
      "C:\\Users\\USER\\Anaconda3\\lib\\site-packages\\pandas\\core\\indexing.py:362: SettingWithCopyWarning: \n",
      "A value is trying to be set on a copy of a slice from a DataFrame.\n",
      "Try using .loc[row_indexer,col_indexer] = value instead\n",
      "\n",
      "See the caveats in the documentation: http://pandas.pydata.org/pandas-docs/stable/indexing.html#indexing-view-versus-copy\n",
      "  self.obj[key] = _infer_fill_value(value)\n",
      "C:\\Users\\USER\\Anaconda3\\lib\\site-packages\\pandas\\core\\indexing.py:543: SettingWithCopyWarning: \n",
      "A value is trying to be set on a copy of a slice from a DataFrame.\n",
      "Try using .loc[row_indexer,col_indexer] = value instead\n",
      "\n",
      "See the caveats in the documentation: http://pandas.pydata.org/pandas-docs/stable/indexing.html#indexing-view-versus-copy\n",
      "  self.obj[item] = s\n"
     ]
    },
    {
     "name": "stdout",
     "output_type": "stream",
     "text": [
      "0 번째 경위도 좌표계에 대한 정보 불러오는 중...\n",
      "100 번째 경위도 좌표계에 대한 정보 불러오는 중...\n",
      "200 번째 경위도 좌표계에 대한 정보 불러오는 중...\n",
      "300 번째 경위도 좌표계에 대한 정보 불러오는 중...\n",
      "400 번째 경위도 좌표계에 대한 정보 불러오는 중...\n",
      "500 번째 경위도 좌표계에 대한 정보 불러오는 중...\n",
      "600 번째 경위도 좌표계에 대한 정보 불러오는 중...\n",
      "700 번째 경위도 좌표계에 대한 정보 불러오는 중...\n",
      "800 번째 경위도 좌표계에 대한 정보 불러오는 중...\n",
      "900 번째 경위도 좌표계에 대한 정보 불러오는 중...\n",
      "1000 번째 경위도 좌표계에 대한 정보 불러오는 중...\n",
      "1100 번째 경위도 좌표계에 대한 정보 불러오는 중...\n",
      "1200 번째 경위도 좌표계에 대한 정보 불러오는 중...\n",
      "1300 번째 경위도 좌표계에 대한 정보 불러오는 중...\n",
      "1400 번째 경위도 좌표계에 대한 정보 불러오는 중...\n",
      "1500 번째 경위도 좌표계에 대한 정보 불러오는 중...\n",
      "1600 번째 경위도 좌표계에 대한 정보 불러오는 중...\n",
      "1700 번째 경위도 좌표계에 대한 정보 불러오는 중...\n",
      "1800 번째 경위도 좌표계에 대한 정보 불러오는 중...\n",
      "1900 번째 경위도 좌표계에 대한 정보 불러오는 중...\n",
      "2000 번째 경위도 좌표계에 대한 정보 불러오는 중...\n",
      "2100 번째 경위도 좌표계에 대한 정보 불러오는 중...\n",
      "2200 번째 경위도 좌표계에 대한 정보 불러오는 중...\n",
      "2300 번째 경위도 좌표계에 대한 정보 불러오는 중...\n",
      "2400 번째 경위도 좌표계에 대한 정보 불러오는 중...\n",
      "2500 번째 경위도 좌표계에 대한 정보 불러오는 중...\n",
      "2600 번째 경위도 좌표계에 대한 정보 불러오는 중...\n",
      "2700 번째 경위도 좌표계에 대한 정보 불러오는 중...\n"
     ]
    }
   ],
   "source": [
    "APP_KEY = 'dc725f4d966ac26498c7388d7746eaaa' \n",
    "URL = 'https://dapi.kakao.com/v2/local/geo/coord2regioncode.json'\n",
    "\n",
    "df_all = pd.read_csv('입지선정후보군데이터.csv', encoding='cp949') \n",
    "df = df_all[['분류', '시설명', 'x좌표', 'y좌표']] \n",
    "\n",
    "for i in range(len(df)): \n",
    "    x_crd = float(df.loc[i, ['x좌표']])\n",
    "    y_crd = float(df.loc[i, ['y좌표']])\n",
    "    address = get_address(x_crd, y_crd)\n",
    "    code = get_code(x_crd, y_crd)\n",
    "    df.loc[i, 'ADDRESS'] = address\n",
    "    df.loc[i, 'CODE'] = code\n",
    "    \n",
    "    if i%100 == 0:\n",
    "        print('{} 번째 경위도 좌표계에 대한 정보 불러오는 중...'.format(i))"
   ]
  },
  {
   "cell_type": "code",
   "execution_count": 24,
   "metadata": {},
   "outputs": [],
   "source": [
    "df = df[['분류', '시설명', 'x좌표', 'y좌표', 'ADDRESS']]\n",
    "df = df.rename(columns={'ADDRESS': '행정동'})"
   ]
  },
  {
   "cell_type": "code",
   "execution_count": 32,
   "metadata": {},
   "outputs": [],
   "source": [
    "def hangjungdong(x):\n",
    "    return x.split()[-1]\n",
    "\n",
    "df['행정동'] = df['행정동'].apply(hangjungdong)"
   ]
  },
  {
   "cell_type": "code",
   "execution_count": 31,
   "metadata": {},
   "outputs": [
    {
     "name": "stdout",
     "output_type": "stream",
     "text": [
      "287\n",
      "['석관동' '장위동' '하월곡동' '삼선동1가' '종암동' '상월곡동' '정릉동' '아현동' '서교동' '쌍문동' '창동'\n",
      " '신원동' '명륜3가' '천연동' '홍제동' '신당동' '신림동' '와룡동' '보문동7가' '보문동1가' '반포동' '암사동'\n",
      " '안암동2가' '돈암동' '길음동' '남가좌동' '영등포동' '방이동' '사직동' '시흥동' '신수동' '월계동' '대흥동'\n",
      " '홍은동' '북가좌동' '광장동' '구로동' '도봉동' '상계동' '창전동' '공덕동' '도화동' '방학동' '연남동' '개봉동'\n",
      " '성산동' '신도림동' '고척동' '북아현동' '영천동' '방배동' '대치동' '오류동' '양재동' '공항동' '서초동'\n",
      " '명륜4가' '내곡동' '가양동' '개포동' '일원동' '신사동' '사당동' '상도동' '흑석동' '대방동' '봉천동' '본동'\n",
      " '동작동' '도곡동' '우면동' '잠원동' '신월동' '방화동' '역삼동' '염곡동' '염창동' '내발산동' '화곡동' '등촌동'\n",
      " '명륜2가' '면목동' '중화동' '연건동' '논현동' '상수동' '상암동' '합정동' '청담동' '독산동' '장충동2가'\n",
      " '성수동1가' '목동' '중계동' '고덕동' '수서동' '자곡동' '용강동' '잠실동' '옥인동' '현석동' '효창동' '후암동'\n",
      " '망원동' '자양동' '진관동' '상일동' '마장동' '신공덕동' '삼성동' '신정동' '응암동' '불광동' '사근동' '공릉동'\n",
      " '송파동' '압구정동' '오금동' '세곡동' '한남동' '응봉동' '하계동' '염리동' '번동' '안암동5가' '구의동' '갈현동'\n",
      " '창신동' '녹번동' '당인동' '대조동' '동교동' '답십리동' '마곡동' '마포동' '망우동' '가산동' '어진동' '중동'\n",
      " '역촌동' '필운동' '풍납동' '항동' '구산동' '문배동' '이촌동' '이문동' '중곡동' '증산동' 'NaN' '장안동'\n",
      " '신대방동' '성북동' '부암동' '갈월동' '궁동' '수유동' '도림동' '만리동1가' '신영동' '평창동' '천왕동' '신천동'\n",
      " '율현동' '명일동' '천호동' '성내동' '둔촌동' '강일동' '길동' '신내동' '석촌동' '삼전동' '마천동' '미아동'\n",
      " '우이동' '전호리' '거여동' '가락동' '장지동' '문정동' '원효로3가' '서계동' '동자동' '이태원동' '청파동3가'\n",
      " '신계동' '용산동3가' '용산동6가' '도원동' '한강로1가' '신창동' '용산동5가' '한강로3가' '서린동' '신문로1가'\n",
      " '신문로2가' '숭인동' '동숭동' '삼청동' '종로6가' '수송동' '송월동' '행촌동' '무악동' '청진동' '명륜1가'\n",
      " '원서동' '종로2가' '효제동' '연지동' '내수동' '노고산동' '순화동' '을지로2가' '쌍림동' '무교동' '태평로1가'\n",
      " '의주로1가' '정동' '만리동2가' '다동' '서소문동' '중림동' '삼각동' '명동1가' '을지로6가' '충무로5가'\n",
      " '광희동1가' '황학동' '저동1가' '수색동' '상도1동' '노량진동' '묵동' '전농동' '휘경동' '제기동' '신설동'\n",
      " '청량리동' '원지동' '남학동' '주성동' '금호동3가' '온수동' '보문동6가' '삼선동3가' '외발산동' '성수동2가'\n",
      " '송정동' '금호동2가' '옥수동' '하왕십리동' '상왕십리동' '금호동4가' '행당동' '홍익동' '용답동' '상봉동'\n",
      " '삼선동2가' '보문동3가' '화양동' '군자동' '능동' '남현동' '연희동' '창천동' '현저동' '합동' '대현동' '신길동'\n",
      " '문래동6가' '문래동4가' '당산동5가' '대림동' '당산동4가' '문래동5가' '영등포동7가' '당산동3가' '영등포동6가'\n",
      " '여의도동' '당산동6가' '양평동1가' '양화동' '양평동4가' '영등포동2가' '문래동3가']\n"
     ]
    }
   ],
   "source": [
    "print(df.행정동.nunique())\n",
    "print(df.행정동.unique())"
   ]
  },
  {
   "cell_type": "code",
   "execution_count": 38,
   "metadata": {},
   "outputs": [],
   "source": [
    "#df.to_csv('입지선정후보군데이터.csv', encoding='cp949')"
   ]
  },
  {
   "cell_type": "markdown",
   "metadata": {},
   "source": [
    "### 그 외 추가 작업은 엑셀"
   ]
  },
  {
   "cell_type": "code",
   "execution_count": 43,
   "metadata": {},
   "outputs": [],
   "source": [
    "a = pd.read_csv(\"pos00006m.csv\", encoding='utf-8')\n",
    "a.to_csv(\"encoding.csv\", encoding='cp949')"
   ]
  }
 ],
 "metadata": {
  "kernelspec": {
   "display_name": "Python 3",
   "language": "python",
   "name": "python3"
  },
  "language_info": {
   "codemirror_mode": {
    "name": "ipython",
    "version": 3
   },
   "file_extension": ".py",
   "mimetype": "text/x-python",
   "name": "python",
   "nbconvert_exporter": "python",
   "pygments_lexer": "ipython3",
   "version": "3.7.3"
  }
 },
 "nbformat": 4,
 "nbformat_minor": 2
}
